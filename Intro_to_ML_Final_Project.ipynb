{
  "cells": [
    {
      "cell_type": "markdown",
      "metadata": {
        "id": "jx0b5_tAKdzX"
      },
      "source": [
        "# Final Project - Disaster Tweets Analysis\n",
        "The task of this project is to classify Twitter tweets into two categories: talking or not talking about a disaster. This problem is solved through different deep learning techniques in the field of natural language processing (or NLP). Models cannot easily understand the complex patterns of language as easily as they can the correlations between numbers. How do you capture the meaning of \"disaster\"? How do know when a Twitter user is talking about \"fire\" in terms of a party or a burning house? These are just some examples that our model will have to solve to accurately classify whether a tweet is talking about a disaster or not.\n"
      ]
    },
    {
      "cell_type": "markdown",
      "metadata": {},
      "source": [
        "## Installations"
      ]
    },
    {
      "cell_type": "code",
      "execution_count": 2,
      "metadata": {
        "colab": {
          "base_uri": "https://localhost:8080/"
        },
        "id": "63fVAQhKBLwN",
        "outputId": "3d737be4-2318-48a8-87cb-6a28935dd359"
      },
      "outputs": [
        {
          "name": "stdout",
          "output_type": "stream",
          "text": [
            "Requirement already satisfied: pandas in ./venv/lib/python3.11/site-packages (2.2.2)\n",
            "Requirement already satisfied: numpy in ./venv/lib/python3.11/site-packages (1.26.4)\n",
            "Requirement already satisfied: matplotlib in ./venv/lib/python3.11/site-packages (3.8.4)\n",
            "Requirement already satisfied: tensorflow in ./venv/lib/python3.11/site-packages (2.16.1)\n",
            "Requirement already satisfied: setuptools in ./venv/lib/python3.11/site-packages (68.2.2)\n",
            "Requirement already satisfied: python-dateutil>=2.8.2 in ./venv/lib/python3.11/site-packages (from pandas) (2.9.0.post0)\n",
            "Requirement already satisfied: pytz>=2020.1 in ./venv/lib/python3.11/site-packages (from pandas) (2024.1)\n",
            "Requirement already satisfied: tzdata>=2022.7 in ./venv/lib/python3.11/site-packages (from pandas) (2024.1)\n",
            "Requirement already satisfied: contourpy>=1.0.1 in ./venv/lib/python3.11/site-packages (from matplotlib) (1.2.1)\n",
            "Requirement already satisfied: cycler>=0.10 in ./venv/lib/python3.11/site-packages (from matplotlib) (0.12.1)\n",
            "Requirement already satisfied: fonttools>=4.22.0 in ./venv/lib/python3.11/site-packages (from matplotlib) (4.51.0)\n",
            "Requirement already satisfied: kiwisolver>=1.3.1 in ./venv/lib/python3.11/site-packages (from matplotlib) (1.4.5)\n",
            "Requirement already satisfied: packaging>=20.0 in ./venv/lib/python3.11/site-packages (from matplotlib) (24.0)\n",
            "Requirement already satisfied: pillow>=8 in ./venv/lib/python3.11/site-packages (from matplotlib) (10.3.0)\n",
            "Requirement already satisfied: pyparsing>=2.3.1 in ./venv/lib/python3.11/site-packages (from matplotlib) (3.1.2)\n",
            "Requirement already satisfied: absl-py>=1.0.0 in ./venv/lib/python3.11/site-packages (from tensorflow) (2.1.0)\n",
            "Requirement already satisfied: astunparse>=1.6.0 in ./venv/lib/python3.11/site-packages (from tensorflow) (1.6.3)\n",
            "Requirement already satisfied: flatbuffers>=23.5.26 in ./venv/lib/python3.11/site-packages (from tensorflow) (24.3.25)\n",
            "Requirement already satisfied: gast!=0.5.0,!=0.5.1,!=0.5.2,>=0.2.1 in ./venv/lib/python3.11/site-packages (from tensorflow) (0.5.4)\n",
            "Requirement already satisfied: google-pasta>=0.1.1 in ./venv/lib/python3.11/site-packages (from tensorflow) (0.2.0)\n",
            "Requirement already satisfied: h5py>=3.10.0 in ./venv/lib/python3.11/site-packages (from tensorflow) (3.11.0)\n",
            "Requirement already satisfied: libclang>=13.0.0 in ./venv/lib/python3.11/site-packages (from tensorflow) (18.1.1)\n",
            "Requirement already satisfied: ml-dtypes~=0.3.1 in ./venv/lib/python3.11/site-packages (from tensorflow) (0.3.2)\n",
            "Requirement already satisfied: opt-einsum>=2.3.2 in ./venv/lib/python3.11/site-packages (from tensorflow) (3.3.0)\n",
            "Requirement already satisfied: protobuf!=4.21.0,!=4.21.1,!=4.21.2,!=4.21.3,!=4.21.4,!=4.21.5,<5.0.0dev,>=3.20.3 in ./venv/lib/python3.11/site-packages (from tensorflow) (4.25.3)\n",
            "Requirement already satisfied: requests<3,>=2.21.0 in ./venv/lib/python3.11/site-packages (from tensorflow) (2.31.0)\n",
            "Requirement already satisfied: six>=1.12.0 in ./venv/lib/python3.11/site-packages (from tensorflow) (1.16.0)\n",
            "Requirement already satisfied: termcolor>=1.1.0 in ./venv/lib/python3.11/site-packages (from tensorflow) (2.4.0)\n",
            "Requirement already satisfied: typing-extensions>=3.6.6 in ./venv/lib/python3.11/site-packages (from tensorflow) (4.11.0)\n",
            "Requirement already satisfied: wrapt>=1.11.0 in ./venv/lib/python3.11/site-packages (from tensorflow) (1.16.0)\n",
            "Requirement already satisfied: grpcio<2.0,>=1.24.3 in ./venv/lib/python3.11/site-packages (from tensorflow) (1.62.2)\n",
            "Requirement already satisfied: tensorboard<2.17,>=2.16 in ./venv/lib/python3.11/site-packages (from tensorflow) (2.16.2)\n",
            "Requirement already satisfied: keras>=3.0.0 in ./venv/lib/python3.11/site-packages (from tensorflow) (3.2.1)\n",
            "Requirement already satisfied: tensorflow-io-gcs-filesystem>=0.23.1 in ./venv/lib/python3.11/site-packages (from tensorflow) (0.36.0)\n",
            "Requirement already satisfied: wheel<1.0,>=0.23.0 in ./venv/lib/python3.11/site-packages (from astunparse>=1.6.0->tensorflow) (0.43.0)\n",
            "Requirement already satisfied: rich in ./venv/lib/python3.11/site-packages (from keras>=3.0.0->tensorflow) (13.7.1)\n",
            "Requirement already satisfied: namex in ./venv/lib/python3.11/site-packages (from keras>=3.0.0->tensorflow) (0.0.8)\n",
            "Requirement already satisfied: optree in ./venv/lib/python3.11/site-packages (from keras>=3.0.0->tensorflow) (0.11.0)\n",
            "Requirement already satisfied: charset-normalizer<4,>=2 in ./venv/lib/python3.11/site-packages (from requests<3,>=2.21.0->tensorflow) (3.3.2)\n",
            "Requirement already satisfied: idna<4,>=2.5 in ./venv/lib/python3.11/site-packages (from requests<3,>=2.21.0->tensorflow) (3.7)\n",
            "Requirement already satisfied: urllib3<3,>=1.21.1 in ./venv/lib/python3.11/site-packages (from requests<3,>=2.21.0->tensorflow) (2.2.1)\n",
            "Requirement already satisfied: certifi>=2017.4.17 in ./venv/lib/python3.11/site-packages (from requests<3,>=2.21.0->tensorflow) (2024.2.2)\n",
            "Requirement already satisfied: markdown>=2.6.8 in ./venv/lib/python3.11/site-packages (from tensorboard<2.17,>=2.16->tensorflow) (3.6)\n",
            "Requirement already satisfied: tensorboard-data-server<0.8.0,>=0.7.0 in ./venv/lib/python3.11/site-packages (from tensorboard<2.17,>=2.16->tensorflow) (0.7.2)\n",
            "Requirement already satisfied: werkzeug>=1.0.1 in ./venv/lib/python3.11/site-packages (from tensorboard<2.17,>=2.16->tensorflow) (3.0.2)\n",
            "Requirement already satisfied: MarkupSafe>=2.1.1 in ./venv/lib/python3.11/site-packages (from werkzeug>=1.0.1->tensorboard<2.17,>=2.16->tensorflow) (2.1.5)\n",
            "Requirement already satisfied: markdown-it-py>=2.2.0 in ./venv/lib/python3.11/site-packages (from rich->keras>=3.0.0->tensorflow) (3.0.0)\n",
            "Requirement already satisfied: pygments<3.0.0,>=2.13.0 in ./venv/lib/python3.11/site-packages (from rich->keras>=3.0.0->tensorflow) (2.17.2)\n",
            "Requirement already satisfied: mdurl~=0.1 in ./venv/lib/python3.11/site-packages (from markdown-it-py>=2.2.0->rich->keras>=3.0.0->tensorflow) (0.1.2)\n",
            "\n",
            "\u001b[1m[\u001b[0m\u001b[34;49mnotice\u001b[0m\u001b[1;39;49m]\u001b[0m\u001b[39;49m A new release of pip is available: \u001b[0m\u001b[31;49m23.3.1\u001b[0m\u001b[39;49m -> \u001b[0m\u001b[32;49m24.0\u001b[0m\n",
            "\u001b[1m[\u001b[0m\u001b[34;49mnotice\u001b[0m\u001b[1;39;49m]\u001b[0m\u001b[39;49m To update, run: \u001b[0m\u001b[32;49mpip install --upgrade pip\u001b[0m\n"
          ]
        }
      ],
      "source": [
        "!pip3 install pandas numpy matplotlib tensorflow setuptools"
      ]
    },
    {
      "cell_type": "code",
      "execution_count": 3,
      "metadata": {
        "id": "YiJq2iXmMd07"
      },
      "outputs": [],
      "source": [
        "import tensorflow as tf\n",
        "import pandas as pd\n",
        "import numpy as np\n",
        "import matplotlib.pyplot as plt"
      ]
    },
    {
      "cell_type": "code",
      "execution_count": 21,
      "metadata": {
        "colab": {
          "base_uri": "https://localhost:8080/"
        },
        "id": "voSFUYgSBLwQ",
        "outputId": "40f2abfd-4462-44f2-d873-568d0f337ab7"
      },
      "outputs": [
        {
          "name": "stdout",
          "output_type": "stream",
          "text": [
            "--2024-04-19 22:45:50--  https://raw.githubusercontent.com/DavidUlloa6310/disaster_tweets/main/test.csv\n",
            "Resolving raw.githubusercontent.com (raw.githubusercontent.com)... 2606:50c0:8000::154, 2606:50c0:8002::154, 2606:50c0:8003::154, ...\n",
            "Connecting to raw.githubusercontent.com (raw.githubusercontent.com)|2606:50c0:8000::154|:443... connected.\n",
            "HTTP request sent, awaiting response... 200 OK\n",
            "Length: 420783 (411K) [text/plain]\n",
            "Saving to: ‘test.csv’\n",
            "\n",
            "test.csv            100%[===================>] 410.92K  --.-KB/s    in 0.02s   \n",
            "\n",
            "2024-04-19 22:45:50 (17.0 MB/s) - ‘test.csv’ saved [420783/420783]\n",
            "\n",
            "--2024-04-19 22:45:50--  https://raw.githubusercontent.com/DavidUlloa6310/disaster_tweets/main/train.csv\n",
            "Resolving raw.githubusercontent.com (raw.githubusercontent.com)... 2606:50c0:8000::154, 2606:50c0:8002::154, 2606:50c0:8003::154, ...\n",
            "Connecting to raw.githubusercontent.com (raw.githubusercontent.com)|2606:50c0:8000::154|:443... connected.\n",
            "HTTP request sent, awaiting response... 200 OK\n",
            "Length: 987712 (965K) [text/plain]\n",
            "Saving to: ‘train.csv’\n",
            "\n",
            "train.csv           100%[===================>] 964.56K  --.-KB/s    in 0.04s   \n",
            "\n",
            "2024-04-19 22:45:50 (25.5 MB/s) - ‘train.csv’ saved [987712/987712]\n",
            "\n"
          ]
        }
      ],
      "source": [
        "# Collect data from public GH repo\n",
        "!wget -O test.csv https://raw.githubusercontent.com/DavidUlloa6310/disaster_tweets/main/test.csv\n",
        "!wget -O train.csv https://raw.githubusercontent.com/DavidUlloa6310/disaster_tweets/main/train.csv"
      ]
    },
    {
      "cell_type": "markdown",
      "metadata": {},
      "source": [
        "## Data Exploration\n",
        "Before we can begin building and basing solutions on the data, we must first understand it's features. From the most important features or interesting aspects of our data, we can start building."
      ]
    },
    {
      "cell_type": "code",
      "execution_count": 24,
      "metadata": {
        "colab": {
          "base_uri": "https://localhost:8080/",
          "height": 224
        },
        "id": "D1Cfh4L6KpzL",
        "outputId": "8001d030-75f8-412f-e229-f9c5333f4b40"
      },
      "outputs": [
        {
          "data": {
            "text/plain": [
              "'Training Data'"
            ]
          },
          "metadata": {},
          "output_type": "display_data"
        },
        {
          "data": {
            "text/html": [
              "<div>\n",
              "<style scoped>\n",
              "    .dataframe tbody tr th:only-of-type {\n",
              "        vertical-align: middle;\n",
              "    }\n",
              "\n",
              "    .dataframe tbody tr th {\n",
              "        vertical-align: top;\n",
              "    }\n",
              "\n",
              "    .dataframe thead th {\n",
              "        text-align: right;\n",
              "    }\n",
              "</style>\n",
              "<table border=\"1\" class=\"dataframe\">\n",
              "  <thead>\n",
              "    <tr style=\"text-align: right;\">\n",
              "      <th></th>\n",
              "      <th>id</th>\n",
              "      <th>keyword</th>\n",
              "      <th>location</th>\n",
              "      <th>text</th>\n",
              "      <th>target</th>\n",
              "    </tr>\n",
              "  </thead>\n",
              "  <tbody>\n",
              "    <tr>\n",
              "      <th>0</th>\n",
              "      <td>1</td>\n",
              "      <td>NaN</td>\n",
              "      <td>NaN</td>\n",
              "      <td>Our Deeds are the Reason of this #earthquake M...</td>\n",
              "      <td>1</td>\n",
              "    </tr>\n",
              "    <tr>\n",
              "      <th>1</th>\n",
              "      <td>4</td>\n",
              "      <td>NaN</td>\n",
              "      <td>NaN</td>\n",
              "      <td>Forest fire near La Ronge Sask. Canada</td>\n",
              "      <td>1</td>\n",
              "    </tr>\n",
              "    <tr>\n",
              "      <th>2</th>\n",
              "      <td>5</td>\n",
              "      <td>NaN</td>\n",
              "      <td>NaN</td>\n",
              "      <td>All residents asked to 'shelter in place' are ...</td>\n",
              "      <td>1</td>\n",
              "    </tr>\n",
              "    <tr>\n",
              "      <th>3</th>\n",
              "      <td>6</td>\n",
              "      <td>NaN</td>\n",
              "      <td>NaN</td>\n",
              "      <td>13,000 people receive #wildfires evacuation or...</td>\n",
              "      <td>1</td>\n",
              "    </tr>\n",
              "    <tr>\n",
              "      <th>4</th>\n",
              "      <td>7</td>\n",
              "      <td>NaN</td>\n",
              "      <td>NaN</td>\n",
              "      <td>Just got sent this photo from Ruby #Alaska as ...</td>\n",
              "      <td>1</td>\n",
              "    </tr>\n",
              "  </tbody>\n",
              "</table>\n",
              "</div>"
            ],
            "text/plain": [
              "   id keyword location                                               text  \\\n",
              "0   1     NaN      NaN  Our Deeds are the Reason of this #earthquake M...   \n",
              "1   4     NaN      NaN             Forest fire near La Ronge Sask. Canada   \n",
              "2   5     NaN      NaN  All residents asked to 'shelter in place' are ...   \n",
              "3   6     NaN      NaN  13,000 people receive #wildfires evacuation or...   \n",
              "4   7     NaN      NaN  Just got sent this photo from Ruby #Alaska as ...   \n",
              "\n",
              "   target  \n",
              "0       1  \n",
              "1       1  \n",
              "2       1  \n",
              "3       1  \n",
              "4       1  "
            ]
          },
          "metadata": {},
          "output_type": "display_data"
        },
        {
          "data": {
            "text/plain": [
              "'Test Data'"
            ]
          },
          "metadata": {},
          "output_type": "display_data"
        },
        {
          "data": {
            "text/html": [
              "<div>\n",
              "<style scoped>\n",
              "    .dataframe tbody tr th:only-of-type {\n",
              "        vertical-align: middle;\n",
              "    }\n",
              "\n",
              "    .dataframe tbody tr th {\n",
              "        vertical-align: top;\n",
              "    }\n",
              "\n",
              "    .dataframe thead th {\n",
              "        text-align: right;\n",
              "    }\n",
              "</style>\n",
              "<table border=\"1\" class=\"dataframe\">\n",
              "  <thead>\n",
              "    <tr style=\"text-align: right;\">\n",
              "      <th></th>\n",
              "      <th>id</th>\n",
              "      <th>keyword</th>\n",
              "      <th>location</th>\n",
              "      <th>text</th>\n",
              "    </tr>\n",
              "  </thead>\n",
              "  <tbody>\n",
              "    <tr>\n",
              "      <th>0</th>\n",
              "      <td>0</td>\n",
              "      <td>NaN</td>\n",
              "      <td>NaN</td>\n",
              "      <td>Just happened a terrible car crash</td>\n",
              "    </tr>\n",
              "    <tr>\n",
              "      <th>1</th>\n",
              "      <td>2</td>\n",
              "      <td>NaN</td>\n",
              "      <td>NaN</td>\n",
              "      <td>Heard about #earthquake is different cities, s...</td>\n",
              "    </tr>\n",
              "    <tr>\n",
              "      <th>2</th>\n",
              "      <td>3</td>\n",
              "      <td>NaN</td>\n",
              "      <td>NaN</td>\n",
              "      <td>there is a forest fire at spot pond, geese are...</td>\n",
              "    </tr>\n",
              "    <tr>\n",
              "      <th>3</th>\n",
              "      <td>9</td>\n",
              "      <td>NaN</td>\n",
              "      <td>NaN</td>\n",
              "      <td>Apocalypse lighting. #Spokane #wildfires</td>\n",
              "    </tr>\n",
              "    <tr>\n",
              "      <th>4</th>\n",
              "      <td>11</td>\n",
              "      <td>NaN</td>\n",
              "      <td>NaN</td>\n",
              "      <td>Typhoon Soudelor kills 28 in China and Taiwan</td>\n",
              "    </tr>\n",
              "  </tbody>\n",
              "</table>\n",
              "</div>"
            ],
            "text/plain": [
              "   id keyword location                                               text\n",
              "0   0     NaN      NaN                 Just happened a terrible car crash\n",
              "1   2     NaN      NaN  Heard about #earthquake is different cities, s...\n",
              "2   3     NaN      NaN  there is a forest fire at spot pond, geese are...\n",
              "3   9     NaN      NaN           Apocalypse lighting. #Spokane #wildfires\n",
              "4  11     NaN      NaN      Typhoon Soudelor kills 28 in China and Taiwan"
            ]
          },
          "metadata": {},
          "output_type": "display_data"
        }
      ],
      "source": [
        "# Load data with pandas\n",
        "train_data = pd.read_csv(\"./train.csv\")\n",
        "test_data = pd.read_csv(\"./test.csv\")\n",
        "\n",
        "display(\"Training Data\", train_data.head())\n",
        "display(\"Test Data\", test_data.head())"
      ]
    },
    {
      "cell_type": "code",
      "execution_count": 39,
      "metadata": {},
      "outputs": [
        {
          "name": "stdout",
          "output_type": "stream",
          "text": [
            "7552 7613\n"
          ]
        }
      ],
      "source": [
        "none_null = train_data['keyword'].dropna(inplace = False)\n",
        "print(len(none_null), len(train_data))"
      ]
    },
    {
      "cell_type": "code",
      "execution_count": 40,
      "metadata": {},
      "outputs": [
        {
          "name": "stdout",
          "output_type": "stream",
          "text": [
            "7552 7613\n"
          ]
        }
      ],
      "source": [
        "none_null = train_data['keyword'].dropna(inplace = False)\n",
        "print(len(none_null), len(train_data))"
      ]
    },
    {
      "cell_type": "markdown",
      "metadata": {},
      "source": [
        "Despite `keyword` and `location` seemingly beign NaN for the head - it's actually not NaN for most rows. For our project, we're only going to use the text of the tweet and the label of whether or not the tweet describes a disaster. Let's perform that data, label split."
      ]
    },
    {
      "cell_type": "code",
      "execution_count": 42,
      "metadata": {},
      "outputs": [
        {
          "name": "stdout",
          "output_type": "stream",
          "text": [
            "The shape of the training data with only the text is: (7613, 1)\n"
          ]
        }
      ],
      "source": [
        "complete_x = np.array(train_data[[\"text\"]])\n",
        "complete_y = np.array(train_data[[\"target\"]])\n",
        "\n",
        "# Get Shape\n",
        "shape = complete_x.shape\n",
        "print(f\"The shape of the training data with only the text is: {shape}\")\n",
        "\n",
        "# Create a vector of indices and shuffle them\n",
        "indices = np.arange(shape[0])\n",
        "np.random.shuffle(indices)\n",
        "\n",
        "cutoff_index = int(shape[0] * 0.80)\n",
        "\n",
        "train_indices = indices[:cutoff_index]\n",
        "val_indices = indices[cutoff_index:]\n",
        "\n",
        "# Get training and validation data from the shuffled indices\n",
        "train_X = complete_x[train_indices]\n",
        "train_Y = complete_y[train_indices]\n",
        "val_X = complete_x[val_indices]\n",
        "val_Y = complete_y[val_indices]"
      ]
    },
    {
      "cell_type": "markdown",
      "metadata": {
        "id": "cTGlICq3BLwR"
      },
      "source": [
        "An important question from the text data specifically is what are the words in the data. For example, if we assign each word a unique token, how many times does this word show up in the data? Luckily, TensorFlow has a `TextVectorization` function that help us find this."
      ]
    },
    {
      "cell_type": "code",
      "execution_count": 6,
      "metadata": {
        "colab": {
          "base_uri": "https://localhost:8080/",
          "height": 1000
        },
        "id": "6meqi8BYW6bY",
        "outputId": "46b020fa-e209-4019-a3d5-db387fce8b6b"
      },
      "outputs": [
        {
          "data": {
            "text/plain": [
              "'--Vocabulary--'"
            ]
          },
          "metadata": {},
          "output_type": "display_data"
        },
        {
          "data": {
            "text/plain": [
              "'0:   '"
            ]
          },
          "metadata": {},
          "output_type": "display_data"
        },
        {
          "data": {
            "text/plain": [
              "'1: [UNK]  '"
            ]
          },
          "metadata": {},
          "output_type": "display_data"
        },
        {
          "data": {
            "text/plain": [
              "'2: the  '"
            ]
          },
          "metadata": {},
          "output_type": "display_data"
        },
        {
          "data": {
            "text/plain": [
              "'3: a  '"
            ]
          },
          "metadata": {},
          "output_type": "display_data"
        },
        {
          "data": {
            "text/plain": [
              "'4: in  '"
            ]
          },
          "metadata": {},
          "output_type": "display_data"
        },
        {
          "data": {
            "text/plain": [
              "'5: to  '"
            ]
          },
          "metadata": {},
          "output_type": "display_data"
        },
        {
          "data": {
            "text/plain": [
              "'6: of  '"
            ]
          },
          "metadata": {},
          "output_type": "display_data"
        },
        {
          "data": {
            "text/plain": [
              "'7: and  '"
            ]
          },
          "metadata": {},
          "output_type": "display_data"
        },
        {
          "data": {
            "text/plain": [
              "'8: i  '"
            ]
          },
          "metadata": {},
          "output_type": "display_data"
        },
        {
          "data": {
            "text/plain": [
              "'9: is  '"
            ]
          },
          "metadata": {},
          "output_type": "display_data"
        },
        {
          "data": {
            "text/plain": [
              "'10: for  '"
            ]
          },
          "metadata": {},
          "output_type": "display_data"
        },
        {
          "data": {
            "text/plain": [
              "'11: on  '"
            ]
          },
          "metadata": {},
          "output_type": "display_data"
        },
        {
          "data": {
            "text/plain": [
              "'12: you  '"
            ]
          },
          "metadata": {},
          "output_type": "display_data"
        },
        {
          "data": {
            "text/plain": [
              "'13: my  '"
            ]
          },
          "metadata": {},
          "output_type": "display_data"
        },
        {
          "data": {
            "text/plain": [
              "'14: with  '"
            ]
          },
          "metadata": {},
          "output_type": "display_data"
        },
        {
          "data": {
            "text/plain": [
              "'15: it  '"
            ]
          },
          "metadata": {},
          "output_type": "display_data"
        },
        {
          "data": {
            "text/plain": [
              "'16: that  '"
            ]
          },
          "metadata": {},
          "output_type": "display_data"
        },
        {
          "data": {
            "text/plain": [
              "'17: at  '"
            ]
          },
          "metadata": {},
          "output_type": "display_data"
        },
        {
          "data": {
            "text/plain": [
              "'18: by  '"
            ]
          },
          "metadata": {},
          "output_type": "display_data"
        },
        {
          "data": {
            "text/plain": [
              "'19: this  '"
            ]
          },
          "metadata": {},
          "output_type": "display_data"
        },
        {
          "data": {
            "text/plain": [
              "'20: from  '"
            ]
          },
          "metadata": {},
          "output_type": "display_data"
        },
        {
          "data": {
            "text/plain": [
              "'21: be  '"
            ]
          },
          "metadata": {},
          "output_type": "display_data"
        },
        {
          "data": {
            "text/plain": [
              "'22: are  '"
            ]
          },
          "metadata": {},
          "output_type": "display_data"
        },
        {
          "data": {
            "text/plain": [
              "'23: was  '"
            ]
          },
          "metadata": {},
          "output_type": "display_data"
        },
        {
          "data": {
            "text/plain": [
              "'24: have  '"
            ]
          },
          "metadata": {},
          "output_type": "display_data"
        },
        {
          "data": {
            "text/plain": [
              "'25: like  '"
            ]
          },
          "metadata": {},
          "output_type": "display_data"
        },
        {
          "data": {
            "text/plain": [
              "'26: as  '"
            ]
          },
          "metadata": {},
          "output_type": "display_data"
        },
        {
          "data": {
            "text/plain": [
              "'27: me  '"
            ]
          },
          "metadata": {},
          "output_type": "display_data"
        },
        {
          "data": {
            "text/plain": [
              "'28: up  '"
            ]
          },
          "metadata": {},
          "output_type": "display_data"
        },
        {
          "data": {
            "text/plain": [
              "'29: just  '"
            ]
          },
          "metadata": {},
          "output_type": "display_data"
        },
        {
          "data": {
            "text/plain": [
              "'30: but  '"
            ]
          },
          "metadata": {},
          "output_type": "display_data"
        },
        {
          "data": {
            "text/plain": [
              "'31: so  '"
            ]
          },
          "metadata": {},
          "output_type": "display_data"
        },
        {
          "data": {
            "text/plain": [
              "'32: im  '"
            ]
          },
          "metadata": {},
          "output_type": "display_data"
        },
        {
          "data": {
            "text/plain": [
              "'33: amp  '"
            ]
          },
          "metadata": {},
          "output_type": "display_data"
        },
        {
          "data": {
            "text/plain": [
              "'34: not  '"
            ]
          },
          "metadata": {},
          "output_type": "display_data"
        },
        {
          "data": {
            "text/plain": [
              "'35: your  '"
            ]
          },
          "metadata": {},
          "output_type": "display_data"
        },
        {
          "data": {
            "text/plain": [
              "'36: out  '"
            ]
          },
          "metadata": {},
          "output_type": "display_data"
        },
        {
          "data": {
            "text/plain": [
              "'37: its  '"
            ]
          },
          "metadata": {},
          "output_type": "display_data"
        },
        {
          "data": {
            "text/plain": [
              "'38: after  '"
            ]
          },
          "metadata": {},
          "output_type": "display_data"
        },
        {
          "data": {
            "text/plain": [
              "'39: will  '"
            ]
          },
          "metadata": {},
          "output_type": "display_data"
        },
        {
          "data": {
            "text/plain": [
              "'40: all  '"
            ]
          },
          "metadata": {},
          "output_type": "display_data"
        },
        {
          "data": {
            "text/plain": [
              "'41: no  '"
            ]
          },
          "metadata": {},
          "output_type": "display_data"
        },
        {
          "data": {
            "text/plain": [
              "'42: fire  '"
            ]
          },
          "metadata": {},
          "output_type": "display_data"
        },
        {
          "data": {
            "text/plain": [
              "'43: an  '"
            ]
          },
          "metadata": {},
          "output_type": "display_data"
        },
        {
          "data": {
            "text/plain": [
              "'44: has  '"
            ]
          },
          "metadata": {},
          "output_type": "display_data"
        },
        {
          "data": {
            "text/plain": [
              "'45: when  '"
            ]
          },
          "metadata": {},
          "output_type": "display_data"
        },
        {
          "data": {
            "text/plain": [
              "'46: if  '"
            ]
          },
          "metadata": {},
          "output_type": "display_data"
        },
        {
          "data": {
            "text/plain": [
              "'47: we  '"
            ]
          },
          "metadata": {},
          "output_type": "display_data"
        },
        {
          "data": {
            "text/plain": [
              "'48: get  '"
            ]
          },
          "metadata": {},
          "output_type": "display_data"
        },
        {
          "data": {
            "text/plain": [
              "'49: new  '"
            ]
          },
          "metadata": {},
          "output_type": "display_data"
        },
        {
          "data": {
            "text/plain": [
              "'50: now  '"
            ]
          },
          "metadata": {},
          "output_type": "display_data"
        },
        {
          "data": {
            "text/plain": [
              "'51: via  '"
            ]
          },
          "metadata": {},
          "output_type": "display_data"
        },
        {
          "data": {
            "text/plain": [
              "'52: more  '"
            ]
          },
          "metadata": {},
          "output_type": "display_data"
        },
        {
          "data": {
            "text/plain": [
              "'53: about  '"
            ]
          },
          "metadata": {},
          "output_type": "display_data"
        },
        {
          "data": {
            "text/plain": [
              "'54: or  '"
            ]
          },
          "metadata": {},
          "output_type": "display_data"
        },
        {
          "data": {
            "text/plain": [
              "'55: what  '"
            ]
          },
          "metadata": {},
          "output_type": "display_data"
        },
        {
          "data": {
            "text/plain": [
              "'56: people  '"
            ]
          },
          "metadata": {},
          "output_type": "display_data"
        },
        {
          "data": {
            "text/plain": [
              "'57: one  '"
            ]
          },
          "metadata": {},
          "output_type": "display_data"
        },
        {
          "data": {
            "text/plain": [
              "'58: news  '"
            ]
          },
          "metadata": {},
          "output_type": "display_data"
        },
        {
          "data": {
            "text/plain": [
              "'59: he  '"
            ]
          },
          "metadata": {},
          "output_type": "display_data"
        },
        {
          "data": {
            "text/plain": [
              "'60: they  '"
            ]
          },
          "metadata": {},
          "output_type": "display_data"
        },
        {
          "data": {
            "text/plain": [
              "'61: how  '"
            ]
          },
          "metadata": {},
          "output_type": "display_data"
        },
        {
          "data": {
            "text/plain": [
              "'62: dont  '"
            ]
          },
          "metadata": {},
          "output_type": "display_data"
        },
        {
          "data": {
            "text/plain": [
              "'63: been  '"
            ]
          },
          "metadata": {},
          "output_type": "display_data"
        },
        {
          "data": {
            "text/plain": [
              "'64: over  '"
            ]
          },
          "metadata": {},
          "output_type": "display_data"
        },
        {
          "data": {
            "text/plain": [
              "'65: who  '"
            ]
          },
          "metadata": {},
          "output_type": "display_data"
        },
        {
          "data": {
            "text/plain": [
              "'66: into  '"
            ]
          },
          "metadata": {},
          "output_type": "display_data"
        },
        {
          "data": {
            "text/plain": [
              "'67: do  '"
            ]
          },
          "metadata": {},
          "output_type": "display_data"
        },
        {
          "data": {
            "text/plain": [
              "'68: were  '"
            ]
          },
          "metadata": {},
          "output_type": "display_data"
        },
        {
          "data": {
            "text/plain": [
              "'69: video  '"
            ]
          },
          "metadata": {},
          "output_type": "display_data"
        },
        {
          "data": {
            "text/plain": [
              "'70: us  '"
            ]
          },
          "metadata": {},
          "output_type": "display_data"
        },
        {
          "data": {
            "text/plain": [
              "'71: can  '"
            ]
          },
          "metadata": {},
          "output_type": "display_data"
        },
        {
          "data": {
            "text/plain": [
              "'72: 2  '"
            ]
          },
          "metadata": {},
          "output_type": "display_data"
        },
        {
          "data": {
            "text/plain": [
              "'73: emergency  '"
            ]
          },
          "metadata": {},
          "output_type": "display_data"
        },
        {
          "data": {
            "text/plain": [
              "'74: disaster  '"
            ]
          },
          "metadata": {},
          "output_type": "display_data"
        },
        {
          "data": {
            "text/plain": [
              "'75: there  '"
            ]
          },
          "metadata": {},
          "output_type": "display_data"
        },
        {
          "data": {
            "text/plain": [
              "'76: police  '"
            ]
          },
          "metadata": {},
          "output_type": "display_data"
        },
        {
          "data": {
            "text/plain": [
              "'77: than  '"
            ]
          },
          "metadata": {},
          "output_type": "display_data"
        },
        {
          "data": {
            "text/plain": [
              "'78: her  '"
            ]
          },
          "metadata": {},
          "output_type": "display_data"
        },
        {
          "data": {
            "text/plain": [
              "'79: would  '"
            ]
          },
          "metadata": {},
          "output_type": "display_data"
        },
        {
          "data": {
            "text/plain": [
              "'80: still  '"
            ]
          },
          "metadata": {},
          "output_type": "display_data"
        },
        {
          "data": {
            "text/plain": [
              "'81: some  '"
            ]
          },
          "metadata": {},
          "output_type": "display_data"
        },
        {
          "data": {
            "text/plain": [
              "'82: his  '"
            ]
          },
          "metadata": {},
          "output_type": "display_data"
        },
        {
          "data": {
            "text/plain": [
              "'83: body  '"
            ]
          },
          "metadata": {},
          "output_type": "display_data"
        },
        {
          "data": {
            "text/plain": [
              "'84: burning  '"
            ]
          },
          "metadata": {},
          "output_type": "display_data"
        },
        {
          "data": {
            "text/plain": [
              "'85: crash  '"
            ]
          },
          "metadata": {},
          "output_type": "display_data"
        },
        {
          "data": {
            "text/plain": [
              "'86: back  '"
            ]
          },
          "metadata": {},
          "output_type": "display_data"
        },
        {
          "data": {
            "text/plain": [
              "'87: storm  '"
            ]
          },
          "metadata": {},
          "output_type": "display_data"
        },
        {
          "data": {
            "text/plain": [
              "'88: california  '"
            ]
          },
          "metadata": {},
          "output_type": "display_data"
        },
        {
          "data": {
            "text/plain": [
              "'89: suicide  '"
            ]
          },
          "metadata": {},
          "output_type": "display_data"
        },
        {
          "data": {
            "text/plain": [
              "'90: why  '"
            ]
          },
          "metadata": {},
          "output_type": "display_data"
        },
        {
          "data": {
            "text/plain": [
              "'91: them  '"
            ]
          },
          "metadata": {},
          "output_type": "display_data"
        },
        {
          "data": {
            "text/plain": [
              "'92: off  '"
            ]
          },
          "metadata": {},
          "output_type": "display_data"
        },
        {
          "data": {
            "text/plain": [
              "'93: time  '"
            ]
          },
          "metadata": {},
          "output_type": "display_data"
        },
        {
          "data": {
            "text/plain": [
              "'94: know  '"
            ]
          },
          "metadata": {},
          "output_type": "display_data"
        },
        {
          "data": {
            "text/plain": [
              "'95: got  '"
            ]
          },
          "metadata": {},
          "output_type": "display_data"
        },
        {
          "data": {
            "text/plain": [
              "'96: had  '"
            ]
          },
          "metadata": {},
          "output_type": "display_data"
        },
        {
          "data": {
            "text/plain": [
              "'97: man  '"
            ]
          },
          "metadata": {},
          "output_type": "display_data"
        },
        {
          "data": {
            "text/plain": [
              "'98: buildings  '"
            ]
          },
          "metadata": {},
          "output_type": "display_data"
        },
        {
          "data": {
            "text/plain": [
              "'99: day  '"
            ]
          },
          "metadata": {},
          "output_type": "display_data"
        },
        {
          "data": {
            "text/plain": [
              "'100: rt  '"
            ]
          },
          "metadata": {},
          "output_type": "display_data"
        },
        {
          "data": {
            "text/plain": [
              "'101: first  '"
            ]
          },
          "metadata": {},
          "output_type": "display_data"
        },
        {
          "data": {
            "text/plain": [
              "'102: see  '"
            ]
          },
          "metadata": {},
          "output_type": "display_data"
        },
        {
          "data": {
            "text/plain": [
              "'103: world  '"
            ]
          },
          "metadata": {},
          "output_type": "display_data"
        },
        {
          "data": {
            "text/plain": [
              "'104: going  '"
            ]
          },
          "metadata": {},
          "output_type": "display_data"
        },
        {
          "data": {
            "text/plain": [
              "'105: bomb  '"
            ]
          },
          "metadata": {},
          "output_type": "display_data"
        },
        {
          "data": {
            "text/plain": [
              "'106: cant  '"
            ]
          },
          "metadata": {},
          "output_type": "display_data"
        },
        {
          "data": {
            "text/plain": [
              "'107: nuclear  '"
            ]
          },
          "metadata": {},
          "output_type": "display_data"
        },
        {
          "data": {
            "text/plain": [
              "'108: love  '"
            ]
          },
          "metadata": {},
          "output_type": "display_data"
        },
        {
          "data": {
            "text/plain": [
              "'109: fires  '"
            ]
          },
          "metadata": {},
          "output_type": "display_data"
        },
        {
          "data": {
            "text/plain": [
              "'110: our  '"
            ]
          },
          "metadata": {},
          "output_type": "display_data"
        },
        {
          "data": {
            "text/plain": [
              "'111: attack  '"
            ]
          },
          "metadata": {},
          "output_type": "display_data"
        },
        {
          "data": {
            "text/plain": [
              "'112: youtube  '"
            ]
          },
          "metadata": {},
          "output_type": "display_data"
        },
        {
          "data": {
            "text/plain": [
              "'113: two  '"
            ]
          },
          "metadata": {},
          "output_type": "display_data"
        },
        {
          "data": {
            "text/plain": [
              "'114: 3  '"
            ]
          },
          "metadata": {},
          "output_type": "display_data"
        },
        {
          "data": {
            "text/plain": [
              "'115: killed  '"
            ]
          },
          "metadata": {},
          "output_type": "display_data"
        },
        {
          "data": {
            "text/plain": [
              "'116: dead  '"
            ]
          },
          "metadata": {},
          "output_type": "display_data"
        },
        {
          "data": {
            "text/plain": [
              "'117: go  '"
            ]
          },
          "metadata": {},
          "output_type": "display_data"
        },
        {
          "data": {
            "text/plain": [
              "'118: their  '"
            ]
          },
          "metadata": {},
          "output_type": "display_data"
        },
        {
          "data": {
            "text/plain": [
              "'119: train  '"
            ]
          },
          "metadata": {},
          "output_type": "display_data"
        },
        {
          "data": {
            "text/plain": [
              "'120: full  '"
            ]
          },
          "metadata": {},
          "output_type": "display_data"
        },
        {
          "data": {
            "text/plain": [
              "'121: war  '"
            ]
          },
          "metadata": {},
          "output_type": "display_data"
        },
        {
          "data": {
            "text/plain": [
              "'122: car  '"
            ]
          },
          "metadata": {},
          "output_type": "display_data"
        },
        {
          "data": {
            "text/plain": [
              "'123: being  '"
            ]
          },
          "metadata": {},
          "output_type": "display_data"
        },
        {
          "data": {
            "text/plain": [
              "'124: only  '"
            ]
          },
          "metadata": {},
          "output_type": "display_data"
        },
        {
          "data": {
            "text/plain": [
              "'125: may  '"
            ]
          },
          "metadata": {},
          "output_type": "display_data"
        },
        {
          "data": {
            "text/plain": [
              "'126: families  '"
            ]
          },
          "metadata": {},
          "output_type": "display_data"
        },
        {
          "data": {
            "text/plain": [
              "'127: today  '"
            ]
          },
          "metadata": {},
          "output_type": "display_data"
        },
        {
          "data": {
            "text/plain": [
              "'128: life  '"
            ]
          },
          "metadata": {},
          "output_type": "display_data"
        },
        {
          "data": {
            "text/plain": [
              "'129: hiroshima  '"
            ]
          },
          "metadata": {},
          "output_type": "display_data"
        },
        {
          "data": {
            "text/plain": [
              "'130: good  '"
            ]
          },
          "metadata": {},
          "output_type": "display_data"
        },
        {
          "data": {
            "text/plain": [
              "'131: accident  '"
            ]
          },
          "metadata": {},
          "output_type": "display_data"
        },
        {
          "data": {
            "text/plain": [
              "'132: think  '"
            ]
          },
          "metadata": {},
          "output_type": "display_data"
        },
        {
          "data": {
            "text/plain": [
              "'133: down  '"
            ]
          },
          "metadata": {},
          "output_type": "display_data"
        },
        {
          "data": {
            "text/plain": [
              "'134: watch  '"
            ]
          },
          "metadata": {},
          "output_type": "display_data"
        },
        {
          "data": {
            "text/plain": [
              "'135: say  '"
            ]
          },
          "metadata": {},
          "output_type": "display_data"
        },
        {
          "data": {
            "text/plain": [
              "'136: many  '"
            ]
          },
          "metadata": {},
          "output_type": "display_data"
        },
        {
          "data": {
            "text/plain": [
              "'137: last  '"
            ]
          },
          "metadata": {},
          "output_type": "display_data"
        },
        {
          "data": {
            "text/plain": [
              "'138: here  '"
            ]
          },
          "metadata": {},
          "output_type": "display_data"
        },
        {
          "data": {
            "text/plain": [
              "'139: u  '"
            ]
          },
          "metadata": {},
          "output_type": "display_data"
        },
        {
          "data": {
            "text/plain": [
              "'140: could  '"
            ]
          },
          "metadata": {},
          "output_type": "display_data"
        },
        {
          "data": {
            "text/plain": [
              "'141: want  '"
            ]
          },
          "metadata": {},
          "output_type": "display_data"
        },
        {
          "data": {
            "text/plain": [
              "'142: years  '"
            ]
          },
          "metadata": {},
          "output_type": "display_data"
        },
        {
          "data": {
            "text/plain": [
              "'143: too  '"
            ]
          },
          "metadata": {},
          "output_type": "display_data"
        },
        {
          "data": {
            "text/plain": [
              "'144: did  '"
            ]
          },
          "metadata": {},
          "output_type": "display_data"
        },
        {
          "data": {
            "text/plain": [
              "'145: way  '"
            ]
          },
          "metadata": {},
          "output_type": "display_data"
        },
        {
          "data": {
            "text/plain": [
              "'146: then  '"
            ]
          },
          "metadata": {},
          "output_type": "display_data"
        },
        {
          "data": {
            "text/plain": [
              "'147: make  '"
            ]
          },
          "metadata": {},
          "output_type": "display_data"
        },
        {
          "data": {
            "text/plain": [
              "'148: home  '"
            ]
          },
          "metadata": {},
          "output_type": "display_data"
        },
        {
          "data": {
            "text/plain": [
              "'149: collapse  '"
            ]
          },
          "metadata": {},
          "output_type": "display_data"
        },
        {
          "data": {
            "text/plain": [
              "'150: work  '"
            ]
          },
          "metadata": {},
          "output_type": "display_data"
        },
        {
          "data": {
            "text/plain": [
              "'151: because  '"
            ]
          },
          "metadata": {},
          "output_type": "display_data"
        },
        {
          "data": {
            "text/plain": [
              "'152: look  '"
            ]
          },
          "metadata": {},
          "output_type": "display_data"
        },
        {
          "data": {
            "text/plain": [
              "'153: best  '"
            ]
          },
          "metadata": {},
          "output_type": "display_data"
        },
        {
          "data": {
            "text/plain": [
              "'154: wildfire  '"
            ]
          },
          "metadata": {},
          "output_type": "display_data"
        },
        {
          "data": {
            "text/plain": [
              "'155: need  '"
            ]
          },
          "metadata": {},
          "output_type": "display_data"
        },
        {
          "data": {
            "text/plain": [
              "'156: even  '"
            ]
          },
          "metadata": {},
          "output_type": "display_data"
        },
        {
          "data": {
            "text/plain": [
              "'157: really  '"
            ]
          },
          "metadata": {},
          "output_type": "display_data"
        },
        {
          "data": {
            "text/plain": [
              "'158: mh370  '"
            ]
          },
          "metadata": {},
          "output_type": "display_data"
        },
        {
          "data": {
            "text/plain": [
              "'159: mass  '"
            ]
          },
          "metadata": {},
          "output_type": "display_data"
        },
        {
          "data": {
            "text/plain": [
              "'160: help  '"
            ]
          },
          "metadata": {},
          "output_type": "display_data"
        },
        {
          "data": {
            "text/plain": [
              "'161: death  '"
            ]
          },
          "metadata": {},
          "output_type": "display_data"
        },
        {
          "data": {
            "text/plain": [
              "'162: army  '"
            ]
          },
          "metadata": {},
          "output_type": "display_data"
        },
        {
          "data": {
            "text/plain": [
              "'163: am  '"
            ]
          },
          "metadata": {},
          "output_type": "display_data"
        },
        {
          "data": {
            "text/plain": [
              "'164: please  '"
            ]
          },
          "metadata": {},
          "output_type": "display_data"
        },
        {
          "data": {
            "text/plain": [
              "'165: lol  '"
            ]
          },
          "metadata": {},
          "output_type": "display_data"
        },
        {
          "data": {
            "text/plain": [
              "'166: year  '"
            ]
          },
          "metadata": {},
          "output_type": "display_data"
        },
        {
          "data": {
            "text/plain": [
              "'167: take  '"
            ]
          },
          "metadata": {},
          "output_type": "display_data"
        },
        {
          "data": {
            "text/plain": [
              "'168: him  '"
            ]
          },
          "metadata": {},
          "output_type": "display_data"
        },
        {
          "data": {
            "text/plain": [
              "'169: another  '"
            ]
          },
          "metadata": {},
          "output_type": "display_data"
        },
        {
          "data": {
            "text/plain": [
              "'170: those  '"
            ]
          },
          "metadata": {},
          "output_type": "display_data"
        },
        {
          "data": {
            "text/plain": [
              "'171: should  '"
            ]
          },
          "metadata": {},
          "output_type": "display_data"
        },
        {
          "data": {
            "text/plain": [
              "'172: right  '"
            ]
          },
          "metadata": {},
          "output_type": "display_data"
        },
        {
          "data": {
            "text/plain": [
              "'173: pm  '"
            ]
          },
          "metadata": {},
          "output_type": "display_data"
        },
        {
          "data": {
            "text/plain": [
              "'174: bombing  '"
            ]
          },
          "metadata": {},
          "output_type": "display_data"
        },
        {
          "data": {
            "text/plain": [
              "'175: youre  '"
            ]
          },
          "metadata": {},
          "output_type": "display_data"
        },
        {
          "data": {
            "text/plain": [
              "'176: school  '"
            ]
          },
          "metadata": {},
          "output_type": "display_data"
        },
        {
          "data": {
            "text/plain": [
              "'177: hot  '"
            ]
          },
          "metadata": {},
          "output_type": "display_data"
        },
        {
          "data": {
            "text/plain": [
              "'178: black  '"
            ]
          },
          "metadata": {},
          "output_type": "display_data"
        },
        {
          "data": {
            "text/plain": [
              "'179: 4  '"
            ]
          },
          "metadata": {},
          "output_type": "display_data"
        },
        {
          "data": {
            "text/plain": [
              "'180: forest  '"
            ]
          },
          "metadata": {},
          "output_type": "display_data"
        },
        {
          "data": {
            "text/plain": [
              "'181: fatal  '"
            ]
          },
          "metadata": {},
          "output_type": "display_data"
        },
        {
          "data": {
            "text/plain": [
              "'182: northern  '"
            ]
          },
          "metadata": {},
          "output_type": "display_data"
        },
        {
          "data": {
            "text/plain": [
              "'183: much  '"
            ]
          },
          "metadata": {},
          "output_type": "display_data"
        },
        {
          "data": {
            "text/plain": [
              "'184: 5  '"
            ]
          },
          "metadata": {},
          "output_type": "display_data"
        },
        {
          "data": {
            "text/plain": [
              "'185: 1  '"
            ]
          },
          "metadata": {},
          "output_type": "display_data"
        },
        {
          "data": {
            "text/plain": [
              "'186: water  '"
            ]
          },
          "metadata": {},
          "output_type": "display_data"
        },
        {
          "data": {
            "text/plain": [
              "'187: she  '"
            ]
          },
          "metadata": {},
          "output_type": "display_data"
        },
        {
          "data": {
            "text/plain": [
              "'188: obama  '"
            ]
          },
          "metadata": {},
          "output_type": "display_data"
        },
        {
          "data": {
            "text/plain": [
              "'189: let  '"
            ]
          },
          "metadata": {},
          "output_type": "display_data"
        },
        {
          "data": {
            "text/plain": [
              "'190: legionnaires  '"
            ]
          },
          "metadata": {},
          "output_type": "display_data"
        },
        {
          "data": {
            "text/plain": [
              "'191: great  '"
            ]
          },
          "metadata": {},
          "output_type": "display_data"
        },
        {
          "data": {
            "text/plain": [
              "'192: wreck  '"
            ]
          },
          "metadata": {},
          "output_type": "display_data"
        },
        {
          "data": {
            "text/plain": [
              "'193: never  '"
            ]
          },
          "metadata": {},
          "output_type": "display_data"
        },
        {
          "data": {
            "text/plain": [
              "'194: homes  '"
            ]
          },
          "metadata": {},
          "output_type": "display_data"
        },
        {
          "data": {
            "text/plain": [
              "'195: bomber  '"
            ]
          },
          "metadata": {},
          "output_type": "display_data"
        },
        {
          "data": {
            "text/plain": [
              "'196: 2015  '"
            ]
          },
          "metadata": {},
          "output_type": "display_data"
        },
        {
          "data": {
            "text/plain": [
              "'197: \\x89Û  '"
            ]
          },
          "metadata": {},
          "output_type": "display_data"
        },
        {
          "data": {
            "text/plain": [
              "'198: live  '"
            ]
          },
          "metadata": {},
          "output_type": "display_data"
        },
        {
          "data": {
            "text/plain": [
              "'199: latest  '"
            ]
          },
          "metadata": {},
          "output_type": "display_data"
        }
      ],
      "source": [
        "vectorize_layer = tf.keras.layers.TextVectorization(\n",
        "    standardize=\"lower_and_strip_punctuation\",\n",
        "    split=\"whitespace\",\n",
        "    output_mode=\"int\",\n",
        "    max_tokens=200\n",
        ")\n",
        "\n",
        "vectorize_layer.adapt(complete_x)\n",
        "\n",
        "display(\"--Vocabulary--\")\n",
        "for i, token in enumerate(vectorize_layer.get_vocabulary()):\n",
        "  endline = '\\n' if i % 10 == 0 else ''\n",
        "  display(f\"{i}: {token}  \")\n"
      ]
    },
    {
      "cell_type": "markdown",
      "metadata": {},
      "source": [
        "Now that we've assigned each word in our dataset to unique number, let's count how many times each of the words show up. If we compare this distribution in our disaster tweets versus our non-disaster tweets, we should see the most relevant words in a disaster tweet vs a non-disaster tweet."
      ]
    },
    {
      "cell_type": "code",
      "execution_count": 47,
      "metadata": {
        "id": "HgNwNNMfBLwR"
      },
      "outputs": [
        {
          "name": "stdout",
          "output_type": "stream",
          "text": [
            "The amount of training data that is not relating to disasters is 2621\n",
            "The amount of training data that is not relating to disasters is 3469\n",
            "% of training data that is disaster: 0.430378\n",
            "% of training data that is not disaster: 0.569622\n"
          ]
        }
      ],
      "source": [
        "disaster_data = train_X[train_Y == 1]\n",
        "non_disaster_data = train_X[train_Y == 0]\n",
        "\n",
        "print(f\"The amount of training data that is not relating to disasters is {len(disaster_data)}\")\n",
        "print(f\"The amount of training data that is not relating to disasters is {len(non_disaster_data)}\")\n",
        "\n",
        "total = len(disaster_data) + len(non_disaster_data)\n",
        "print(f\"% of training data that is disaster: {len(disaster_data) / total:2f}\")\n",
        "print(f\"% of training data that is not disaster: {len(non_disaster_data) / total:2f}\")"
      ]
    },
    {
      "cell_type": "code",
      "execution_count": 8,
      "metadata": {
        "id": "WHvrQSaLBLwS"
      },
      "outputs": [],
      "source": [
        "from collections import Counter\n",
        "\n",
        "disaster_counter = Counter()\n",
        "for example in disaster_data:\n",
        "    disaster_counter.update(example.split(' '))\n",
        "\n",
        "non_disaster_counter = Counter()\n",
        "for example in non_disaster_data:\n",
        "    non_disaster_counter.update(example.split(' '))"
      ]
    },
    {
      "cell_type": "code",
      "execution_count": 9,
      "metadata": {
        "id": "D5oQKieJBLwS"
      },
      "outputs": [],
      "source": [
        "def plot_relevant_words(plot_title: str, counter_1: Counter, counter_2: Counter, color: str = \"skyblue\"):\n",
        "    common = counter_1 - counter_2\n",
        "    most_common = common.most_common(10)\n",
        "    common_words = np.array(most_common)[:,0]\n",
        "    count = np.array(most_common)[:,1].astype(int)\n",
        "    plt.bar(common_words, count, color=color)\n",
        "    plt.ylabel(\"frequency\")\n",
        "    plt.xlabel(\"word\")\n",
        "    plt.title(plot_title)\n",
        "    plt.show()"
      ]
    },
    {
      "cell_type": "code",
      "execution_count": 10,
      "metadata": {
        "colab": {
          "base_uri": "https://localhost:8080/",
          "height": 472
        },
        "id": "WdmjsDNDBLwT",
        "outputId": "9cfd195d-c794-4fca-e812-dcc23e23b991"
      },
      "outputs": [
        {
          "data": {
            "image/png": "[encoded data removed]",
            "text/plain": [
              "<Figure size 640x480 with 1 Axes>"
            ]
          },
          "metadata": {},
          "output_type": "display_data"
        }
      ],
      "source": [
        "plot_relevant_words(\"Relevant words in disaster tweets\", disaster_counter, non_disaster_counter, color=\"firebrick\")"
      ]
    },
    {
      "cell_type": "code",
      "execution_count": 11,
      "metadata": {
        "colab": {
          "base_uri": "https://localhost:8080/",
          "height": 472
        },
        "id": "ewxM3w3nBLwU",
        "outputId": "89a84c50-6215-4810-f293-14bf2dc7e220"
      },
      "outputs": [
        {
          "data": {
            "image/png": "[encoded data removed]",
            "text/plain": [
              "<Figure size 640x480 with 1 Axes>"
            ]
          },
          "metadata": {},
          "output_type": "display_data"
        }
      ],
      "source": [
        "plot_relevant_words(\"Relevant words in non-disaster tweets\", non_disaster_counter, disaster_counter)"
      ]
    },
    {
      "cell_type": "markdown",
      "metadata": {
        "id": "vowkoCZnBLwU"
      },
      "source": [
        "The most relevant words for the disaster tweets make a lot of sense in relation to their classification, but non-disaster tweets are non-specific. This is possibly because non-disaster tweets can encompass any topic, which means they don't have certain words which are especially relevant to being \"non-disaster tweets\".\n",
        "\n",
        "Let's look into the length of non-disaster tweets vs disaster tweets."
      ]
    },
    {
      "cell_type": "code",
      "execution_count": 43,
      "metadata": {
        "colab": {
          "base_uri": "https://localhost:8080/",
          "height": 428
        },
        "id": "PJAKU8hzBLwU",
        "outputId": "23dc7f0c-cda4-498f-82bd-7f4af1c3e11a"
      },
      "outputs": [
        {
          "data": {
            "image/png": "[encoded data removed]",
            "text/plain": [
              "<Figure size 640x480 with 1 Axes>"
            ]
          },
          "metadata": {},
          "output_type": "display_data"
        }
      ],
      "source": [
        "plt.pie([len(non_disaster_data), len(disaster_data)], labels = ['Non-Disasters', 'Disasters'], autopct='%1.1f%%', colors=[\"skyblue\", \"firebrick\"])\n",
        "plt.title('Length of Disaster Data vs Non-Disaster Data')\n",
        "plt.show()"
      ]
    },
    {
      "cell_type": "markdown",
      "metadata": {
        "id": "UqZE1qW0BLwV"
      },
      "source": [
        "It looks like we have slightly more non-disaster tweets compared to disaster tweets, which could skew our model somehow if we're not careful."
      ]
    },
    {
      "cell_type": "markdown",
      "metadata": {
        "id": "oAVm253xBLwV"
      },
      "source": [
        "Let's also look into the keywords of our disaster and non-disaster tweets on a list form instead of a bar graph - which should be easier to read."
      ]
    },
    {
      "cell_type": "code",
      "execution_count": 13,
      "metadata": {
        "colab": {
          "base_uri": "https://localhost:8080/"
        },
        "id": "OK1r_L1nBLwV",
        "outputId": "b0122407-d523-428c-9b99-dd8f43fa1597"
      },
      "outputs": [
        {
          "data": {
            "text/plain": [
              "Counter({'fatalities': 45,\n",
              "         'armageddon': 42,\n",
              "         'deluge': 42,\n",
              "         'body%20bags': 41,\n",
              "         'damage': 41,\n",
              "         'harm': 41,\n",
              "         'sinking': 41,\n",
              "         'collided': 40,\n",
              "         'evacuate': 40,\n",
              "         'fear': 40,\n",
              "         'outbreak': 40,\n",
              "         'siren': 40,\n",
              "         'twister': 40,\n",
              "         'windstorm': 40,\n",
              "         'collision': 39,\n",
              "         'derailment': 39,\n",
              "         'earthquake': 39,\n",
              "         'explosion': 39,\n",
              "         'famine': 39,\n",
              "         'flames': 39,\n",
              "         'hellfire': 39,\n",
              "         'sinkhole': 39,\n",
              "         'sunk': 39,\n",
              "         'weapon': 39,\n",
              "         'weapons': 39,\n",
              "         'whirlwind': 39,\n",
              "         'wreckage': 39,\n",
              "         'wrecked': 39,\n",
              "         'ambulance': 38,\n",
              "         'blaze': 38,\n",
              "         'bombed': 38,\n",
              "         'deaths': 38,\n",
              "         'derailed': 38,\n",
              "         'drowned': 38,\n",
              "         'explode': 38,\n",
              "         'fatal': 38,\n",
              "         'fire': 38,\n",
              "         'flooding': 38,\n",
              "         'hurricane': 38,\n",
              "         'injury': 38,\n",
              "         'oil%20spill': 38,\n",
              "         'thunder': 38,\n",
              "         'typhoon': 38,\n",
              "         'upheaval': 38,\n",
              "         'bioterror': 37,\n",
              "         'blizzard': 37,\n",
              "         'burning%20buildings': 37,\n",
              "         'crush': 37,\n",
              "         'curfew': 37,\n",
              "         'debris': 37,\n",
              "         'destroy': 37,\n",
              "         'emergency': 37,\n",
              "         'fatality': 37,\n",
              "         'hostages': 37,\n",
              "         'mudslide': 37,\n",
              "         'pandemonium': 37,\n",
              "         'panic': 37,\n",
              "         'police': 37,\n",
              "         'quarantined': 37,\n",
              "         'ruin': 37,\n",
              "         'sandstorm': 37,\n",
              "         'wounded': 37,\n",
              "         'wreck': 37,\n",
              "         'ablaze': 36,\n",
              "         'attack': 36,\n",
              "         'catastrophe': 36,\n",
              "         'cliff%20fall': 36,\n",
              "         'danger': 36,\n",
              "         'death': 36,\n",
              "         'desolation': 36,\n",
              "         'detonate': 36,\n",
              "         'devastation': 36,\n",
              "         'displaced': 36,\n",
              "         'dust%20storm': 36,\n",
              "         'engulfed': 36,\n",
              "         'evacuated': 36,\n",
              "         'evacuation': 36,\n",
              "         'floods': 36,\n",
              "         'massacre': 36,\n",
              "         'nuclear%20reactor': 36,\n",
              "         'refugees': 36,\n",
              "         'screaming': 36,\n",
              "         'tragedy': 36,\n",
              "         'accident': 35,\n",
              "         'airplane%20accident': 35,\n",
              "         'attacked': 35,\n",
              "         'bleeding': 35,\n",
              "         'blood': 35,\n",
              "         'bloody': 35,\n",
              "         'bridge%20collapse': 35,\n",
              "         'buildings%20burning': 35,\n",
              "         'casualties': 35,\n",
              "         'collapsed': 35,\n",
              "         'demolition': 35,\n",
              "         'derail': 35,\n",
              "         'disaster': 35,\n",
              "         'drought': 35,\n",
              "         'emergency%20plan': 35,\n",
              "         'flood': 35,\n",
              "         'hail': 35,\n",
              "         'hazardous': 35,\n",
              "         'hijacker': 35,\n",
              "         'injured': 35,\n",
              "         'inundated': 35,\n",
              "         'razed': 35,\n",
              "         'rescued': 35,\n",
              "         'rescuers': 35,\n",
              "         'rioting': 35,\n",
              "         'screams': 35,\n",
              "         'storm': 35,\n",
              "         'structural%20failure': 35,\n",
              "         'suicide%20bomb': 35,\n",
              "         'tornado': 35,\n",
              "         'traumatised': 35,\n",
              "         'aftershock': 34,\n",
              "         'annihilated': 34,\n",
              "         'army': 34,\n",
              "         'arsonist': 34,\n",
              "         'blazing': 34,\n",
              "         'bomb': 34,\n",
              "         'burning': 34,\n",
              "         'casualty': 34,\n",
              "         'collapse': 34,\n",
              "         'collide': 34,\n",
              "         'crashed': 34,\n",
              "         'demolish': 34,\n",
              "         'destruction': 34,\n",
              "         'drowning': 34,\n",
              "         'electrocuted': 34,\n",
              "         'flattened': 34,\n",
              "         'hazard': 34,\n",
              "         'heat%20wave': 34,\n",
              "         'lava': 34,\n",
              "         'loud%20bang': 34,\n",
              "         'military': 34,\n",
              "         'natural%20disaster': 34,\n",
              "         'nuclear%20disaster': 34,\n",
              "         'quarantine': 34,\n",
              "         'rainstorm': 34,\n",
              "         'riot': 34,\n",
              "         'screamed': 34,\n",
              "         'smoke': 34,\n",
              "         'terrorism': 34,\n",
              "         'tsunami': 34,\n",
              "         'blew%20up': 33,\n",
              "         'blown%20up': 33,\n",
              "         'body%20bag': 33,\n",
              "         'body%20bagging': 33,\n",
              "         'buildings%20on%20fire': 33,\n",
              "         'burned': 33,\n",
              "         'chemical%20emergency': 33,\n",
              "         'crash': 33,\n",
              "         'emergency%20services': 33,\n",
              "         'exploded': 33,\n",
              "         'fire%20truck': 33,\n",
              "         'hijack': 33,\n",
              "         'injuries': 33,\n",
              "         'landslide': 33,\n",
              "         'lightning': 33,\n",
              "         'mass%20murder': 33,\n",
              "         'meltdown': 33,\n",
              "         'panicking': 33,\n",
              "         'stretcher': 33,\n",
              "         'suicide%20bombing': 33,\n",
              "         'survived': 33,\n",
              "         'thunderstorm': 33,\n",
              "         'trouble': 33,\n",
              "         'violent%20storm': 33,\n",
              "         'wildfire': 33,\n",
              "         'wounds': 33,\n",
              "         'apocalypse': 32,\n",
              "         'arson': 32,\n",
              "         'blight': 32,\n",
              "         'cyclone': 32,\n",
              "         'destroyed': 32,\n",
              "         'detonation': 32,\n",
              "         'drown': 32,\n",
              "         'electrocute': 32,\n",
              "         'eyewitness': 32,\n",
              "         'forest%20fires': 32,\n",
              "         'hailstorm': 32,\n",
              "         'hijacking': 32,\n",
              "         'mass%20murderer': 32,\n",
              "         'survive': 32,\n",
              "         'trapped': 32,\n",
              "         'crushed': 31,\n",
              "         'devastated': 31,\n",
              "         'hostage': 31,\n",
              "         'obliterate': 31,\n",
              "         'obliterated': 31,\n",
              "         'suicide%20bomber': 31,\n",
              "         'terrorist': 31,\n",
              "         'trauma': 31,\n",
              "         'wild%20fires': 31,\n",
              "         'avalanche': 30,\n",
              "         'bioterrorism': 30,\n",
              "         'catastrophic': 30,\n",
              "         'dead': 30,\n",
              "         'mayhem': 30,\n",
              "         'survivors': 30,\n",
              "         'annihilation': 29,\n",
              "         'bombing': 29,\n",
              "         'desolate': 29,\n",
              "         'first%20responders': 29,\n",
              "         'obliteration': 29,\n",
              "         'seismic': 29,\n",
              "         'sirens': 29,\n",
              "         'snowstorm': 29,\n",
              "         'demolished': 28,\n",
              "         'rubble': 28,\n",
              "         'deluged': 27,\n",
              "         'volcano': 27,\n",
              "         'battle': 26,\n",
              "         'bush%20fires': 25,\n",
              "         'war%20zone': 24,\n",
              "         'rescue': 22,\n",
              "         'forest%20fire': 19,\n",
              "         'epicentre': 12,\n",
              "         'threat': 11,\n",
              "         'inundation': 10,\n",
              "         'radiation%20emergency': 9})"
            ]
          },
          "execution_count": 13,
          "metadata": {},
          "output_type": "execute_result"
        }
      ],
      "source": [
        "Counter(train_data['keyword'].dropna())"
      ]
    },
    {
      "cell_type": "code",
      "execution_count": 14,
      "metadata": {
        "colab": {
          "base_uri": "https://localhost:8080/"
        },
        "id": "ugBpigJjBLwV",
        "outputId": "38999323-95b9-4b60-99ef-0bc023acd5a9"
      },
      "outputs": [
        {
          "data": {
            "text/plain": [
              "Counter({'derailment': 39,\n",
              "         'outbreak': 39,\n",
              "         'wreckage': 39,\n",
              "         'debris': 37,\n",
              "         'oil%20spill': 37,\n",
              "         'typhoon': 37,\n",
              "         'evacuated': 32,\n",
              "         'rescuers': 32,\n",
              "         'suicide%20bomb': 32,\n",
              "         'suicide%20bombing': 32,\n",
              "         'nuclear%20disaster': 31,\n",
              "         'razed': 31,\n",
              "         'airplane%20accident': 30,\n",
              "         'earthquake': 30,\n",
              "         'suicide%20bomber': 30,\n",
              "         'bridge%20collapse': 29,\n",
              "         'collision': 29,\n",
              "         'wildfire': 29,\n",
              "         'buildings%20on%20fire': 28,\n",
              "         'casualties': 28,\n",
              "         'drought': 28,\n",
              "         'evacuation': 28,\n",
              "         'mass%20murder': 28,\n",
              "         'sandstorm': 28,\n",
              "         'bombing': 27,\n",
              "         'devastation': 27,\n",
              "         'forest%20fires': 27,\n",
              "         'hostages': 27,\n",
              "         'sinkhole': 27,\n",
              "         'wild%20fires': 27,\n",
              "         'deaths': 26,\n",
              "         'derailed': 26,\n",
              "         'displaced': 26,\n",
              "         'famine': 26,\n",
              "         'fatal': 26,\n",
              "         'fatalities': 26,\n",
              "         'floods': 26,\n",
              "         'thunderstorm': 26,\n",
              "         'violent%20storm': 26,\n",
              "         'wounded': 26,\n",
              "         'attack': 25,\n",
              "         'evacuate': 25,\n",
              "         'flooding': 25,\n",
              "         'heat%20wave': 25,\n",
              "         'massacre': 25,\n",
              "         'accident': 24,\n",
              "         'buildings%20burning': 24,\n",
              "         'dust%20storm': 24,\n",
              "         'hailstorm': 24,\n",
              "         'injured': 24,\n",
              "         'terrorism': 24,\n",
              "         'collided': 23,\n",
              "         'rioting': 23,\n",
              "         'structural%20failure': 23,\n",
              "         'terrorist': 23,\n",
              "         'arson': 22,\n",
              "         'bioterror': 22,\n",
              "         'fire%20truck': 22,\n",
              "         'hazardous': 22,\n",
              "         'refugees': 22,\n",
              "         'tragedy': 22,\n",
              "         'attacked': 21,\n",
              "         'bioterrorism': 21,\n",
              "         'burning%20buildings': 21,\n",
              "         'crashed': 21,\n",
              "         'emergency%20plan': 21,\n",
              "         'police': 21,\n",
              "         'survivors': 21,\n",
              "         'ambulance': 20,\n",
              "         'catastrophic': 20,\n",
              "         'explosion': 20,\n",
              "         'hurricane': 20,\n",
              "         'bombed': 19,\n",
              "         'cyclone': 19,\n",
              "         'damage': 19,\n",
              "         'engulfed': 19,\n",
              "         'hijacker': 19,\n",
              "         'mass%20murderer': 19,\n",
              "         'bush%20fires': 18,\n",
              "         'devastated': 18,\n",
              "         'hail': 18,\n",
              "         'natural%20disaster': 18,\n",
              "         'rainstorm': 18,\n",
              "         'storm': 18,\n",
              "         'volcano': 18,\n",
              "         'derail': 17,\n",
              "         'lightning': 17,\n",
              "         'rescued': 17,\n",
              "         'weapons': 17,\n",
              "         'hijack': 16,\n",
              "         'tornado': 16,\n",
              "         'windstorm': 16,\n",
              "         'bomb': 15,\n",
              "         'casualty': 15,\n",
              "         'chemical%20emergency': 15,\n",
              "         'collapse': 15,\n",
              "         'disaster': 15,\n",
              "         'drowned': 15,\n",
              "         'flood': 15,\n",
              "         'forest%20fire': 15,\n",
              "         'hijacking': 15,\n",
              "         'hostage': 15,\n",
              "         'emergency': 14,\n",
              "         'landslide': 14,\n",
              "         'nuclear%20reactor': 14,\n",
              "         'quarantined': 14,\n",
              "         'weapon': 14,\n",
              "         'whirlwind': 14,\n",
              "         'ablaze': 13,\n",
              "         'collapsed': 13,\n",
              "         'electrocuted': 13,\n",
              "         'flames': 13,\n",
              "         'seismic': 13,\n",
              "         'snowstorm': 13,\n",
              "         'crash': 12,\n",
              "         'eyewitness': 12,\n",
              "         'first%20responders': 12,\n",
              "         'mudslide': 12,\n",
              "         'thunder': 12,\n",
              "         'annihilated': 11,\n",
              "         'emergency%20services': 11,\n",
              "         'fire': 11,\n",
              "         'injury': 11,\n",
              "         'trauma': 11,\n",
              "         'tsunami': 11,\n",
              "         'annihilation': 10,\n",
              "         'burning': 10,\n",
              "         'detonate': 10,\n",
              "         'fatality': 10,\n",
              "         'rubble': 10,\n",
              "         'survived': 10,\n",
              "         'wounds': 10,\n",
              "         'apocalypse': 9,\n",
              "         'death': 9,\n",
              "         'demolition': 9,\n",
              "         'destroy': 9,\n",
              "         'detonation': 9,\n",
              "         'drowning': 9,\n",
              "         'exploded': 9,\n",
              "         'injuries': 9,\n",
              "         'sunk': 9,\n",
              "         'trapped': 9,\n",
              "         'arsonist': 8,\n",
              "         'cliff%20fall': 8,\n",
              "         'danger': 8,\n",
              "         'destroyed': 8,\n",
              "         'military': 8,\n",
              "         'pandemonium': 8,\n",
              "         'sinking': 8,\n",
              "         'burned': 7,\n",
              "         'catastrophe': 7,\n",
              "         'dead': 7,\n",
              "         'deluged': 7,\n",
              "         'demolished': 7,\n",
              "         'desolate': 7,\n",
              "         'desolation': 7,\n",
              "         'hazard': 7,\n",
              "         'hellfire': 7,\n",
              "         'loud%20bang': 7,\n",
              "         'sirens': 7,\n",
              "         'war%20zone': 7,\n",
              "         'wreck': 7,\n",
              "         'deluge': 6,\n",
              "         'destruction': 6,\n",
              "         'inundated': 6,\n",
              "         'riot': 6,\n",
              "         'upheaval': 6,\n",
              "         'armageddon': 5,\n",
              "         'army': 5,\n",
              "         'battle': 5,\n",
              "         'blaze': 5,\n",
              "         'bleeding': 5,\n",
              "         'blood': 5,\n",
              "         'blown%20up': 5,\n",
              "         'body%20bagging': 5,\n",
              "         'curfew': 5,\n",
              "         'demolish': 5,\n",
              "         'fear': 5,\n",
              "         'flattened': 5,\n",
              "         'lava': 5,\n",
              "         'meltdown': 5,\n",
              "         'quarantine': 5,\n",
              "         'radiation%20emergency': 5,\n",
              "         'rescue': 5,\n",
              "         'screams': 5,\n",
              "         'siren': 5,\n",
              "         'survive': 5,\n",
              "         'trouble': 5,\n",
              "         'twister': 5,\n",
              "         'avalanche': 4,\n",
              "         'blizzard': 4,\n",
              "         'crush': 4,\n",
              "         'crushed': 4,\n",
              "         'harm': 4,\n",
              "         'obliterate': 4,\n",
              "         'obliterated': 4,\n",
              "         'obliteration': 4,\n",
              "         'screamed': 4,\n",
              "         'bloody': 3,\n",
              "         'collide': 3,\n",
              "         'drown': 3,\n",
              "         'explode': 3,\n",
              "         'mayhem': 3,\n",
              "         'panic': 3,\n",
              "         'smoke': 3,\n",
              "         'stretcher': 3,\n",
              "         'wrecked': 3,\n",
              "         'blew%20up': 2,\n",
              "         'blight': 2,\n",
              "         'inundation': 2,\n",
              "         'panicking': 2,\n",
              "         'screaming': 2,\n",
              "         'threat': 2,\n",
              "         'traumatised': 2,\n",
              "         'blazing': 1,\n",
              "         'body%20bag': 1,\n",
              "         'body%20bags': 1,\n",
              "         'electrocute': 1,\n",
              "         'epicentre': 1,\n",
              "         'ruin': 1})"
            ]
          },
          "execution_count": 14,
          "metadata": {},
          "output_type": "execute_result"
        }
      ],
      "source": [
        "Counter(train_data[train_data['target'] == 1]['keyword'].dropna())"
      ]
    },
    {
      "cell_type": "code",
      "execution_count": 15,
      "metadata": {
        "colab": {
          "base_uri": "https://localhost:8080/"
        },
        "id": "OcKhTzmNBLwW",
        "outputId": "8423d117-34b1-460e-954a-fb14cc70fe0e"
      },
      "outputs": [
        {
          "data": {
            "text/plain": [
              "Counter({'body%20bags': 40,\n",
              "         'armageddon': 37,\n",
              "         'harm': 37,\n",
              "         'deluge': 36,\n",
              "         'ruin': 36,\n",
              "         'wrecked': 36,\n",
              "         'explode': 35,\n",
              "         'fear': 35,\n",
              "         'siren': 35,\n",
              "         'twister': 35,\n",
              "         'aftershock': 34,\n",
              "         'panic': 34,\n",
              "         'screaming': 34,\n",
              "         'blaze': 33,\n",
              "         'blazing': 33,\n",
              "         'blizzard': 33,\n",
              "         'crush': 33,\n",
              "         'sinking': 33,\n",
              "         'traumatised': 33,\n",
              "         'bloody': 32,\n",
              "         'body%20bag': 32,\n",
              "         'curfew': 32,\n",
              "         'hellfire': 32,\n",
              "         'upheaval': 32,\n",
              "         'blew%20up': 31,\n",
              "         'collide': 31,\n",
              "         'electrocute': 31,\n",
              "         'panicking': 31,\n",
              "         'smoke': 31,\n",
              "         'bleeding': 30,\n",
              "         'blight': 30,\n",
              "         'blood': 30,\n",
              "         'screamed': 30,\n",
              "         'screams': 30,\n",
              "         'stretcher': 30,\n",
              "         'sunk': 30,\n",
              "         'wreck': 30,\n",
              "         'army': 29,\n",
              "         'catastrophe': 29,\n",
              "         'demolish': 29,\n",
              "         'desolation': 29,\n",
              "         'drown': 29,\n",
              "         'flattened': 29,\n",
              "         'inundated': 29,\n",
              "         'lava': 29,\n",
              "         'pandemonium': 29,\n",
              "         'quarantine': 29,\n",
              "         'blown%20up': 28,\n",
              "         'body%20bagging': 28,\n",
              "         'cliff%20fall': 28,\n",
              "         'danger': 28,\n",
              "         'destroy': 28,\n",
              "         'destruction': 28,\n",
              "         'meltdown': 28,\n",
              "         'riot': 28,\n",
              "         'trouble': 28,\n",
              "         'crushed': 27,\n",
              "         'death': 27,\n",
              "         'fatality': 27,\n",
              "         'fire': 27,\n",
              "         'hazard': 27,\n",
              "         'injury': 27,\n",
              "         'loud%20bang': 27,\n",
              "         'mayhem': 27,\n",
              "         'obliterate': 27,\n",
              "         'obliterated': 27,\n",
              "         'survive': 27,\n",
              "         'arsonist': 26,\n",
              "         'avalanche': 26,\n",
              "         'burned': 26,\n",
              "         'demolition': 26,\n",
              "         'detonate': 26,\n",
              "         'flames': 26,\n",
              "         'military': 26,\n",
              "         'thunder': 26,\n",
              "         'drowning': 25,\n",
              "         'mudslide': 25,\n",
              "         'obliteration': 25,\n",
              "         'weapon': 25,\n",
              "         'whirlwind': 25,\n",
              "         'burning': 24,\n",
              "         'destroyed': 24,\n",
              "         'exploded': 24,\n",
              "         'injuries': 24,\n",
              "         'windstorm': 24,\n",
              "         'ablaze': 23,\n",
              "         'annihilated': 23,\n",
              "         'apocalypse': 23,\n",
              "         'dead': 23,\n",
              "         'detonation': 23,\n",
              "         'drowned': 23,\n",
              "         'emergency': 23,\n",
              "         'quarantined': 23,\n",
              "         'survived': 23,\n",
              "         'trapped': 23,\n",
              "         'tsunami': 23,\n",
              "         'wounds': 23,\n",
              "         'collapsed': 22,\n",
              "         'damage': 22,\n",
              "         'desolate': 22,\n",
              "         'emergency%20services': 22,\n",
              "         'nuclear%20reactor': 22,\n",
              "         'sirens': 22,\n",
              "         'weapons': 22,\n",
              "         'battle': 21,\n",
              "         'crash': 21,\n",
              "         'demolished': 21,\n",
              "         'electrocuted': 21,\n",
              "         'deluged': 20,\n",
              "         'disaster': 20,\n",
              "         'eyewitness': 20,\n",
              "         'flood': 20,\n",
              "         'trauma': 20,\n",
              "         'annihilation': 19,\n",
              "         'bomb': 19,\n",
              "         'bombed': 19,\n",
              "         'casualty': 19,\n",
              "         'collapse': 19,\n",
              "         'explosion': 19,\n",
              "         'fatalities': 19,\n",
              "         'landslide': 19,\n",
              "         'tornado': 19,\n",
              "         'ambulance': 18,\n",
              "         'chemical%20emergency': 18,\n",
              "         'derail': 18,\n",
              "         'hurricane': 18,\n",
              "         'rescued': 18,\n",
              "         'rubble': 18,\n",
              "         'collided': 17,\n",
              "         'engulfed': 17,\n",
              "         'first%20responders': 17,\n",
              "         'hail': 17,\n",
              "         'hijack': 17,\n",
              "         'hijacking': 17,\n",
              "         'rescue': 17,\n",
              "         'storm': 17,\n",
              "         'war%20zone': 17,\n",
              "         'burning%20buildings': 16,\n",
              "         'hijacker': 16,\n",
              "         'hostage': 16,\n",
              "         'lightning': 16,\n",
              "         'natural%20disaster': 16,\n",
              "         'police': 16,\n",
              "         'rainstorm': 16,\n",
              "         'seismic': 16,\n",
              "         'snowstorm': 16,\n",
              "         'bioterror': 15,\n",
              "         'evacuate': 15,\n",
              "         'attacked': 14,\n",
              "         'emergency%20plan': 14,\n",
              "         'refugees': 14,\n",
              "         'tragedy': 14,\n",
              "         'crashed': 13,\n",
              "         'cyclone': 13,\n",
              "         'devastated': 13,\n",
              "         'famine': 13,\n",
              "         'flooding': 13,\n",
              "         'hazardous': 13,\n",
              "         'mass%20murderer': 13,\n",
              "         'deaths': 12,\n",
              "         'derailed': 12,\n",
              "         'dust%20storm': 12,\n",
              "         'fatal': 12,\n",
              "         'rioting': 12,\n",
              "         'sinkhole': 12,\n",
              "         'structural%20failure': 12,\n",
              "         'accident': 11,\n",
              "         'attack': 11,\n",
              "         'buildings%20burning': 11,\n",
              "         'epicentre': 11,\n",
              "         'fire%20truck': 11,\n",
              "         'injured': 11,\n",
              "         'massacre': 11,\n",
              "         'wounded': 11,\n",
              "         'arson': 10,\n",
              "         'catastrophic': 10,\n",
              "         'collision': 10,\n",
              "         'displaced': 10,\n",
              "         'floods': 10,\n",
              "         'hostages': 10,\n",
              "         'terrorism': 10,\n",
              "         'bioterrorism': 9,\n",
              "         'devastation': 9,\n",
              "         'earthquake': 9,\n",
              "         'heat%20wave': 9,\n",
              "         'sandstorm': 9,\n",
              "         'survivors': 9,\n",
              "         'threat': 9,\n",
              "         'volcano': 9,\n",
              "         'evacuation': 8,\n",
              "         'hailstorm': 8,\n",
              "         'inundation': 8,\n",
              "         'terrorist': 8,\n",
              "         'bush%20fires': 7,\n",
              "         'casualties': 7,\n",
              "         'drought': 7,\n",
              "         'thunderstorm': 7,\n",
              "         'violent%20storm': 7,\n",
              "         'bridge%20collapse': 6,\n",
              "         'airplane%20accident': 5,\n",
              "         'buildings%20on%20fire': 5,\n",
              "         'forest%20fires': 5,\n",
              "         'mass%20murder': 5,\n",
              "         'evacuated': 4,\n",
              "         'forest%20fire': 4,\n",
              "         'radiation%20emergency': 4,\n",
              "         'razed': 4,\n",
              "         'wild%20fires': 4,\n",
              "         'wildfire': 4,\n",
              "         'nuclear%20disaster': 3,\n",
              "         'rescuers': 3,\n",
              "         'suicide%20bomb': 3,\n",
              "         'bombing': 2,\n",
              "         'oil%20spill': 1,\n",
              "         'outbreak': 1,\n",
              "         'suicide%20bomber': 1,\n",
              "         'suicide%20bombing': 1,\n",
              "         'typhoon': 1})"
            ]
          },
          "execution_count": 15,
          "metadata": {},
          "output_type": "execute_result"
        }
      ],
      "source": [
        "Counter(train_data[train_data['target'] == 0]['keyword'].dropna())"
      ]
    },
    {
      "cell_type": "markdown",
      "metadata": {
        "id": "w9bflHrUBLwW"
      },
      "source": [
        "Oddly enough - the key words in disaster and non-disaster tweets are similar. It's possible the keywords of this dataset are considered \"sensitive\" words, in which case they are relevant in both non-disaster and disaster tweets, but depending on the context can determine the classification of the example. In one instance 'lava' can be considered a keyword, but in the context of non-disaster tweets, 'lava lamp' could be a phrase and this would be no indication of a disaster tweet.\n",
        "\n",
        "If we were building a baseline, we would use the the majority classification - in this case "
      ]
    },
    {
      "cell_type": "markdown",
      "metadata": {
        "id": "GcX0y6TGBLwW"
      },
      "source": [
        "## Building The Models"
      ]
    },
    {
      "cell_type": "markdown",
      "metadata": {},
      "source": [
        "In order for our models to work effectively, let's first modify the data to be best used by a model of our choosing."
      ]
    },
    {
      "cell_type": "code",
      "execution_count": 16,
      "metadata": {
        "id": "uklnHTRxBLwW"
      },
      "outputs": [],
      "source": [
        "def pad_data(sequences, max_length):\n",
        "  # Keras has a convenient utility for padding a sequence.\n",
        "  # Also make sure we get a numpy array rather than an array of lists.\n",
        "  return np.array(list(\n",
        "      tf.keras.preprocessing.sequence.pad_sequences(\n",
        "          sequences, maxlen=max_length, padding='post', value=0)))"
      ]
    },
    {
      "cell_type": "code",
      "execution_count": 17,
      "metadata": {
        "id": "V61RgT3lISqc"
      },
      "outputs": [],
      "source": [
        "def get_vectorize_layer(train_X, max_vocab_size = 1000, max_tweet_length = 350):\n",
        "\n",
        "  layer = tf.keras.layers.TextVectorization(\n",
        "      max_tokens=max_vocab_size, # Maximum vocabulary size (None -> no cap)\n",
        "      standardize='lower_and_strip_punctuation', # Standarization to apply to text (None -> no standarization)\n",
        "      split='whitespace', # Values can be None (no splitting), \"whitespace\", or a Callable\n",
        "      output_mode='int',  # Values can be \"int\", \"multi_hot\", \"count\" or \"tf_idf\"\n",
        "      output_sequence_length=max_tweet_length, # Only valid in INT mode. If set, the output will have its time dimension padded or truncated to exactly output_sequence_length values\n",
        "      )\n",
        "\n",
        "  layer.adapt(train_X)\n",
        "\n",
        "  return layer"
      ]
    },
    {
      "attachments": {
        "image.png": {
          "image/png": "[encoded data removed]"
        }
      },
      "cell_type": "markdown",
      "metadata": {},
      "source": [
        "In classic NLP problems, the idea of an RNN is very appealing since it involves the idea of sequentiality. In other words, you begin processing the data through one node, which feeds into the next node. In the instance of text, it makes a lot of sense to build on the meaning of the sentence based on the previous information passed through the RNN. For a more graphical explanation see below:\n",
        "\n",
        "![image.png](attachment:image.png)\n",
        "\n",
        "Let's try this implementation. In order to best represent this input text, we can also use embeddings which will create a high dimensionality representation of the words, giving the model a better understanding of what a word *actually* means."
      ]
    },
    {
      "cell_type": "code",
      "execution_count": 45,
      "metadata": {},
      "outputs": [
        {
          "name": "stdout",
          "output_type": "stream",
          "text": [
            "Epoch 1/15\n",
            "\u001b[1m191/191\u001b[0m \u001b[32m━━━━━━━━━━━━━━━━━━━━\u001b[0m\u001b[37m\u001b[0m \u001b[1m17s\u001b[0m 84ms/step - accuracy: 0.5331 - loss: 0.6957\n",
            "Epoch 2/15\n",
            "\u001b[1m191/191\u001b[0m \u001b[32m━━━━━━━━━━━━━━━━━━━━\u001b[0m\u001b[37m\u001b[0m \u001b[1m17s\u001b[0m 88ms/step - accuracy: 0.6547 - loss: 0.6405\n",
            "Epoch 3/15\n",
            "\u001b[1m191/191\u001b[0m \u001b[32m━━━━━━━━━━━━━━━━━━━━\u001b[0m\u001b[37m\u001b[0m \u001b[1m16s\u001b[0m 84ms/step - accuracy: 0.5959 - loss: 0.6670\n",
            "Epoch 4/15\n",
            "\u001b[1m191/191\u001b[0m \u001b[32m━━━━━━━━━━━━━━━━━━━━\u001b[0m\u001b[37m\u001b[0m \u001b[1m16s\u001b[0m 84ms/step - accuracy: 0.5679 - loss: 0.6557\n",
            "Epoch 5/15\n",
            "\u001b[1m191/191\u001b[0m \u001b[32m━━━━━━━━━━━━━━━━━━━━\u001b[0m\u001b[37m\u001b[0m \u001b[1m16s\u001b[0m 84ms/step - accuracy: 0.6431 - loss: 0.6189\n",
            "Epoch 6/15\n",
            "\u001b[1m191/191\u001b[0m \u001b[32m━━━━━━━━━━━━━━━━━━━━\u001b[0m\u001b[37m\u001b[0m \u001b[1m16s\u001b[0m 82ms/step - accuracy: 0.6405 - loss: 0.6175\n",
            "Epoch 7/15\n",
            "\u001b[1m191/191\u001b[0m \u001b[32m━━━━━━━━━━━━━━━━━━━━\u001b[0m\u001b[37m\u001b[0m \u001b[1m16s\u001b[0m 84ms/step - accuracy: 0.5883 - loss: 0.6437\n",
            "Epoch 8/15\n",
            "\u001b[1m191/191\u001b[0m \u001b[32m━━━━━━━━━━━━━━━━━━━━\u001b[0m\u001b[37m\u001b[0m \u001b[1m16s\u001b[0m 84ms/step - accuracy: 0.5822 - loss: 0.6489\n",
            "Epoch 9/15\n",
            "\u001b[1m191/191\u001b[0m \u001b[32m━━━━━━━━━━━━━━━━━━━━\u001b[0m\u001b[37m\u001b[0m \u001b[1m16s\u001b[0m 84ms/step - accuracy: 0.6777 - loss: 0.6030\n",
            "Epoch 10/15\n",
            "\u001b[1m191/191\u001b[0m \u001b[32m━━━━━━━━━━━━━━━━━━━━\u001b[0m\u001b[37m\u001b[0m \u001b[1m17s\u001b[0m 87ms/step - accuracy: 0.6819 - loss: 0.6018\n",
            "Epoch 11/15\n",
            "\u001b[1m191/191\u001b[0m \u001b[32m━━━━━━━━━━━━━━━━━━━━\u001b[0m\u001b[37m\u001b[0m \u001b[1m16s\u001b[0m 85ms/step - accuracy: 0.6886 - loss: 0.5974\n",
            "Epoch 12/15\n",
            "\u001b[1m191/191\u001b[0m \u001b[32m━━━━━━━━━━━━━━━━━━━━\u001b[0m\u001b[37m\u001b[0m \u001b[1m16s\u001b[0m 83ms/step - accuracy: 0.6697 - loss: 0.6037\n",
            "Epoch 13/15\n",
            "\u001b[1m191/191\u001b[0m \u001b[32m━━━━━━━━━━━━━━━━━━━━\u001b[0m\u001b[37m\u001b[0m \u001b[1m16s\u001b[0m 82ms/step - accuracy: 0.5812 - loss: 0.6774\n",
            "Epoch 14/15\n",
            "\u001b[1m191/191\u001b[0m \u001b[32m━━━━━━━━━━━━━━━━━━━━\u001b[0m\u001b[37m\u001b[0m \u001b[1m16s\u001b[0m 82ms/step - accuracy: 0.6981 - loss: 0.5872\n",
            "Epoch 15/15\n",
            "\u001b[1m191/191\u001b[0m \u001b[32m━━━━━━━━━━━━━━━━━━━━\u001b[0m\u001b[37m\u001b[0m \u001b[1m15s\u001b[0m 81ms/step - accuracy: 0.7016 - loss: 0.5828\n"
          ]
        }
      ],
      "source": [
        "def build_RNN(v_layer, embedding_dims=100):\n",
        "    model = tf.keras.Sequential()\n",
        "\n",
        "    model.add(v_layer)\n",
        "\n",
        "    model.add(tf.keras.layers.Embedding(input_dim=1000,\n",
        "                                                    output_dim=embedding_dims))\n",
        "\n",
        "    model.add(tf.keras.layers.SimpleRNN(units=128, return_sequences=True))\n",
        "    model.add(tf.keras.layers.Dense(10, activation='relu'))\n",
        "\n",
        "    model.add(tf.keras.layers.Dense(1, activation='sigmoid'))\n",
        "\n",
        "    model.compile(loss='binary_crossentropy',\n",
        "                    optimizer='adam',\n",
        "                    metrics=['accuracy'])\n",
        "    return model\n",
        "\n",
        "trainn = np.array(train_X)[:,0]\n",
        "\n",
        "v_layer = get_vectorize_layer(trainn)\n",
        "model = build_RNN(v_layer)\n",
        "\n",
        "history = model.fit(\n",
        "  x = train_X,  # our sparse padded training data\n",
        "  y = train_Y,  # corresponding binary labels\n",
        "  epochs=15,    # number of passes through the training data\n",
        "  verbose=1     # display some progress output during training\n",
        "  )"
      ]
    },
    {
      "attachments": {
        "image.png": {
          "image/png": "[encoded data removed]"
        }
      },
      "cell_type": "markdown",
      "metadata": {},
      "source": [
        "The results aren't bad - but definitely not good. Let's establish our baseline as the most common label in our training data. This is actually non-disaster data, which comes out to 56%. Our model is only beating this baseline by 2% - it can most definitely be improved...but how?\n",
        "\n",
        "What if we use some more powerful RNN with some interesting technology? How about LSTM?\n",
        "![image.png](attachment:image.png)\n",
        "\n",
        "With LSTM, not only do we have some \"working memory\" as was described before with RNNs, but we add some amount of information that can continue to persist without being slowly lost as you continue through your neural network. Let's see how that works."
      ]
    },
    {
      "cell_type": "code",
      "execution_count": 19,
      "metadata": {
        "id": "SD71468fBnq-"
      },
      "outputs": [],
      "source": [
        "def build_RNN(v_layer, embedding_dims=100, LSTM_units=(64, 32), max_tweet_length=350):\n",
        "  model = tf.keras.Sequential()\n",
        "\n",
        "  model.add(v_layer)\n",
        "\n",
        "  model.add(tf.keras.layers.Embedding(input_dim=1000,\n",
        "                                                output_dim=embedding_dims))\n",
        "\n",
        "  model.add(\n",
        "      tf.keras.layers.Bidirectional(tf.keras.layers.LSTM(LSTM_units[0], return_sequences=True))\n",
        "  )\n",
        "  model.add(tf.keras.layers.Bidirectional(tf.keras.layers.LSTM(LSTM_units[1])))\n",
        "\n",
        "  model.add(tf.keras.layers.Dense(10, activation='relu'))\n",
        "\n",
        "  model.add(tf.keras.layers.Dense(1, activation='sigmoid'))\n",
        "\n",
        "  model.compile(loss='binary_crossentropy',\n",
        "                optimizer='adam',\n",
        "                metrics=['accuracy'])\n",
        "\n",
        "  return model"
      ]
    },
    {
      "cell_type": "code",
      "execution_count": 20,
      "metadata": {
        "colab": {
          "base_uri": "https://localhost:8080/"
        },
        "id": "IT7AMrHZGVr_",
        "outputId": "7ad0743f-c01c-4a44-d12b-76bd6c3c915c"
      },
      "outputs": [
        {
          "name": "stdout",
          "output_type": "stream",
          "text": [
            "Epoch 1/15\n",
            "\u001b[1m191/191\u001b[0m \u001b[32m━━━━━━━━━━━━━━━━━━━━\u001b[0m\u001b[37m\u001b[0m \u001b[1m62s\u001b[0m 303ms/step - accuracy: 0.6303 - loss: 0.6306\n",
            "Epoch 2/15\n",
            "\u001b[1m191/191\u001b[0m \u001b[32m━━━━━━━━━━━━━━━━━━━━\u001b[0m\u001b[37m\u001b[0m \u001b[1m67s\u001b[0m 350ms/step - accuracy: 0.8190 - loss: 0.4163\n",
            "Epoch 3/15\n",
            "\u001b[1m191/191\u001b[0m \u001b[32m━━━━━━━━━━━━━━━━━━━━\u001b[0m\u001b[37m\u001b[0m \u001b[1m65s\u001b[0m 339ms/step - accuracy: 0.8336 - loss: 0.3749\n",
            "Epoch 4/15\n",
            "\u001b[1m191/191\u001b[0m \u001b[32m━━━━━━━━━━━━━━━━━━━━\u001b[0m\u001b[37m\u001b[0m \u001b[1m63s\u001b[0m 329ms/step - accuracy: 0.8508 - loss: 0.3530\n",
            "Epoch 5/15\n",
            "\u001b[1m191/191\u001b[0m \u001b[32m━━━━━━━━━━━━━━━━━━━━\u001b[0m\u001b[37m\u001b[0m \u001b[1m64s\u001b[0m 333ms/step - accuracy: 0.8603 - loss: 0.3288\n",
            "Epoch 6/15\n",
            "\u001b[1m191/191\u001b[0m \u001b[32m━━━━━━━━━━━━━━━━━━━━\u001b[0m\u001b[37m\u001b[0m \u001b[1m61s\u001b[0m 318ms/step - accuracy: 0.8823 - loss: 0.2973\n",
            "Epoch 7/15\n",
            "\u001b[1m191/191\u001b[0m \u001b[32m━━━━━━━━━━━━━━━━━━━━\u001b[0m\u001b[37m\u001b[0m \u001b[1m73s\u001b[0m 381ms/step - accuracy: 0.8847 - loss: 0.2829\n",
            "Epoch 8/15\n",
            "\u001b[1m191/191\u001b[0m \u001b[32m━━━━━━━━━━━━━━━━━━━━\u001b[0m\u001b[37m\u001b[0m \u001b[1m81s\u001b[0m 424ms/step - accuracy: 0.8931 - loss: 0.2635\n",
            "Epoch 9/15\n",
            "\u001b[1m191/191\u001b[0m \u001b[32m━━━━━━━━━━━━━━━━━━━━\u001b[0m\u001b[37m\u001b[0m \u001b[1m74s\u001b[0m 385ms/step - accuracy: 0.9014 - loss: 0.2327\n",
            "Epoch 10/15\n",
            "\u001b[1m191/191\u001b[0m \u001b[32m━━━━━━━━━━━━━━━━━━━━\u001b[0m\u001b[37m\u001b[0m \u001b[1m70s\u001b[0m 366ms/step - accuracy: 0.9172 - loss: 0.2083\n",
            "Epoch 11/15\n",
            "\u001b[1m191/191\u001b[0m \u001b[32m━━━━━━━━━━━━━━━━━━━━\u001b[0m\u001b[37m\u001b[0m \u001b[1m73s\u001b[0m 382ms/step - accuracy: 0.9276 - loss: 0.1909\n",
            "Epoch 12/15\n",
            "\u001b[1m191/191\u001b[0m \u001b[32m━━━━━━━━━━━━━━━━━━━━\u001b[0m\u001b[37m\u001b[0m \u001b[1m74s\u001b[0m 386ms/step - accuracy: 0.9299 - loss: 0.1799\n",
            "Epoch 13/15\n",
            "\u001b[1m191/191\u001b[0m \u001b[32m━━━━━━━━━━━━━━━━━━━━\u001b[0m\u001b[37m\u001b[0m \u001b[1m72s\u001b[0m 378ms/step - accuracy: 0.9289 - loss: 0.1713\n",
            "Epoch 14/15\n",
            "\u001b[1m191/191\u001b[0m \u001b[32m━━━━━━━━━━━━━━━━━━━━\u001b[0m\u001b[37m\u001b[0m \u001b[1m67s\u001b[0m 349ms/step - accuracy: 0.9432 - loss: 0.1487\n",
            "Epoch 15/15\n",
            "\u001b[1m191/191\u001b[0m \u001b[32m━━━━━━━━━━━━━━━━━━━━\u001b[0m\u001b[37m\u001b[0m \u001b[1m61s\u001b[0m 320ms/step - accuracy: 0.9424 - loss: 0.1419\n"
          ]
        }
      ],
      "source": [
        "trainn = np.array(train_X)[:,0]\n",
        "\n",
        "v_layer = get_vectorize_layer(trainn)\n",
        "model = build_RNN(v_layer)\n",
        "\n",
        "history = model.fit(\n",
        "  x = train_X,  # our sparse padded training data\n",
        "  y = train_Y,  # corresponding binary labels\n",
        "  epochs=15,    # number of passes through the training data\n",
        "  verbose=1     # display some progress output during training\n",
        "  )"
      ]
    },
    {
      "cell_type": "markdown",
      "metadata": {},
      "source": [
        "Woah - we're seeing a huge improvement. Definitely better than the .58% that we previously had."
      ]
    },
    {
      "cell_type": "markdown",
      "metadata": {},
      "source": []
    }
  ],
  "metadata": {
    "accelerator": "TPU",
    "colab": {
      "gpuType": "V28",
      "provenance": []
    },
    "kernelspec": {
      "display_name": "Python 3",
      "name": "python3"
    },
    "language_info": {
      "codemirror_mode": {
        "name": "ipython",
        "version": 3
      },
      "file_extension": ".py",
      "mimetype": "text/x-python",
      "name": "python",
      "nbconvert_exporter": "python",
      "pygments_lexer": "ipython3",
      "version": "3.11.6"
    }
  },
  "nbformat": 4,
  "nbformat_minor": 0
}
