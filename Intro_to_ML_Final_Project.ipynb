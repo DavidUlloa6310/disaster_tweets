{
  "cells": [
    {
      "cell_type": "markdown",
      "metadata": {
        "id": "jx0b5_tAKdzX"
      },
      "source": [
        "# Final Project - Disaster Tweets Analysis\n",
        "The task of this project is to classify Twitter tweets into two categories: talking or not talking about a disaster. This problem is solved through different deep learning techniques in the field of natural language processing (or NLP). Models cannot easily understand the complex patterns of language as easily as they can the correlations between numbers. How do you capture the meaning of \"disaster\"? How do know when a Twitter user is talking about \"fire\" in terms of a party or a burning house? These are just some examples that our model will have to solve to accurately classify whether a tweet is talking about a disaster or not.\n"
      ]
    },
    {
      "cell_type": "markdown",
      "metadata": {
        "id": "LZD0F9vhI2lk"
      },
      "source": [
        "## Installations"
      ]
    },
    {
      "cell_type": "code",
      "execution_count": 1,
      "metadata": {
        "id": "YiJq2iXmMd07"
      },
      "outputs": [],
      "source": [
        "import tensorflow as tf\n",
        "import pandas as pd\n",
        "import numpy as np\n",
        "import matplotlib.pyplot as plt"
      ]
    },
    {
      "cell_type": "code",
      "execution_count": 2,
      "metadata": {
        "colab": {
          "base_uri": "https://localhost:8080/",
          "height": 0
        },
        "id": "voSFUYgSBLwQ",
        "outputId": "e56b2fd5-a7d6-4183-fbb6-eec3c7deaa18"
      },
      "outputs": [
        {
          "output_type": "stream",
          "name": "stdout",
          "text": [
            "--2024-04-20 06:14:03--  https://raw.githubusercontent.com/DavidUlloa6310/disaster_tweets/main/test.csv\n",
            "Resolving raw.githubusercontent.com (raw.githubusercontent.com)... 185.199.110.133, 185.199.108.133, 185.199.109.133, ...\n",
            "Connecting to raw.githubusercontent.com (raw.githubusercontent.com)|185.199.110.133|:443... connected.\n",
            "HTTP request sent, awaiting response... 200 OK\n",
            "Length: 420783 (411K) [text/plain]\n",
            "Saving to: ‘test.csv’\n",
            "\n",
            "test.csv            100%[===================>] 410.92K  --.-KB/s    in 0.01s   \n",
            "\n",
            "2024-04-20 06:14:04 (29.8 MB/s) - ‘test.csv’ saved [420783/420783]\n",
            "\n",
            "--2024-04-20 06:14:04--  https://raw.githubusercontent.com/DavidUlloa6310/disaster_tweets/main/train.csv\n",
            "Resolving raw.githubusercontent.com (raw.githubusercontent.com)... 185.199.108.133, 185.199.109.133, 185.199.111.133, ...\n",
            "Connecting to raw.githubusercontent.com (raw.githubusercontent.com)|185.199.108.133|:443... connected.\n",
            "HTTP request sent, awaiting response... 200 OK\n",
            "Length: 987712 (965K) [text/plain]\n",
            "Saving to: ‘train.csv’\n",
            "\n",
            "train.csv           100%[===================>] 964.56K  --.-KB/s    in 0.02s   \n",
            "\n",
            "2024-04-20 06:14:04 (51.5 MB/s) - ‘train.csv’ saved [987712/987712]\n",
            "\n"
          ]
        }
      ],
      "source": [
        "# Collect data from public GH repo\n",
        "!wget -O test.csv https://raw.githubusercontent.com/DavidUlloa6310/disaster_tweets/main/test.csv\n",
        "!wget -O train.csv https://raw.githubusercontent.com/DavidUlloa6310/disaster_tweets/main/train.csv"
      ]
    },
    {
      "cell_type": "markdown",
      "metadata": {
        "id": "ck77F6nKI2ll"
      },
      "source": [
        "## Data Exploration\n",
        "Before we can begin building and basing solutions on the data, we must first understand it's features. From the most important features or interesting aspects of our data, we can start building."
      ]
    },
    {
      "cell_type": "code",
      "execution_count": 3,
      "metadata": {
        "colab": {
          "base_uri": "https://localhost:8080/",
          "height": 432
        },
        "id": "D1Cfh4L6KpzL",
        "outputId": "40eae9fa-9f2f-4e60-bd9f-92ba4204e111"
      },
      "outputs": [
        {
          "output_type": "display_data",
          "data": {
            "text/plain": [
              "'Training Data'"
            ],
            "application/vnd.google.colaboratory.intrinsic+json": {
              "type": "string"
            }
          },
          "metadata": {}
        },
        {
          "output_type": "display_data",
          "data": {
            "text/plain": [
              "   id keyword location                                               text  \\\n",
              "0   1     NaN      NaN  Our Deeds are the Reason of this #earthquake M...   \n",
              "1   4     NaN      NaN             Forest fire near La Ronge Sask. Canada   \n",
              "2   5     NaN      NaN  All residents asked to 'shelter in place' are ...   \n",
              "3   6     NaN      NaN  13,000 people receive #wildfires evacuation or...   \n",
              "4   7     NaN      NaN  Just got sent this photo from Ruby #Alaska as ...   \n",
              "\n",
              "   target  \n",
              "0       1  \n",
              "1       1  \n",
              "2       1  \n",
              "3       1  \n",
              "4       1  "
            ],
            "text/html": [
              "\n",
              "  <div id=\"df-29051ab7-890f-4b9b-9b03-018fb9396943\" class=\"colab-df-container\">\n",
              "    <div>\n",
              "<style scoped>\n",
              "    .dataframe tbody tr th:only-of-type {\n",
              "        vertical-align: middle;\n",
              "    }\n",
              "\n",
              "    .dataframe tbody tr th {\n",
              "        vertical-align: top;\n",
              "    }\n",
              "\n",
              "    .dataframe thead th {\n",
              "        text-align: right;\n",
              "    }\n",
              "</style>\n",
              "<table border=\"1\" class=\"dataframe\">\n",
              "  <thead>\n",
              "    <tr style=\"text-align: right;\">\n",
              "      <th></th>\n",
              "      <th>id</th>\n",
              "      <th>keyword</th>\n",
              "      <th>location</th>\n",
              "      <th>text</th>\n",
              "      <th>target</th>\n",
              "    </tr>\n",
              "  </thead>\n",
              "  <tbody>\n",
              "    <tr>\n",
              "      <th>0</th>\n",
              "      <td>1</td>\n",
              "      <td>NaN</td>\n",
              "      <td>NaN</td>\n",
              "      <td>Our Deeds are the Reason of this #earthquake M...</td>\n",
              "      <td>1</td>\n",
              "    </tr>\n",
              "    <tr>\n",
              "      <th>1</th>\n",
              "      <td>4</td>\n",
              "      <td>NaN</td>\n",
              "      <td>NaN</td>\n",
              "      <td>Forest fire near La Ronge Sask. Canada</td>\n",
              "      <td>1</td>\n",
              "    </tr>\n",
              "    <tr>\n",
              "      <th>2</th>\n",
              "      <td>5</td>\n",
              "      <td>NaN</td>\n",
              "      <td>NaN</td>\n",
              "      <td>All residents asked to 'shelter in place' are ...</td>\n",
              "      <td>1</td>\n",
              "    </tr>\n",
              "    <tr>\n",
              "      <th>3</th>\n",
              "      <td>6</td>\n",
              "      <td>NaN</td>\n",
              "      <td>NaN</td>\n",
              "      <td>13,000 people receive #wildfires evacuation or...</td>\n",
              "      <td>1</td>\n",
              "    </tr>\n",
              "    <tr>\n",
              "      <th>4</th>\n",
              "      <td>7</td>\n",
              "      <td>NaN</td>\n",
              "      <td>NaN</td>\n",
              "      <td>Just got sent this photo from Ruby #Alaska as ...</td>\n",
              "      <td>1</td>\n",
              "    </tr>\n",
              "  </tbody>\n",
              "</table>\n",
              "</div>\n",
              "    <div class=\"colab-df-buttons\">\n",
              "\n",
              "  <div class=\"colab-df-container\">\n",
              "    <button class=\"colab-df-convert\" onclick=\"convertToInteractive('df-29051ab7-890f-4b9b-9b03-018fb9396943')\"\n",
              "            title=\"Convert this dataframe to an interactive table.\"\n",
              "            style=\"display:none;\">\n",
              "\n",
              "  <svg xmlns=\"http://www.w3.org/2000/svg\" height=\"24px\" viewBox=\"0 -960 960 960\">\n",
              "    <path d=\"M120-120v-720h720v720H120Zm60-500h600v-160H180v160Zm220 220h160v-160H400v160Zm0 220h160v-160H400v160ZM180-400h160v-160H180v160Zm440 0h160v-160H620v160ZM180-180h160v-160H180v160Zm440 0h160v-160H620v160Z\"/>\n",
              "  </svg>\n",
              "    </button>\n",
              "\n",
              "  <style>\n",
              "    .colab-df-container {\n",
              "      display:flex;\n",
              "      gap: 12px;\n",
              "    }\n",
              "\n",
              "    .colab-df-convert {\n",
              "      background-color: #E8F0FE;\n",
              "      border: none;\n",
              "      border-radius: 50%;\n",
              "      cursor: pointer;\n",
              "      display: none;\n",
              "      fill: #1967D2;\n",
              "      height: 32px;\n",
              "      padding: 0 0 0 0;\n",
              "      width: 32px;\n",
              "    }\n",
              "\n",
              "    .colab-df-convert:hover {\n",
              "      background-color: #E2EBFA;\n",
              "      box-shadow: 0px 1px 2px rgba(60, 64, 67, 0.3), 0px 1px 3px 1px rgba(60, 64, 67, 0.15);\n",
              "      fill: #174EA6;\n",
              "    }\n",
              "\n",
              "    .colab-df-buttons div {\n",
              "      margin-bottom: 4px;\n",
              "    }\n",
              "\n",
              "    [theme=dark] .colab-df-convert {\n",
              "      background-color: #3B4455;\n",
              "      fill: #D2E3FC;\n",
              "    }\n",
              "\n",
              "    [theme=dark] .colab-df-convert:hover {\n",
              "      background-color: #434B5C;\n",
              "      box-shadow: 0px 1px 3px 1px rgba(0, 0, 0, 0.15);\n",
              "      filter: drop-shadow(0px 1px 2px rgba(0, 0, 0, 0.3));\n",
              "      fill: #FFFFFF;\n",
              "    }\n",
              "  </style>\n",
              "\n",
              "    <script>\n",
              "      const buttonEl =\n",
              "        document.querySelector('#df-29051ab7-890f-4b9b-9b03-018fb9396943 button.colab-df-convert');\n",
              "      buttonEl.style.display =\n",
              "        google.colab.kernel.accessAllowed ? 'block' : 'none';\n",
              "\n",
              "      async function convertToInteractive(key) {\n",
              "        const element = document.querySelector('#df-29051ab7-890f-4b9b-9b03-018fb9396943');\n",
              "        const dataTable =\n",
              "          await google.colab.kernel.invokeFunction('convertToInteractive',\n",
              "                                                    [key], {});\n",
              "        if (!dataTable) return;\n",
              "\n",
              "        const docLinkHtml = 'Like what you see? Visit the ' +\n",
              "          '<a target=\"_blank\" href=https://colab.research.google.com/notebooks/data_table.ipynb>data table notebook</a>'\n",
              "          + ' to learn more about interactive tables.';\n",
              "        element.innerHTML = '';\n",
              "        dataTable['output_type'] = 'display_data';\n",
              "        await google.colab.output.renderOutput(dataTable, element);\n",
              "        const docLink = document.createElement('div');\n",
              "        docLink.innerHTML = docLinkHtml;\n",
              "        element.appendChild(docLink);\n",
              "      }\n",
              "    </script>\n",
              "  </div>\n",
              "\n",
              "\n",
              "<div id=\"df-4ceac9b5-6536-4796-82e0-2a035f35d620\">\n",
              "  <button class=\"colab-df-quickchart\" onclick=\"quickchart('df-4ceac9b5-6536-4796-82e0-2a035f35d620')\"\n",
              "            title=\"Suggest charts\"\n",
              "            style=\"display:none;\">\n",
              "\n",
              "<svg xmlns=\"http://www.w3.org/2000/svg\" height=\"24px\"viewBox=\"0 0 24 24\"\n",
              "     width=\"24px\">\n",
              "    <g>\n",
              "        <path d=\"M19 3H5c-1.1 0-2 .9-2 2v14c0 1.1.9 2 2 2h14c1.1 0 2-.9 2-2V5c0-1.1-.9-2-2-2zM9 17H7v-7h2v7zm4 0h-2V7h2v10zm4 0h-2v-4h2v4z\"/>\n",
              "    </g>\n",
              "</svg>\n",
              "  </button>\n",
              "\n",
              "<style>\n",
              "  .colab-df-quickchart {\n",
              "      --bg-color: #E8F0FE;\n",
              "      --fill-color: #1967D2;\n",
              "      --hover-bg-color: #E2EBFA;\n",
              "      --hover-fill-color: #174EA6;\n",
              "      --disabled-fill-color: #AAA;\n",
              "      --disabled-bg-color: #DDD;\n",
              "  }\n",
              "\n",
              "  [theme=dark] .colab-df-quickchart {\n",
              "      --bg-color: #3B4455;\n",
              "      --fill-color: #D2E3FC;\n",
              "      --hover-bg-color: #434B5C;\n",
              "      --hover-fill-color: #FFFFFF;\n",
              "      --disabled-bg-color: #3B4455;\n",
              "      --disabled-fill-color: #666;\n",
              "  }\n",
              "\n",
              "  .colab-df-quickchart {\n",
              "    background-color: var(--bg-color);\n",
              "    border: none;\n",
              "    border-radius: 50%;\n",
              "    cursor: pointer;\n",
              "    display: none;\n",
              "    fill: var(--fill-color);\n",
              "    height: 32px;\n",
              "    padding: 0;\n",
              "    width: 32px;\n",
              "  }\n",
              "\n",
              "  .colab-df-quickchart:hover {\n",
              "    background-color: var(--hover-bg-color);\n",
              "    box-shadow: 0 1px 2px rgba(60, 64, 67, 0.3), 0 1px 3px 1px rgba(60, 64, 67, 0.15);\n",
              "    fill: var(--button-hover-fill-color);\n",
              "  }\n",
              "\n",
              "  .colab-df-quickchart-complete:disabled,\n",
              "  .colab-df-quickchart-complete:disabled:hover {\n",
              "    background-color: var(--disabled-bg-color);\n",
              "    fill: var(--disabled-fill-color);\n",
              "    box-shadow: none;\n",
              "  }\n",
              "\n",
              "  .colab-df-spinner {\n",
              "    border: 2px solid var(--fill-color);\n",
              "    border-color: transparent;\n",
              "    border-bottom-color: var(--fill-color);\n",
              "    animation:\n",
              "      spin 1s steps(1) infinite;\n",
              "  }\n",
              "\n",
              "  @keyframes spin {\n",
              "    0% {\n",
              "      border-color: transparent;\n",
              "      border-bottom-color: var(--fill-color);\n",
              "      border-left-color: var(--fill-color);\n",
              "    }\n",
              "    20% {\n",
              "      border-color: transparent;\n",
              "      border-left-color: var(--fill-color);\n",
              "      border-top-color: var(--fill-color);\n",
              "    }\n",
              "    30% {\n",
              "      border-color: transparent;\n",
              "      border-left-color: var(--fill-color);\n",
              "      border-top-color: var(--fill-color);\n",
              "      border-right-color: var(--fill-color);\n",
              "    }\n",
              "    40% {\n",
              "      border-color: transparent;\n",
              "      border-right-color: var(--fill-color);\n",
              "      border-top-color: var(--fill-color);\n",
              "    }\n",
              "    60% {\n",
              "      border-color: transparent;\n",
              "      border-right-color: var(--fill-color);\n",
              "    }\n",
              "    80% {\n",
              "      border-color: transparent;\n",
              "      border-right-color: var(--fill-color);\n",
              "      border-bottom-color: var(--fill-color);\n",
              "    }\n",
              "    90% {\n",
              "      border-color: transparent;\n",
              "      border-bottom-color: var(--fill-color);\n",
              "    }\n",
              "  }\n",
              "</style>\n",
              "\n",
              "  <script>\n",
              "    async function quickchart(key) {\n",
              "      const quickchartButtonEl =\n",
              "        document.querySelector('#' + key + ' button');\n",
              "      quickchartButtonEl.disabled = true;  // To prevent multiple clicks.\n",
              "      quickchartButtonEl.classList.add('colab-df-spinner');\n",
              "      try {\n",
              "        const charts = await google.colab.kernel.invokeFunction(\n",
              "            'suggestCharts', [key], {});\n",
              "      } catch (error) {\n",
              "        console.error('Error during call to suggestCharts:', error);\n",
              "      }\n",
              "      quickchartButtonEl.classList.remove('colab-df-spinner');\n",
              "      quickchartButtonEl.classList.add('colab-df-quickchart-complete');\n",
              "    }\n",
              "    (() => {\n",
              "      let quickchartButtonEl =\n",
              "        document.querySelector('#df-4ceac9b5-6536-4796-82e0-2a035f35d620 button');\n",
              "      quickchartButtonEl.style.display =\n",
              "        google.colab.kernel.accessAllowed ? 'block' : 'none';\n",
              "    })();\n",
              "  </script>\n",
              "</div>\n",
              "\n",
              "    </div>\n",
              "  </div>\n"
            ],
            "application/vnd.google.colaboratory.intrinsic+json": {
              "type": "dataframe",
              "repr_error": "Out of range float values are not JSON compliant: nan"
            }
          },
          "metadata": {}
        },
        {
          "output_type": "display_data",
          "data": {
            "text/plain": [
              "'Test Data'"
            ],
            "application/vnd.google.colaboratory.intrinsic+json": {
              "type": "string"
            }
          },
          "metadata": {}
        },
        {
          "output_type": "display_data",
          "data": {
            "text/plain": [
              "   id keyword location                                               text\n",
              "0   0     NaN      NaN                 Just happened a terrible car crash\n",
              "1   2     NaN      NaN  Heard about #earthquake is different cities, s...\n",
              "2   3     NaN      NaN  there is a forest fire at spot pond, geese are...\n",
              "3   9     NaN      NaN           Apocalypse lighting. #Spokane #wildfires\n",
              "4  11     NaN      NaN      Typhoon Soudelor kills 28 in China and Taiwan"
            ],
            "text/html": [
              "\n",
              "  <div id=\"df-4bf461ef-ce4d-422a-90fb-d34dde3ba788\" class=\"colab-df-container\">\n",
              "    <div>\n",
              "<style scoped>\n",
              "    .dataframe tbody tr th:only-of-type {\n",
              "        vertical-align: middle;\n",
              "    }\n",
              "\n",
              "    .dataframe tbody tr th {\n",
              "        vertical-align: top;\n",
              "    }\n",
              "\n",
              "    .dataframe thead th {\n",
              "        text-align: right;\n",
              "    }\n",
              "</style>\n",
              "<table border=\"1\" class=\"dataframe\">\n",
              "  <thead>\n",
              "    <tr style=\"text-align: right;\">\n",
              "      <th></th>\n",
              "      <th>id</th>\n",
              "      <th>keyword</th>\n",
              "      <th>location</th>\n",
              "      <th>text</th>\n",
              "    </tr>\n",
              "  </thead>\n",
              "  <tbody>\n",
              "    <tr>\n",
              "      <th>0</th>\n",
              "      <td>0</td>\n",
              "      <td>NaN</td>\n",
              "      <td>NaN</td>\n",
              "      <td>Just happened a terrible car crash</td>\n",
              "    </tr>\n",
              "    <tr>\n",
              "      <th>1</th>\n",
              "      <td>2</td>\n",
              "      <td>NaN</td>\n",
              "      <td>NaN</td>\n",
              "      <td>Heard about #earthquake is different cities, s...</td>\n",
              "    </tr>\n",
              "    <tr>\n",
              "      <th>2</th>\n",
              "      <td>3</td>\n",
              "      <td>NaN</td>\n",
              "      <td>NaN</td>\n",
              "      <td>there is a forest fire at spot pond, geese are...</td>\n",
              "    </tr>\n",
              "    <tr>\n",
              "      <th>3</th>\n",
              "      <td>9</td>\n",
              "      <td>NaN</td>\n",
              "      <td>NaN</td>\n",
              "      <td>Apocalypse lighting. #Spokane #wildfires</td>\n",
              "    </tr>\n",
              "    <tr>\n",
              "      <th>4</th>\n",
              "      <td>11</td>\n",
              "      <td>NaN</td>\n",
              "      <td>NaN</td>\n",
              "      <td>Typhoon Soudelor kills 28 in China and Taiwan</td>\n",
              "    </tr>\n",
              "  </tbody>\n",
              "</table>\n",
              "</div>\n",
              "    <div class=\"colab-df-buttons\">\n",
              "\n",
              "  <div class=\"colab-df-container\">\n",
              "    <button class=\"colab-df-convert\" onclick=\"convertToInteractive('df-4bf461ef-ce4d-422a-90fb-d34dde3ba788')\"\n",
              "            title=\"Convert this dataframe to an interactive table.\"\n",
              "            style=\"display:none;\">\n",
              "\n",
              "  <svg xmlns=\"http://www.w3.org/2000/svg\" height=\"24px\" viewBox=\"0 -960 960 960\">\n",
              "    <path d=\"M120-120v-720h720v720H120Zm60-500h600v-160H180v160Zm220 220h160v-160H400v160Zm0 220h160v-160H400v160ZM180-400h160v-160H180v160Zm440 0h160v-160H620v160ZM180-180h160v-160H180v160Zm440 0h160v-160H620v160Z\"/>\n",
              "  </svg>\n",
              "    </button>\n",
              "\n",
              "  <style>\n",
              "    .colab-df-container {\n",
              "      display:flex;\n",
              "      gap: 12px;\n",
              "    }\n",
              "\n",
              "    .colab-df-convert {\n",
              "      background-color: #E8F0FE;\n",
              "      border: none;\n",
              "      border-radius: 50%;\n",
              "      cursor: pointer;\n",
              "      display: none;\n",
              "      fill: #1967D2;\n",
              "      height: 32px;\n",
              "      padding: 0 0 0 0;\n",
              "      width: 32px;\n",
              "    }\n",
              "\n",
              "    .colab-df-convert:hover {\n",
              "      background-color: #E2EBFA;\n",
              "      box-shadow: 0px 1px 2px rgba(60, 64, 67, 0.3), 0px 1px 3px 1px rgba(60, 64, 67, 0.15);\n",
              "      fill: #174EA6;\n",
              "    }\n",
              "\n",
              "    .colab-df-buttons div {\n",
              "      margin-bottom: 4px;\n",
              "    }\n",
              "\n",
              "    [theme=dark] .colab-df-convert {\n",
              "      background-color: #3B4455;\n",
              "      fill: #D2E3FC;\n",
              "    }\n",
              "\n",
              "    [theme=dark] .colab-df-convert:hover {\n",
              "      background-color: #434B5C;\n",
              "      box-shadow: 0px 1px 3px 1px rgba(0, 0, 0, 0.15);\n",
              "      filter: drop-shadow(0px 1px 2px rgba(0, 0, 0, 0.3));\n",
              "      fill: #FFFFFF;\n",
              "    }\n",
              "  </style>\n",
              "\n",
              "    <script>\n",
              "      const buttonEl =\n",
              "        document.querySelector('#df-4bf461ef-ce4d-422a-90fb-d34dde3ba788 button.colab-df-convert');\n",
              "      buttonEl.style.display =\n",
              "        google.colab.kernel.accessAllowed ? 'block' : 'none';\n",
              "\n",
              "      async function convertToInteractive(key) {\n",
              "        const element = document.querySelector('#df-4bf461ef-ce4d-422a-90fb-d34dde3ba788');\n",
              "        const dataTable =\n",
              "          await google.colab.kernel.invokeFunction('convertToInteractive',\n",
              "                                                    [key], {});\n",
              "        if (!dataTable) return;\n",
              "\n",
              "        const docLinkHtml = 'Like what you see? Visit the ' +\n",
              "          '<a target=\"_blank\" href=https://colab.research.google.com/notebooks/data_table.ipynb>data table notebook</a>'\n",
              "          + ' to learn more about interactive tables.';\n",
              "        element.innerHTML = '';\n",
              "        dataTable['output_type'] = 'display_data';\n",
              "        await google.colab.output.renderOutput(dataTable, element);\n",
              "        const docLink = document.createElement('div');\n",
              "        docLink.innerHTML = docLinkHtml;\n",
              "        element.appendChild(docLink);\n",
              "      }\n",
              "    </script>\n",
              "  </div>\n",
              "\n",
              "\n",
              "<div id=\"df-0738abac-b9d3-4a58-817d-160b63b4ecfd\">\n",
              "  <button class=\"colab-df-quickchart\" onclick=\"quickchart('df-0738abac-b9d3-4a58-817d-160b63b4ecfd')\"\n",
              "            title=\"Suggest charts\"\n",
              "            style=\"display:none;\">\n",
              "\n",
              "<svg xmlns=\"http://www.w3.org/2000/svg\" height=\"24px\"viewBox=\"0 0 24 24\"\n",
              "     width=\"24px\">\n",
              "    <g>\n",
              "        <path d=\"M19 3H5c-1.1 0-2 .9-2 2v14c0 1.1.9 2 2 2h14c1.1 0 2-.9 2-2V5c0-1.1-.9-2-2-2zM9 17H7v-7h2v7zm4 0h-2V7h2v10zm4 0h-2v-4h2v4z\"/>\n",
              "    </g>\n",
              "</svg>\n",
              "  </button>\n",
              "\n",
              "<style>\n",
              "  .colab-df-quickchart {\n",
              "      --bg-color: #E8F0FE;\n",
              "      --fill-color: #1967D2;\n",
              "      --hover-bg-color: #E2EBFA;\n",
              "      --hover-fill-color: #174EA6;\n",
              "      --disabled-fill-color: #AAA;\n",
              "      --disabled-bg-color: #DDD;\n",
              "  }\n",
              "\n",
              "  [theme=dark] .colab-df-quickchart {\n",
              "      --bg-color: #3B4455;\n",
              "      --fill-color: #D2E3FC;\n",
              "      --hover-bg-color: #434B5C;\n",
              "      --hover-fill-color: #FFFFFF;\n",
              "      --disabled-bg-color: #3B4455;\n",
              "      --disabled-fill-color: #666;\n",
              "  }\n",
              "\n",
              "  .colab-df-quickchart {\n",
              "    background-color: var(--bg-color);\n",
              "    border: none;\n",
              "    border-radius: 50%;\n",
              "    cursor: pointer;\n",
              "    display: none;\n",
              "    fill: var(--fill-color);\n",
              "    height: 32px;\n",
              "    padding: 0;\n",
              "    width: 32px;\n",
              "  }\n",
              "\n",
              "  .colab-df-quickchart:hover {\n",
              "    background-color: var(--hover-bg-color);\n",
              "    box-shadow: 0 1px 2px rgba(60, 64, 67, 0.3), 0 1px 3px 1px rgba(60, 64, 67, 0.15);\n",
              "    fill: var(--button-hover-fill-color);\n",
              "  }\n",
              "\n",
              "  .colab-df-quickchart-complete:disabled,\n",
              "  .colab-df-quickchart-complete:disabled:hover {\n",
              "    background-color: var(--disabled-bg-color);\n",
              "    fill: var(--disabled-fill-color);\n",
              "    box-shadow: none;\n",
              "  }\n",
              "\n",
              "  .colab-df-spinner {\n",
              "    border: 2px solid var(--fill-color);\n",
              "    border-color: transparent;\n",
              "    border-bottom-color: var(--fill-color);\n",
              "    animation:\n",
              "      spin 1s steps(1) infinite;\n",
              "  }\n",
              "\n",
              "  @keyframes spin {\n",
              "    0% {\n",
              "      border-color: transparent;\n",
              "      border-bottom-color: var(--fill-color);\n",
              "      border-left-color: var(--fill-color);\n",
              "    }\n",
              "    20% {\n",
              "      border-color: transparent;\n",
              "      border-left-color: var(--fill-color);\n",
              "      border-top-color: var(--fill-color);\n",
              "    }\n",
              "    30% {\n",
              "      border-color: transparent;\n",
              "      border-left-color: var(--fill-color);\n",
              "      border-top-color: var(--fill-color);\n",
              "      border-right-color: var(--fill-color);\n",
              "    }\n",
              "    40% {\n",
              "      border-color: transparent;\n",
              "      border-right-color: var(--fill-color);\n",
              "      border-top-color: var(--fill-color);\n",
              "    }\n",
              "    60% {\n",
              "      border-color: transparent;\n",
              "      border-right-color: var(--fill-color);\n",
              "    }\n",
              "    80% {\n",
              "      border-color: transparent;\n",
              "      border-right-color: var(--fill-color);\n",
              "      border-bottom-color: var(--fill-color);\n",
              "    }\n",
              "    90% {\n",
              "      border-color: transparent;\n",
              "      border-bottom-color: var(--fill-color);\n",
              "    }\n",
              "  }\n",
              "</style>\n",
              "\n",
              "  <script>\n",
              "    async function quickchart(key) {\n",
              "      const quickchartButtonEl =\n",
              "        document.querySelector('#' + key + ' button');\n",
              "      quickchartButtonEl.disabled = true;  // To prevent multiple clicks.\n",
              "      quickchartButtonEl.classList.add('colab-df-spinner');\n",
              "      try {\n",
              "        const charts = await google.colab.kernel.invokeFunction(\n",
              "            'suggestCharts', [key], {});\n",
              "      } catch (error) {\n",
              "        console.error('Error during call to suggestCharts:', error);\n",
              "      }\n",
              "      quickchartButtonEl.classList.remove('colab-df-spinner');\n",
              "      quickchartButtonEl.classList.add('colab-df-quickchart-complete');\n",
              "    }\n",
              "    (() => {\n",
              "      let quickchartButtonEl =\n",
              "        document.querySelector('#df-0738abac-b9d3-4a58-817d-160b63b4ecfd button');\n",
              "      quickchartButtonEl.style.display =\n",
              "        google.colab.kernel.accessAllowed ? 'block' : 'none';\n",
              "    })();\n",
              "  </script>\n",
              "</div>\n",
              "\n",
              "    </div>\n",
              "  </div>\n"
            ],
            "application/vnd.google.colaboratory.intrinsic+json": {
              "type": "dataframe",
              "repr_error": "Out of range float values are not JSON compliant: nan"
            }
          },
          "metadata": {}
        }
      ],
      "source": [
        "# Load data with pandas\n",
        "train_data = pd.read_csv(\"./train.csv\")\n",
        "test_data = pd.read_csv(\"./test.csv\")\n",
        "\n",
        "display(\"Training Data\", train_data.head())\n",
        "display(\"Test Data\", test_data.head())"
      ]
    },
    {
      "cell_type": "code",
      "execution_count": 4,
      "metadata": {
        "colab": {
          "base_uri": "https://localhost:8080/",
          "height": 0
        },
        "id": "ECtsUgF1I2ll",
        "outputId": "cfdb1777-ea7b-4a89-dce6-0d6413e4d035"
      },
      "outputs": [
        {
          "output_type": "stream",
          "name": "stdout",
          "text": [
            "7552 7613\n"
          ]
        }
      ],
      "source": [
        "none_null = train_data['keyword'].dropna(inplace = False)\n",
        "print(len(none_null), len(train_data))"
      ]
    },
    {
      "cell_type": "code",
      "execution_count": 5,
      "metadata": {
        "colab": {
          "base_uri": "https://localhost:8080/",
          "height": 0
        },
        "id": "V_2J0FhTI2ll",
        "outputId": "2231ba8c-9493-4231-f7a1-f47d399aaee1"
      },
      "outputs": [
        {
          "output_type": "stream",
          "name": "stdout",
          "text": [
            "7552 7613\n"
          ]
        }
      ],
      "source": [
        "none_null = train_data['keyword'].dropna(inplace = False)\n",
        "print(len(none_null), len(train_data))"
      ]
    },
    {
      "cell_type": "markdown",
      "metadata": {
        "id": "KAUBIM3pI2ll"
      },
      "source": [
        "Despite `keyword` and `location` seemingly beign NaN for the head - it's actually not NaN for most rows. For our project, we're only going to use the text of the tweet and the label of whether or not the tweet describes a disaster. Let's perform that data, label split."
      ]
    },
    {
      "cell_type": "code",
      "execution_count": 6,
      "metadata": {
        "id": "ws5XlmnzI2ll"
      },
      "outputs": [],
      "source": [
        "complete_x = np.array(train_data[[\"text\"]])\n",
        "complete_y = np.array(train_data[[\"target\"]])\n",
        "\n",
        "# Create a vector of indices and shuffle them\n",
        "indices = np.arange(train_data.shape[0])\n",
        "np.random.shuffle(indices)\n",
        "\n",
        "cutoff_index = int(train_data.shape[0] * 0.80)\n",
        "\n",
        "train_indices = indices[:cutoff_index]\n",
        "val_indices = indices[cutoff_index:]\n",
        "\n",
        "# Get training and validation data from the shuffled indices\n",
        "train_X = complete_x[train_indices]\n",
        "train_Y = complete_y[train_indices]\n",
        "val_X = complete_x[val_indices]\n",
        "val_Y = complete_y[val_indices]"
      ]
    },
    {
      "cell_type": "markdown",
      "metadata": {
        "id": "cTGlICq3BLwR"
      },
      "source": [
        "An important question from the text data specifically is what are the words in the data. For example, if we assign each word a unique token, how many times does this word show up in the data? Luckily, TensorFlow has a `TextVectorization` function that help us find this."
      ]
    },
    {
      "cell_type": "code",
      "execution_count": 7,
      "metadata": {
        "colab": {
          "base_uri": "https://localhost:8080/",
          "height": 3707
        },
        "id": "6meqi8BYW6bY",
        "outputId": "84a43358-ce64-4b9d-a22d-2f68726277e0"
      },
      "outputs": [
        {
          "output_type": "display_data",
          "data": {
            "text/plain": [
              "'--Vocabulary--'"
            ],
            "application/vnd.google.colaboratory.intrinsic+json": {
              "type": "string"
            }
          },
          "metadata": {}
        },
        {
          "output_type": "display_data",
          "data": {
            "text/plain": [
              "'0:   '"
            ],
            "application/vnd.google.colaboratory.intrinsic+json": {
              "type": "string"
            }
          },
          "metadata": {}
        },
        {
          "output_type": "display_data",
          "data": {
            "text/plain": [
              "'1: [UNK]  '"
            ],
            "application/vnd.google.colaboratory.intrinsic+json": {
              "type": "string"
            }
          },
          "metadata": {}
        },
        {
          "output_type": "display_data",
          "data": {
            "text/plain": [
              "'2: the  '"
            ],
            "application/vnd.google.colaboratory.intrinsic+json": {
              "type": "string"
            }
          },
          "metadata": {}
        },
        {
          "output_type": "display_data",
          "data": {
            "text/plain": [
              "'3: a  '"
            ],
            "application/vnd.google.colaboratory.intrinsic+json": {
              "type": "string"
            }
          },
          "metadata": {}
        },
        {
          "output_type": "display_data",
          "data": {
            "text/plain": [
              "'4: in  '"
            ],
            "application/vnd.google.colaboratory.intrinsic+json": {
              "type": "string"
            }
          },
          "metadata": {}
        },
        {
          "output_type": "display_data",
          "data": {
            "text/plain": [
              "'5: to  '"
            ],
            "application/vnd.google.colaboratory.intrinsic+json": {
              "type": "string"
            }
          },
          "metadata": {}
        },
        {
          "output_type": "display_data",
          "data": {
            "text/plain": [
              "'6: of  '"
            ],
            "application/vnd.google.colaboratory.intrinsic+json": {
              "type": "string"
            }
          },
          "metadata": {}
        },
        {
          "output_type": "display_data",
          "data": {
            "text/plain": [
              "'7: and  '"
            ],
            "application/vnd.google.colaboratory.intrinsic+json": {
              "type": "string"
            }
          },
          "metadata": {}
        },
        {
          "output_type": "display_data",
          "data": {
            "text/plain": [
              "'8: i  '"
            ],
            "application/vnd.google.colaboratory.intrinsic+json": {
              "type": "string"
            }
          },
          "metadata": {}
        },
        {
          "output_type": "display_data",
          "data": {
            "text/plain": [
              "'9: is  '"
            ],
            "application/vnd.google.colaboratory.intrinsic+json": {
              "type": "string"
            }
          },
          "metadata": {}
        },
        {
          "output_type": "display_data",
          "data": {
            "text/plain": [
              "'10: for  '"
            ],
            "application/vnd.google.colaboratory.intrinsic+json": {
              "type": "string"
            }
          },
          "metadata": {}
        },
        {
          "output_type": "display_data",
          "data": {
            "text/plain": [
              "'11: on  '"
            ],
            "application/vnd.google.colaboratory.intrinsic+json": {
              "type": "string"
            }
          },
          "metadata": {}
        },
        {
          "output_type": "display_data",
          "data": {
            "text/plain": [
              "'12: you  '"
            ],
            "application/vnd.google.colaboratory.intrinsic+json": {
              "type": "string"
            }
          },
          "metadata": {}
        },
        {
          "output_type": "display_data",
          "data": {
            "text/plain": [
              "'13: my  '"
            ],
            "application/vnd.google.colaboratory.intrinsic+json": {
              "type": "string"
            }
          },
          "metadata": {}
        },
        {
          "output_type": "display_data",
          "data": {
            "text/plain": [
              "'14: with  '"
            ],
            "application/vnd.google.colaboratory.intrinsic+json": {
              "type": "string"
            }
          },
          "metadata": {}
        },
        {
          "output_type": "display_data",
          "data": {
            "text/plain": [
              "'15: it  '"
            ],
            "application/vnd.google.colaboratory.intrinsic+json": {
              "type": "string"
            }
          },
          "metadata": {}
        },
        {
          "output_type": "display_data",
          "data": {
            "text/plain": [
              "'16: that  '"
            ],
            "application/vnd.google.colaboratory.intrinsic+json": {
              "type": "string"
            }
          },
          "metadata": {}
        },
        {
          "output_type": "display_data",
          "data": {
            "text/plain": [
              "'17: at  '"
            ],
            "application/vnd.google.colaboratory.intrinsic+json": {
              "type": "string"
            }
          },
          "metadata": {}
        },
        {
          "output_type": "display_data",
          "data": {
            "text/plain": [
              "'18: by  '"
            ],
            "application/vnd.google.colaboratory.intrinsic+json": {
              "type": "string"
            }
          },
          "metadata": {}
        },
        {
          "output_type": "display_data",
          "data": {
            "text/plain": [
              "'19: this  '"
            ],
            "application/vnd.google.colaboratory.intrinsic+json": {
              "type": "string"
            }
          },
          "metadata": {}
        },
        {
          "output_type": "display_data",
          "data": {
            "text/plain": [
              "'20: from  '"
            ],
            "application/vnd.google.colaboratory.intrinsic+json": {
              "type": "string"
            }
          },
          "metadata": {}
        },
        {
          "output_type": "display_data",
          "data": {
            "text/plain": [
              "'21: be  '"
            ],
            "application/vnd.google.colaboratory.intrinsic+json": {
              "type": "string"
            }
          },
          "metadata": {}
        },
        {
          "output_type": "display_data",
          "data": {
            "text/plain": [
              "'22: are  '"
            ],
            "application/vnd.google.colaboratory.intrinsic+json": {
              "type": "string"
            }
          },
          "metadata": {}
        },
        {
          "output_type": "display_data",
          "data": {
            "text/plain": [
              "'23: was  '"
            ],
            "application/vnd.google.colaboratory.intrinsic+json": {
              "type": "string"
            }
          },
          "metadata": {}
        },
        {
          "output_type": "display_data",
          "data": {
            "text/plain": [
              "'24: have  '"
            ],
            "application/vnd.google.colaboratory.intrinsic+json": {
              "type": "string"
            }
          },
          "metadata": {}
        },
        {
          "output_type": "display_data",
          "data": {
            "text/plain": [
              "'25: like  '"
            ],
            "application/vnd.google.colaboratory.intrinsic+json": {
              "type": "string"
            }
          },
          "metadata": {}
        },
        {
          "output_type": "display_data",
          "data": {
            "text/plain": [
              "'26: as  '"
            ],
            "application/vnd.google.colaboratory.intrinsic+json": {
              "type": "string"
            }
          },
          "metadata": {}
        },
        {
          "output_type": "display_data",
          "data": {
            "text/plain": [
              "'27: me  '"
            ],
            "application/vnd.google.colaboratory.intrinsic+json": {
              "type": "string"
            }
          },
          "metadata": {}
        },
        {
          "output_type": "display_data",
          "data": {
            "text/plain": [
              "'28: up  '"
            ],
            "application/vnd.google.colaboratory.intrinsic+json": {
              "type": "string"
            }
          },
          "metadata": {}
        },
        {
          "output_type": "display_data",
          "data": {
            "text/plain": [
              "'29: just  '"
            ],
            "application/vnd.google.colaboratory.intrinsic+json": {
              "type": "string"
            }
          },
          "metadata": {}
        },
        {
          "output_type": "display_data",
          "data": {
            "text/plain": [
              "'30: but  '"
            ],
            "application/vnd.google.colaboratory.intrinsic+json": {
              "type": "string"
            }
          },
          "metadata": {}
        },
        {
          "output_type": "display_data",
          "data": {
            "text/plain": [
              "'31: so  '"
            ],
            "application/vnd.google.colaboratory.intrinsic+json": {
              "type": "string"
            }
          },
          "metadata": {}
        },
        {
          "output_type": "display_data",
          "data": {
            "text/plain": [
              "'32: im  '"
            ],
            "application/vnd.google.colaboratory.intrinsic+json": {
              "type": "string"
            }
          },
          "metadata": {}
        },
        {
          "output_type": "display_data",
          "data": {
            "text/plain": [
              "'33: amp  '"
            ],
            "application/vnd.google.colaboratory.intrinsic+json": {
              "type": "string"
            }
          },
          "metadata": {}
        },
        {
          "output_type": "display_data",
          "data": {
            "text/plain": [
              "'34: not  '"
            ],
            "application/vnd.google.colaboratory.intrinsic+json": {
              "type": "string"
            }
          },
          "metadata": {}
        },
        {
          "output_type": "display_data",
          "data": {
            "text/plain": [
              "'35: your  '"
            ],
            "application/vnd.google.colaboratory.intrinsic+json": {
              "type": "string"
            }
          },
          "metadata": {}
        },
        {
          "output_type": "display_data",
          "data": {
            "text/plain": [
              "'36: out  '"
            ],
            "application/vnd.google.colaboratory.intrinsic+json": {
              "type": "string"
            }
          },
          "metadata": {}
        },
        {
          "output_type": "display_data",
          "data": {
            "text/plain": [
              "'37: its  '"
            ],
            "application/vnd.google.colaboratory.intrinsic+json": {
              "type": "string"
            }
          },
          "metadata": {}
        },
        {
          "output_type": "display_data",
          "data": {
            "text/plain": [
              "'38: after  '"
            ],
            "application/vnd.google.colaboratory.intrinsic+json": {
              "type": "string"
            }
          },
          "metadata": {}
        },
        {
          "output_type": "display_data",
          "data": {
            "text/plain": [
              "'39: will  '"
            ],
            "application/vnd.google.colaboratory.intrinsic+json": {
              "type": "string"
            }
          },
          "metadata": {}
        },
        {
          "output_type": "display_data",
          "data": {
            "text/plain": [
              "'40: all  '"
            ],
            "application/vnd.google.colaboratory.intrinsic+json": {
              "type": "string"
            }
          },
          "metadata": {}
        },
        {
          "output_type": "display_data",
          "data": {
            "text/plain": [
              "'41: no  '"
            ],
            "application/vnd.google.colaboratory.intrinsic+json": {
              "type": "string"
            }
          },
          "metadata": {}
        },
        {
          "output_type": "display_data",
          "data": {
            "text/plain": [
              "'42: fire  '"
            ],
            "application/vnd.google.colaboratory.intrinsic+json": {
              "type": "string"
            }
          },
          "metadata": {}
        },
        {
          "output_type": "display_data",
          "data": {
            "text/plain": [
              "'43: an  '"
            ],
            "application/vnd.google.colaboratory.intrinsic+json": {
              "type": "string"
            }
          },
          "metadata": {}
        },
        {
          "output_type": "display_data",
          "data": {
            "text/plain": [
              "'44: has  '"
            ],
            "application/vnd.google.colaboratory.intrinsic+json": {
              "type": "string"
            }
          },
          "metadata": {}
        },
        {
          "output_type": "display_data",
          "data": {
            "text/plain": [
              "'45: when  '"
            ],
            "application/vnd.google.colaboratory.intrinsic+json": {
              "type": "string"
            }
          },
          "metadata": {}
        },
        {
          "output_type": "display_data",
          "data": {
            "text/plain": [
              "'46: if  '"
            ],
            "application/vnd.google.colaboratory.intrinsic+json": {
              "type": "string"
            }
          },
          "metadata": {}
        },
        {
          "output_type": "display_data",
          "data": {
            "text/plain": [
              "'47: we  '"
            ],
            "application/vnd.google.colaboratory.intrinsic+json": {
              "type": "string"
            }
          },
          "metadata": {}
        },
        {
          "output_type": "display_data",
          "data": {
            "text/plain": [
              "'48: get  '"
            ],
            "application/vnd.google.colaboratory.intrinsic+json": {
              "type": "string"
            }
          },
          "metadata": {}
        },
        {
          "output_type": "display_data",
          "data": {
            "text/plain": [
              "'49: new  '"
            ],
            "application/vnd.google.colaboratory.intrinsic+json": {
              "type": "string"
            }
          },
          "metadata": {}
        },
        {
          "output_type": "display_data",
          "data": {
            "text/plain": [
              "'50: now  '"
            ],
            "application/vnd.google.colaboratory.intrinsic+json": {
              "type": "string"
            }
          },
          "metadata": {}
        },
        {
          "output_type": "display_data",
          "data": {
            "text/plain": [
              "'51: via  '"
            ],
            "application/vnd.google.colaboratory.intrinsic+json": {
              "type": "string"
            }
          },
          "metadata": {}
        },
        {
          "output_type": "display_data",
          "data": {
            "text/plain": [
              "'52: more  '"
            ],
            "application/vnd.google.colaboratory.intrinsic+json": {
              "type": "string"
            }
          },
          "metadata": {}
        },
        {
          "output_type": "display_data",
          "data": {
            "text/plain": [
              "'53: about  '"
            ],
            "application/vnd.google.colaboratory.intrinsic+json": {
              "type": "string"
            }
          },
          "metadata": {}
        },
        {
          "output_type": "display_data",
          "data": {
            "text/plain": [
              "'54: or  '"
            ],
            "application/vnd.google.colaboratory.intrinsic+json": {
              "type": "string"
            }
          },
          "metadata": {}
        },
        {
          "output_type": "display_data",
          "data": {
            "text/plain": [
              "'55: what  '"
            ],
            "application/vnd.google.colaboratory.intrinsic+json": {
              "type": "string"
            }
          },
          "metadata": {}
        },
        {
          "output_type": "display_data",
          "data": {
            "text/plain": [
              "'56: people  '"
            ],
            "application/vnd.google.colaboratory.intrinsic+json": {
              "type": "string"
            }
          },
          "metadata": {}
        },
        {
          "output_type": "display_data",
          "data": {
            "text/plain": [
              "'57: one  '"
            ],
            "application/vnd.google.colaboratory.intrinsic+json": {
              "type": "string"
            }
          },
          "metadata": {}
        },
        {
          "output_type": "display_data",
          "data": {
            "text/plain": [
              "'58: news  '"
            ],
            "application/vnd.google.colaboratory.intrinsic+json": {
              "type": "string"
            }
          },
          "metadata": {}
        },
        {
          "output_type": "display_data",
          "data": {
            "text/plain": [
              "'59: he  '"
            ],
            "application/vnd.google.colaboratory.intrinsic+json": {
              "type": "string"
            }
          },
          "metadata": {}
        },
        {
          "output_type": "display_data",
          "data": {
            "text/plain": [
              "'60: they  '"
            ],
            "application/vnd.google.colaboratory.intrinsic+json": {
              "type": "string"
            }
          },
          "metadata": {}
        },
        {
          "output_type": "display_data",
          "data": {
            "text/plain": [
              "'61: how  '"
            ],
            "application/vnd.google.colaboratory.intrinsic+json": {
              "type": "string"
            }
          },
          "metadata": {}
        },
        {
          "output_type": "display_data",
          "data": {
            "text/plain": [
              "'62: dont  '"
            ],
            "application/vnd.google.colaboratory.intrinsic+json": {
              "type": "string"
            }
          },
          "metadata": {}
        },
        {
          "output_type": "display_data",
          "data": {
            "text/plain": [
              "'63: been  '"
            ],
            "application/vnd.google.colaboratory.intrinsic+json": {
              "type": "string"
            }
          },
          "metadata": {}
        },
        {
          "output_type": "display_data",
          "data": {
            "text/plain": [
              "'64: over  '"
            ],
            "application/vnd.google.colaboratory.intrinsic+json": {
              "type": "string"
            }
          },
          "metadata": {}
        },
        {
          "output_type": "display_data",
          "data": {
            "text/plain": [
              "'65: who  '"
            ],
            "application/vnd.google.colaboratory.intrinsic+json": {
              "type": "string"
            }
          },
          "metadata": {}
        },
        {
          "output_type": "display_data",
          "data": {
            "text/plain": [
              "'66: into  '"
            ],
            "application/vnd.google.colaboratory.intrinsic+json": {
              "type": "string"
            }
          },
          "metadata": {}
        },
        {
          "output_type": "display_data",
          "data": {
            "text/plain": [
              "'67: do  '"
            ],
            "application/vnd.google.colaboratory.intrinsic+json": {
              "type": "string"
            }
          },
          "metadata": {}
        },
        {
          "output_type": "display_data",
          "data": {
            "text/plain": [
              "'68: were  '"
            ],
            "application/vnd.google.colaboratory.intrinsic+json": {
              "type": "string"
            }
          },
          "metadata": {}
        },
        {
          "output_type": "display_data",
          "data": {
            "text/plain": [
              "'69: video  '"
            ],
            "application/vnd.google.colaboratory.intrinsic+json": {
              "type": "string"
            }
          },
          "metadata": {}
        },
        {
          "output_type": "display_data",
          "data": {
            "text/plain": [
              "'70: us  '"
            ],
            "application/vnd.google.colaboratory.intrinsic+json": {
              "type": "string"
            }
          },
          "metadata": {}
        },
        {
          "output_type": "display_data",
          "data": {
            "text/plain": [
              "'71: can  '"
            ],
            "application/vnd.google.colaboratory.intrinsic+json": {
              "type": "string"
            }
          },
          "metadata": {}
        },
        {
          "output_type": "display_data",
          "data": {
            "text/plain": [
              "'72: 2  '"
            ],
            "application/vnd.google.colaboratory.intrinsic+json": {
              "type": "string"
            }
          },
          "metadata": {}
        },
        {
          "output_type": "display_data",
          "data": {
            "text/plain": [
              "'73: emergency  '"
            ],
            "application/vnd.google.colaboratory.intrinsic+json": {
              "type": "string"
            }
          },
          "metadata": {}
        },
        {
          "output_type": "display_data",
          "data": {
            "text/plain": [
              "'74: disaster  '"
            ],
            "application/vnd.google.colaboratory.intrinsic+json": {
              "type": "string"
            }
          },
          "metadata": {}
        },
        {
          "output_type": "display_data",
          "data": {
            "text/plain": [
              "'75: there  '"
            ],
            "application/vnd.google.colaboratory.intrinsic+json": {
              "type": "string"
            }
          },
          "metadata": {}
        },
        {
          "output_type": "display_data",
          "data": {
            "text/plain": [
              "'76: police  '"
            ],
            "application/vnd.google.colaboratory.intrinsic+json": {
              "type": "string"
            }
          },
          "metadata": {}
        },
        {
          "output_type": "display_data",
          "data": {
            "text/plain": [
              "'77: than  '"
            ],
            "application/vnd.google.colaboratory.intrinsic+json": {
              "type": "string"
            }
          },
          "metadata": {}
        },
        {
          "output_type": "display_data",
          "data": {
            "text/plain": [
              "'78: her  '"
            ],
            "application/vnd.google.colaboratory.intrinsic+json": {
              "type": "string"
            }
          },
          "metadata": {}
        },
        {
          "output_type": "display_data",
          "data": {
            "text/plain": [
              "'79: would  '"
            ],
            "application/vnd.google.colaboratory.intrinsic+json": {
              "type": "string"
            }
          },
          "metadata": {}
        },
        {
          "output_type": "display_data",
          "data": {
            "text/plain": [
              "'80: still  '"
            ],
            "application/vnd.google.colaboratory.intrinsic+json": {
              "type": "string"
            }
          },
          "metadata": {}
        },
        {
          "output_type": "display_data",
          "data": {
            "text/plain": [
              "'81: some  '"
            ],
            "application/vnd.google.colaboratory.intrinsic+json": {
              "type": "string"
            }
          },
          "metadata": {}
        },
        {
          "output_type": "display_data",
          "data": {
            "text/plain": [
              "'82: his  '"
            ],
            "application/vnd.google.colaboratory.intrinsic+json": {
              "type": "string"
            }
          },
          "metadata": {}
        },
        {
          "output_type": "display_data",
          "data": {
            "text/plain": [
              "'83: body  '"
            ],
            "application/vnd.google.colaboratory.intrinsic+json": {
              "type": "string"
            }
          },
          "metadata": {}
        },
        {
          "output_type": "display_data",
          "data": {
            "text/plain": [
              "'84: burning  '"
            ],
            "application/vnd.google.colaboratory.intrinsic+json": {
              "type": "string"
            }
          },
          "metadata": {}
        },
        {
          "output_type": "display_data",
          "data": {
            "text/plain": [
              "'85: crash  '"
            ],
            "application/vnd.google.colaboratory.intrinsic+json": {
              "type": "string"
            }
          },
          "metadata": {}
        },
        {
          "output_type": "display_data",
          "data": {
            "text/plain": [
              "'86: back  '"
            ],
            "application/vnd.google.colaboratory.intrinsic+json": {
              "type": "string"
            }
          },
          "metadata": {}
        },
        {
          "output_type": "display_data",
          "data": {
            "text/plain": [
              "'87: storm  '"
            ],
            "application/vnd.google.colaboratory.intrinsic+json": {
              "type": "string"
            }
          },
          "metadata": {}
        },
        {
          "output_type": "display_data",
          "data": {
            "text/plain": [
              "'88: california  '"
            ],
            "application/vnd.google.colaboratory.intrinsic+json": {
              "type": "string"
            }
          },
          "metadata": {}
        },
        {
          "output_type": "display_data",
          "data": {
            "text/plain": [
              "'89: suicide  '"
            ],
            "application/vnd.google.colaboratory.intrinsic+json": {
              "type": "string"
            }
          },
          "metadata": {}
        },
        {
          "output_type": "display_data",
          "data": {
            "text/plain": [
              "'90: why  '"
            ],
            "application/vnd.google.colaboratory.intrinsic+json": {
              "type": "string"
            }
          },
          "metadata": {}
        },
        {
          "output_type": "display_data",
          "data": {
            "text/plain": [
              "'91: them  '"
            ],
            "application/vnd.google.colaboratory.intrinsic+json": {
              "type": "string"
            }
          },
          "metadata": {}
        },
        {
          "output_type": "display_data",
          "data": {
            "text/plain": [
              "'92: off  '"
            ],
            "application/vnd.google.colaboratory.intrinsic+json": {
              "type": "string"
            }
          },
          "metadata": {}
        },
        {
          "output_type": "display_data",
          "data": {
            "text/plain": [
              "'93: time  '"
            ],
            "application/vnd.google.colaboratory.intrinsic+json": {
              "type": "string"
            }
          },
          "metadata": {}
        },
        {
          "output_type": "display_data",
          "data": {
            "text/plain": [
              "'94: know  '"
            ],
            "application/vnd.google.colaboratory.intrinsic+json": {
              "type": "string"
            }
          },
          "metadata": {}
        },
        {
          "output_type": "display_data",
          "data": {
            "text/plain": [
              "'95: got  '"
            ],
            "application/vnd.google.colaboratory.intrinsic+json": {
              "type": "string"
            }
          },
          "metadata": {}
        },
        {
          "output_type": "display_data",
          "data": {
            "text/plain": [
              "'96: had  '"
            ],
            "application/vnd.google.colaboratory.intrinsic+json": {
              "type": "string"
            }
          },
          "metadata": {}
        },
        {
          "output_type": "display_data",
          "data": {
            "text/plain": [
              "'97: man  '"
            ],
            "application/vnd.google.colaboratory.intrinsic+json": {
              "type": "string"
            }
          },
          "metadata": {}
        },
        {
          "output_type": "display_data",
          "data": {
            "text/plain": [
              "'98: buildings  '"
            ],
            "application/vnd.google.colaboratory.intrinsic+json": {
              "type": "string"
            }
          },
          "metadata": {}
        },
        {
          "output_type": "display_data",
          "data": {
            "text/plain": [
              "'99: day  '"
            ],
            "application/vnd.google.colaboratory.intrinsic+json": {
              "type": "string"
            }
          },
          "metadata": {}
        },
        {
          "output_type": "display_data",
          "data": {
            "text/plain": [
              "'100: rt  '"
            ],
            "application/vnd.google.colaboratory.intrinsic+json": {
              "type": "string"
            }
          },
          "metadata": {}
        },
        {
          "output_type": "display_data",
          "data": {
            "text/plain": [
              "'101: first  '"
            ],
            "application/vnd.google.colaboratory.intrinsic+json": {
              "type": "string"
            }
          },
          "metadata": {}
        },
        {
          "output_type": "display_data",
          "data": {
            "text/plain": [
              "'102: see  '"
            ],
            "application/vnd.google.colaboratory.intrinsic+json": {
              "type": "string"
            }
          },
          "metadata": {}
        },
        {
          "output_type": "display_data",
          "data": {
            "text/plain": [
              "'103: world  '"
            ],
            "application/vnd.google.colaboratory.intrinsic+json": {
              "type": "string"
            }
          },
          "metadata": {}
        },
        {
          "output_type": "display_data",
          "data": {
            "text/plain": [
              "'104: going  '"
            ],
            "application/vnd.google.colaboratory.intrinsic+json": {
              "type": "string"
            }
          },
          "metadata": {}
        },
        {
          "output_type": "display_data",
          "data": {
            "text/plain": [
              "'105: bomb  '"
            ],
            "application/vnd.google.colaboratory.intrinsic+json": {
              "type": "string"
            }
          },
          "metadata": {}
        },
        {
          "output_type": "display_data",
          "data": {
            "text/plain": [
              "'106: cant  '"
            ],
            "application/vnd.google.colaboratory.intrinsic+json": {
              "type": "string"
            }
          },
          "metadata": {}
        },
        {
          "output_type": "display_data",
          "data": {
            "text/plain": [
              "'107: nuclear  '"
            ],
            "application/vnd.google.colaboratory.intrinsic+json": {
              "type": "string"
            }
          },
          "metadata": {}
        },
        {
          "output_type": "display_data",
          "data": {
            "text/plain": [
              "'108: love  '"
            ],
            "application/vnd.google.colaboratory.intrinsic+json": {
              "type": "string"
            }
          },
          "metadata": {}
        },
        {
          "output_type": "display_data",
          "data": {
            "text/plain": [
              "'109: fires  '"
            ],
            "application/vnd.google.colaboratory.intrinsic+json": {
              "type": "string"
            }
          },
          "metadata": {}
        },
        {
          "output_type": "display_data",
          "data": {
            "text/plain": [
              "'110: our  '"
            ],
            "application/vnd.google.colaboratory.intrinsic+json": {
              "type": "string"
            }
          },
          "metadata": {}
        },
        {
          "output_type": "display_data",
          "data": {
            "text/plain": [
              "'111: attack  '"
            ],
            "application/vnd.google.colaboratory.intrinsic+json": {
              "type": "string"
            }
          },
          "metadata": {}
        },
        {
          "output_type": "display_data",
          "data": {
            "text/plain": [
              "'112: youtube  '"
            ],
            "application/vnd.google.colaboratory.intrinsic+json": {
              "type": "string"
            }
          },
          "metadata": {}
        },
        {
          "output_type": "display_data",
          "data": {
            "text/plain": [
              "'113: two  '"
            ],
            "application/vnd.google.colaboratory.intrinsic+json": {
              "type": "string"
            }
          },
          "metadata": {}
        },
        {
          "output_type": "display_data",
          "data": {
            "text/plain": [
              "'114: 3  '"
            ],
            "application/vnd.google.colaboratory.intrinsic+json": {
              "type": "string"
            }
          },
          "metadata": {}
        },
        {
          "output_type": "display_data",
          "data": {
            "text/plain": [
              "'115: killed  '"
            ],
            "application/vnd.google.colaboratory.intrinsic+json": {
              "type": "string"
            }
          },
          "metadata": {}
        },
        {
          "output_type": "display_data",
          "data": {
            "text/plain": [
              "'116: dead  '"
            ],
            "application/vnd.google.colaboratory.intrinsic+json": {
              "type": "string"
            }
          },
          "metadata": {}
        },
        {
          "output_type": "display_data",
          "data": {
            "text/plain": [
              "'117: go  '"
            ],
            "application/vnd.google.colaboratory.intrinsic+json": {
              "type": "string"
            }
          },
          "metadata": {}
        },
        {
          "output_type": "display_data",
          "data": {
            "text/plain": [
              "'118: their  '"
            ],
            "application/vnd.google.colaboratory.intrinsic+json": {
              "type": "string"
            }
          },
          "metadata": {}
        },
        {
          "output_type": "display_data",
          "data": {
            "text/plain": [
              "'119: train  '"
            ],
            "application/vnd.google.colaboratory.intrinsic+json": {
              "type": "string"
            }
          },
          "metadata": {}
        },
        {
          "output_type": "display_data",
          "data": {
            "text/plain": [
              "'120: full  '"
            ],
            "application/vnd.google.colaboratory.intrinsic+json": {
              "type": "string"
            }
          },
          "metadata": {}
        },
        {
          "output_type": "display_data",
          "data": {
            "text/plain": [
              "'121: war  '"
            ],
            "application/vnd.google.colaboratory.intrinsic+json": {
              "type": "string"
            }
          },
          "metadata": {}
        },
        {
          "output_type": "display_data",
          "data": {
            "text/plain": [
              "'122: car  '"
            ],
            "application/vnd.google.colaboratory.intrinsic+json": {
              "type": "string"
            }
          },
          "metadata": {}
        },
        {
          "output_type": "display_data",
          "data": {
            "text/plain": [
              "'123: being  '"
            ],
            "application/vnd.google.colaboratory.intrinsic+json": {
              "type": "string"
            }
          },
          "metadata": {}
        },
        {
          "output_type": "display_data",
          "data": {
            "text/plain": [
              "'124: only  '"
            ],
            "application/vnd.google.colaboratory.intrinsic+json": {
              "type": "string"
            }
          },
          "metadata": {}
        },
        {
          "output_type": "display_data",
          "data": {
            "text/plain": [
              "'125: may  '"
            ],
            "application/vnd.google.colaboratory.intrinsic+json": {
              "type": "string"
            }
          },
          "metadata": {}
        },
        {
          "output_type": "display_data",
          "data": {
            "text/plain": [
              "'126: families  '"
            ],
            "application/vnd.google.colaboratory.intrinsic+json": {
              "type": "string"
            }
          },
          "metadata": {}
        },
        {
          "output_type": "display_data",
          "data": {
            "text/plain": [
              "'127: today  '"
            ],
            "application/vnd.google.colaboratory.intrinsic+json": {
              "type": "string"
            }
          },
          "metadata": {}
        },
        {
          "output_type": "display_data",
          "data": {
            "text/plain": [
              "'128: life  '"
            ],
            "application/vnd.google.colaboratory.intrinsic+json": {
              "type": "string"
            }
          },
          "metadata": {}
        },
        {
          "output_type": "display_data",
          "data": {
            "text/plain": [
              "'129: hiroshima  '"
            ],
            "application/vnd.google.colaboratory.intrinsic+json": {
              "type": "string"
            }
          },
          "metadata": {}
        },
        {
          "output_type": "display_data",
          "data": {
            "text/plain": [
              "'130: good  '"
            ],
            "application/vnd.google.colaboratory.intrinsic+json": {
              "type": "string"
            }
          },
          "metadata": {}
        },
        {
          "output_type": "display_data",
          "data": {
            "text/plain": [
              "'131: accident  '"
            ],
            "application/vnd.google.colaboratory.intrinsic+json": {
              "type": "string"
            }
          },
          "metadata": {}
        },
        {
          "output_type": "display_data",
          "data": {
            "text/plain": [
              "'132: think  '"
            ],
            "application/vnd.google.colaboratory.intrinsic+json": {
              "type": "string"
            }
          },
          "metadata": {}
        },
        {
          "output_type": "display_data",
          "data": {
            "text/plain": [
              "'133: down  '"
            ],
            "application/vnd.google.colaboratory.intrinsic+json": {
              "type": "string"
            }
          },
          "metadata": {}
        },
        {
          "output_type": "display_data",
          "data": {
            "text/plain": [
              "'134: watch  '"
            ],
            "application/vnd.google.colaboratory.intrinsic+json": {
              "type": "string"
            }
          },
          "metadata": {}
        },
        {
          "output_type": "display_data",
          "data": {
            "text/plain": [
              "'135: say  '"
            ],
            "application/vnd.google.colaboratory.intrinsic+json": {
              "type": "string"
            }
          },
          "metadata": {}
        },
        {
          "output_type": "display_data",
          "data": {
            "text/plain": [
              "'136: many  '"
            ],
            "application/vnd.google.colaboratory.intrinsic+json": {
              "type": "string"
            }
          },
          "metadata": {}
        },
        {
          "output_type": "display_data",
          "data": {
            "text/plain": [
              "'137: last  '"
            ],
            "application/vnd.google.colaboratory.intrinsic+json": {
              "type": "string"
            }
          },
          "metadata": {}
        },
        {
          "output_type": "display_data",
          "data": {
            "text/plain": [
              "'138: here  '"
            ],
            "application/vnd.google.colaboratory.intrinsic+json": {
              "type": "string"
            }
          },
          "metadata": {}
        },
        {
          "output_type": "display_data",
          "data": {
            "text/plain": [
              "'139: u  '"
            ],
            "application/vnd.google.colaboratory.intrinsic+json": {
              "type": "string"
            }
          },
          "metadata": {}
        },
        {
          "output_type": "display_data",
          "data": {
            "text/plain": [
              "'140: could  '"
            ],
            "application/vnd.google.colaboratory.intrinsic+json": {
              "type": "string"
            }
          },
          "metadata": {}
        },
        {
          "output_type": "display_data",
          "data": {
            "text/plain": [
              "'141: want  '"
            ],
            "application/vnd.google.colaboratory.intrinsic+json": {
              "type": "string"
            }
          },
          "metadata": {}
        },
        {
          "output_type": "display_data",
          "data": {
            "text/plain": [
              "'142: years  '"
            ],
            "application/vnd.google.colaboratory.intrinsic+json": {
              "type": "string"
            }
          },
          "metadata": {}
        },
        {
          "output_type": "display_data",
          "data": {
            "text/plain": [
              "'143: too  '"
            ],
            "application/vnd.google.colaboratory.intrinsic+json": {
              "type": "string"
            }
          },
          "metadata": {}
        },
        {
          "output_type": "display_data",
          "data": {
            "text/plain": [
              "'144: did  '"
            ],
            "application/vnd.google.colaboratory.intrinsic+json": {
              "type": "string"
            }
          },
          "metadata": {}
        },
        {
          "output_type": "display_data",
          "data": {
            "text/plain": [
              "'145: way  '"
            ],
            "application/vnd.google.colaboratory.intrinsic+json": {
              "type": "string"
            }
          },
          "metadata": {}
        },
        {
          "output_type": "display_data",
          "data": {
            "text/plain": [
              "'146: then  '"
            ],
            "application/vnd.google.colaboratory.intrinsic+json": {
              "type": "string"
            }
          },
          "metadata": {}
        },
        {
          "output_type": "display_data",
          "data": {
            "text/plain": [
              "'147: make  '"
            ],
            "application/vnd.google.colaboratory.intrinsic+json": {
              "type": "string"
            }
          },
          "metadata": {}
        },
        {
          "output_type": "display_data",
          "data": {
            "text/plain": [
              "'148: home  '"
            ],
            "application/vnd.google.colaboratory.intrinsic+json": {
              "type": "string"
            }
          },
          "metadata": {}
        },
        {
          "output_type": "display_data",
          "data": {
            "text/plain": [
              "'149: collapse  '"
            ],
            "application/vnd.google.colaboratory.intrinsic+json": {
              "type": "string"
            }
          },
          "metadata": {}
        },
        {
          "output_type": "display_data",
          "data": {
            "text/plain": [
              "'150: work  '"
            ],
            "application/vnd.google.colaboratory.intrinsic+json": {
              "type": "string"
            }
          },
          "metadata": {}
        },
        {
          "output_type": "display_data",
          "data": {
            "text/plain": [
              "'151: because  '"
            ],
            "application/vnd.google.colaboratory.intrinsic+json": {
              "type": "string"
            }
          },
          "metadata": {}
        },
        {
          "output_type": "display_data",
          "data": {
            "text/plain": [
              "'152: look  '"
            ],
            "application/vnd.google.colaboratory.intrinsic+json": {
              "type": "string"
            }
          },
          "metadata": {}
        },
        {
          "output_type": "display_data",
          "data": {
            "text/plain": [
              "'153: best  '"
            ],
            "application/vnd.google.colaboratory.intrinsic+json": {
              "type": "string"
            }
          },
          "metadata": {}
        },
        {
          "output_type": "display_data",
          "data": {
            "text/plain": [
              "'154: wildfire  '"
            ],
            "application/vnd.google.colaboratory.intrinsic+json": {
              "type": "string"
            }
          },
          "metadata": {}
        },
        {
          "output_type": "display_data",
          "data": {
            "text/plain": [
              "'155: need  '"
            ],
            "application/vnd.google.colaboratory.intrinsic+json": {
              "type": "string"
            }
          },
          "metadata": {}
        },
        {
          "output_type": "display_data",
          "data": {
            "text/plain": [
              "'156: even  '"
            ],
            "application/vnd.google.colaboratory.intrinsic+json": {
              "type": "string"
            }
          },
          "metadata": {}
        },
        {
          "output_type": "display_data",
          "data": {
            "text/plain": [
              "'157: really  '"
            ],
            "application/vnd.google.colaboratory.intrinsic+json": {
              "type": "string"
            }
          },
          "metadata": {}
        },
        {
          "output_type": "display_data",
          "data": {
            "text/plain": [
              "'158: mh370  '"
            ],
            "application/vnd.google.colaboratory.intrinsic+json": {
              "type": "string"
            }
          },
          "metadata": {}
        },
        {
          "output_type": "display_data",
          "data": {
            "text/plain": [
              "'159: mass  '"
            ],
            "application/vnd.google.colaboratory.intrinsic+json": {
              "type": "string"
            }
          },
          "metadata": {}
        },
        {
          "output_type": "display_data",
          "data": {
            "text/plain": [
              "'160: help  '"
            ],
            "application/vnd.google.colaboratory.intrinsic+json": {
              "type": "string"
            }
          },
          "metadata": {}
        },
        {
          "output_type": "display_data",
          "data": {
            "text/plain": [
              "'161: death  '"
            ],
            "application/vnd.google.colaboratory.intrinsic+json": {
              "type": "string"
            }
          },
          "metadata": {}
        },
        {
          "output_type": "display_data",
          "data": {
            "text/plain": [
              "'162: army  '"
            ],
            "application/vnd.google.colaboratory.intrinsic+json": {
              "type": "string"
            }
          },
          "metadata": {}
        },
        {
          "output_type": "display_data",
          "data": {
            "text/plain": [
              "'163: am  '"
            ],
            "application/vnd.google.colaboratory.intrinsic+json": {
              "type": "string"
            }
          },
          "metadata": {}
        },
        {
          "output_type": "display_data",
          "data": {
            "text/plain": [
              "'164: please  '"
            ],
            "application/vnd.google.colaboratory.intrinsic+json": {
              "type": "string"
            }
          },
          "metadata": {}
        },
        {
          "output_type": "display_data",
          "data": {
            "text/plain": [
              "'165: lol  '"
            ],
            "application/vnd.google.colaboratory.intrinsic+json": {
              "type": "string"
            }
          },
          "metadata": {}
        },
        {
          "output_type": "display_data",
          "data": {
            "text/plain": [
              "'166: year  '"
            ],
            "application/vnd.google.colaboratory.intrinsic+json": {
              "type": "string"
            }
          },
          "metadata": {}
        },
        {
          "output_type": "display_data",
          "data": {
            "text/plain": [
              "'167: take  '"
            ],
            "application/vnd.google.colaboratory.intrinsic+json": {
              "type": "string"
            }
          },
          "metadata": {}
        },
        {
          "output_type": "display_data",
          "data": {
            "text/plain": [
              "'168: him  '"
            ],
            "application/vnd.google.colaboratory.intrinsic+json": {
              "type": "string"
            }
          },
          "metadata": {}
        },
        {
          "output_type": "display_data",
          "data": {
            "text/plain": [
              "'169: another  '"
            ],
            "application/vnd.google.colaboratory.intrinsic+json": {
              "type": "string"
            }
          },
          "metadata": {}
        },
        {
          "output_type": "display_data",
          "data": {
            "text/plain": [
              "'170: those  '"
            ],
            "application/vnd.google.colaboratory.intrinsic+json": {
              "type": "string"
            }
          },
          "metadata": {}
        },
        {
          "output_type": "display_data",
          "data": {
            "text/plain": [
              "'171: should  '"
            ],
            "application/vnd.google.colaboratory.intrinsic+json": {
              "type": "string"
            }
          },
          "metadata": {}
        },
        {
          "output_type": "display_data",
          "data": {
            "text/plain": [
              "'172: right  '"
            ],
            "application/vnd.google.colaboratory.intrinsic+json": {
              "type": "string"
            }
          },
          "metadata": {}
        },
        {
          "output_type": "display_data",
          "data": {
            "text/plain": [
              "'173: pm  '"
            ],
            "application/vnd.google.colaboratory.intrinsic+json": {
              "type": "string"
            }
          },
          "metadata": {}
        },
        {
          "output_type": "display_data",
          "data": {
            "text/plain": [
              "'174: bombing  '"
            ],
            "application/vnd.google.colaboratory.intrinsic+json": {
              "type": "string"
            }
          },
          "metadata": {}
        },
        {
          "output_type": "display_data",
          "data": {
            "text/plain": [
              "'175: youre  '"
            ],
            "application/vnd.google.colaboratory.intrinsic+json": {
              "type": "string"
            }
          },
          "metadata": {}
        },
        {
          "output_type": "display_data",
          "data": {
            "text/plain": [
              "'176: school  '"
            ],
            "application/vnd.google.colaboratory.intrinsic+json": {
              "type": "string"
            }
          },
          "metadata": {}
        },
        {
          "output_type": "display_data",
          "data": {
            "text/plain": [
              "'177: hot  '"
            ],
            "application/vnd.google.colaboratory.intrinsic+json": {
              "type": "string"
            }
          },
          "metadata": {}
        },
        {
          "output_type": "display_data",
          "data": {
            "text/plain": [
              "'178: black  '"
            ],
            "application/vnd.google.colaboratory.intrinsic+json": {
              "type": "string"
            }
          },
          "metadata": {}
        },
        {
          "output_type": "display_data",
          "data": {
            "text/plain": [
              "'179: 4  '"
            ],
            "application/vnd.google.colaboratory.intrinsic+json": {
              "type": "string"
            }
          },
          "metadata": {}
        },
        {
          "output_type": "display_data",
          "data": {
            "text/plain": [
              "'180: forest  '"
            ],
            "application/vnd.google.colaboratory.intrinsic+json": {
              "type": "string"
            }
          },
          "metadata": {}
        },
        {
          "output_type": "display_data",
          "data": {
            "text/plain": [
              "'181: fatal  '"
            ],
            "application/vnd.google.colaboratory.intrinsic+json": {
              "type": "string"
            }
          },
          "metadata": {}
        },
        {
          "output_type": "display_data",
          "data": {
            "text/plain": [
              "'182: northern  '"
            ],
            "application/vnd.google.colaboratory.intrinsic+json": {
              "type": "string"
            }
          },
          "metadata": {}
        },
        {
          "output_type": "display_data",
          "data": {
            "text/plain": [
              "'183: much  '"
            ],
            "application/vnd.google.colaboratory.intrinsic+json": {
              "type": "string"
            }
          },
          "metadata": {}
        },
        {
          "output_type": "display_data",
          "data": {
            "text/plain": [
              "'184: 5  '"
            ],
            "application/vnd.google.colaboratory.intrinsic+json": {
              "type": "string"
            }
          },
          "metadata": {}
        },
        {
          "output_type": "display_data",
          "data": {
            "text/plain": [
              "'185: 1  '"
            ],
            "application/vnd.google.colaboratory.intrinsic+json": {
              "type": "string"
            }
          },
          "metadata": {}
        },
        {
          "output_type": "display_data",
          "data": {
            "text/plain": [
              "'186: water  '"
            ],
            "application/vnd.google.colaboratory.intrinsic+json": {
              "type": "string"
            }
          },
          "metadata": {}
        },
        {
          "output_type": "display_data",
          "data": {
            "text/plain": [
              "'187: she  '"
            ],
            "application/vnd.google.colaboratory.intrinsic+json": {
              "type": "string"
            }
          },
          "metadata": {}
        },
        {
          "output_type": "display_data",
          "data": {
            "text/plain": [
              "'188: obama  '"
            ],
            "application/vnd.google.colaboratory.intrinsic+json": {
              "type": "string"
            }
          },
          "metadata": {}
        },
        {
          "output_type": "display_data",
          "data": {
            "text/plain": [
              "'189: let  '"
            ],
            "application/vnd.google.colaboratory.intrinsic+json": {
              "type": "string"
            }
          },
          "metadata": {}
        },
        {
          "output_type": "display_data",
          "data": {
            "text/plain": [
              "'190: legionnaires  '"
            ],
            "application/vnd.google.colaboratory.intrinsic+json": {
              "type": "string"
            }
          },
          "metadata": {}
        },
        {
          "output_type": "display_data",
          "data": {
            "text/plain": [
              "'191: great  '"
            ],
            "application/vnd.google.colaboratory.intrinsic+json": {
              "type": "string"
            }
          },
          "metadata": {}
        },
        {
          "output_type": "display_data",
          "data": {
            "text/plain": [
              "'192: wreck  '"
            ],
            "application/vnd.google.colaboratory.intrinsic+json": {
              "type": "string"
            }
          },
          "metadata": {}
        },
        {
          "output_type": "display_data",
          "data": {
            "text/plain": [
              "'193: never  '"
            ],
            "application/vnd.google.colaboratory.intrinsic+json": {
              "type": "string"
            }
          },
          "metadata": {}
        },
        {
          "output_type": "display_data",
          "data": {
            "text/plain": [
              "'194: homes  '"
            ],
            "application/vnd.google.colaboratory.intrinsic+json": {
              "type": "string"
            }
          },
          "metadata": {}
        },
        {
          "output_type": "display_data",
          "data": {
            "text/plain": [
              "'195: bomber  '"
            ],
            "application/vnd.google.colaboratory.intrinsic+json": {
              "type": "string"
            }
          },
          "metadata": {}
        },
        {
          "output_type": "display_data",
          "data": {
            "text/plain": [
              "'196: 2015  '"
            ],
            "application/vnd.google.colaboratory.intrinsic+json": {
              "type": "string"
            }
          },
          "metadata": {}
        },
        {
          "output_type": "display_data",
          "data": {
            "text/plain": [
              "'197: \\x89Û  '"
            ],
            "application/vnd.google.colaboratory.intrinsic+json": {
              "type": "string"
            }
          },
          "metadata": {}
        },
        {
          "output_type": "display_data",
          "data": {
            "text/plain": [
              "'198: live  '"
            ],
            "application/vnd.google.colaboratory.intrinsic+json": {
              "type": "string"
            }
          },
          "metadata": {}
        },
        {
          "output_type": "display_data",
          "data": {
            "text/plain": [
              "'199: latest  '"
            ],
            "application/vnd.google.colaboratory.intrinsic+json": {
              "type": "string"
            }
          },
          "metadata": {}
        }
      ],
      "source": [
        "vectorize_layer = tf.keras.layers.TextVectorization(\n",
        "    standardize=\"lower_and_strip_punctuation\",\n",
        "    split=\"whitespace\",\n",
        "    output_mode=\"int\",\n",
        "    max_tokens=200\n",
        ")\n",
        "\n",
        "vectorize_layer.adapt(complete_x)\n",
        "\n",
        "display(\"--Vocabulary--\")\n",
        "for i, token in enumerate(vectorize_layer.get_vocabulary()):\n",
        "  endline = '\\n' if i % 10 == 0 else ''\n",
        "  display(f\"{i}: {token}  \")\n"
      ]
    },
    {
      "cell_type": "markdown",
      "metadata": {
        "id": "yYGSbjOjI2lm"
      },
      "source": [
        "Now that we've assigned each word in our dataset to unique number, let's count how many times each of the words show up. If we compare this distribution in our disaster tweets versus our non-disaster tweets, we should see the most relevant words in a disaster tweet vs a non-disaster tweet."
      ]
    },
    {
      "cell_type": "code",
      "execution_count": 8,
      "metadata": {
        "id": "HgNwNNMfBLwR",
        "colab": {
          "base_uri": "https://localhost:8080/",
          "height": 0
        },
        "outputId": "d9aa59c4-4f54-4583-ebee-f0950ceeaeaf"
      },
      "outputs": [
        {
          "output_type": "stream",
          "name": "stdout",
          "text": [
            "The amount of training data that is not relating to disasters is 2631\n",
            "The amount of training data that is not relating to disasters is 3459\n",
            "% of training data that is disaster: 0.432020\n",
            "% of training data that is not disaster: 0.567980\n"
          ]
        }
      ],
      "source": [
        "disaster_data = train_X[train_Y == 1]\n",
        "non_disaster_data = train_X[train_Y == 0]\n",
        "\n",
        "print(f\"The amount of training data that is not relating to disasters is {len(disaster_data)}\")\n",
        "print(f\"The amount of training data that is not relating to disasters is {len(non_disaster_data)}\")\n",
        "\n",
        "total = len(disaster_data) + len(non_disaster_data)\n",
        "print(f\"% of training data that is disaster: {len(disaster_data) / total:2f}\")\n",
        "print(f\"% of training data that is not disaster: {len(non_disaster_data) / total:2f}\")"
      ]
    },
    {
      "cell_type": "markdown",
      "source": [
        "We'll use this data to set a baseline model - since 56% of our training data is not disaster related, let's assume that we predict 56% of all the data as being non-disaster related. From now on, we'll compare each model we build to this 56%."
      ],
      "metadata": {
        "id": "XkdpF6mWQVpK"
      }
    },
    {
      "cell_type": "code",
      "execution_count": 9,
      "metadata": {
        "id": "WHvrQSaLBLwS"
      },
      "outputs": [],
      "source": [
        "from collections import Counter\n",
        "\n",
        "disaster_counter = Counter()\n",
        "for example in disaster_data:\n",
        "    disaster_counter.update(example.split(' '))\n",
        "\n",
        "non_disaster_counter = Counter()\n",
        "for example in non_disaster_data:\n",
        "    non_disaster_counter.update(example.split(' '))"
      ]
    },
    {
      "cell_type": "code",
      "execution_count": 10,
      "metadata": {
        "id": "D5oQKieJBLwS"
      },
      "outputs": [],
      "source": [
        "def plot_relevant_words(plot_title: str, counter_1: Counter, counter_2: Counter, color: str = \"skyblue\"):\n",
        "    common = counter_1 - counter_2\n",
        "    most_common = common.most_common(10)\n",
        "    common_words = np.array(most_common)[:,0]\n",
        "    count = np.array(most_common)[:,1].astype(int)\n",
        "    plt.bar(common_words, count, color=color)\n",
        "    plt.ylabel(\"frequency\")\n",
        "    plt.xlabel(\"word\")\n",
        "    plt.title(plot_title)\n",
        "    plt.show()"
      ]
    },
    {
      "cell_type": "code",
      "execution_count": 11,
      "metadata": {
        "colab": {
          "base_uri": "https://localhost:8080/",
          "height": 472
        },
        "id": "WdmjsDNDBLwT",
        "outputId": "d48d66c7-0aff-414c-dd83-5dc5ff275d8c"
      },
      "outputs": [
        {
          "output_type": "display_data",
          "data": {
            "text/plain": [
              "<Figure size 640x480 with 1 Axes>"
            ],
            "image/png": "[encoded data removed]"
          },
          "metadata": {}
        }
      ],
      "source": [
        "plot_relevant_words(\"Relevant words in disaster tweets\", disaster_counter, non_disaster_counter, color=\"firebrick\")"
      ]
    },
    {
      "cell_type": "code",
      "execution_count": 12,
      "metadata": {
        "colab": {
          "base_uri": "https://localhost:8080/",
          "height": 472
        },
        "id": "ewxM3w3nBLwU",
        "outputId": "0948ec27-5fc4-431d-c40f-f27e81ae86c8"
      },
      "outputs": [
        {
          "output_type": "display_data",
          "data": {
            "text/plain": [
              "<Figure size 640x480 with 1 Axes>"
            ],
            "image/png": "[encoded data removed]"
          },
          "metadata": {}
        }
      ],
      "source": [
        "plot_relevant_words(\"Relevant words in non-disaster tweets\", non_disaster_counter, disaster_counter)"
      ]
    },
    {
      "cell_type": "markdown",
      "metadata": {
        "id": "vowkoCZnBLwU"
      },
      "source": [
        "The most relevant words for the disaster tweets make a lot of sense in relation to their classification, but non-disaster tweets are non-specific. This is possibly because non-disaster tweets can encompass any topic, which means they don't have certain words which are especially relevant to being \"non-disaster tweets\".\n",
        "\n",
        "Let's look into the length of non-disaster tweets vs disaster tweets."
      ]
    },
    {
      "cell_type": "code",
      "execution_count": 13,
      "metadata": {
        "colab": {
          "base_uri": "https://localhost:8080/",
          "height": 428
        },
        "id": "PJAKU8hzBLwU",
        "outputId": "f8fddd71-cf94-426a-8321-fcce76a77b7f"
      },
      "outputs": [
        {
          "output_type": "display_data",
          "data": {
            "text/plain": [
              "<Figure size 640x480 with 1 Axes>"
            ],
            "image/png": "[encoded data removed]"
          },
          "metadata": {}
        }
      ],
      "source": [
        "plt.pie([len(non_disaster_data), len(disaster_data)], labels = ['Non-Disasters', 'Disasters'], autopct='%1.1f%%', colors=[\"skyblue\", \"firebrick\"])\n",
        "plt.title('Length of Disaster Data vs Non-Disaster Data')\n",
        "plt.show()"
      ]
    },
    {
      "cell_type": "markdown",
      "metadata": {
        "id": "UqZE1qW0BLwV"
      },
      "source": [
        "It looks like we have slightly more non-disaster tweets compared to disaster tweets, which could skew our model somehow if we're not careful."
      ]
    },
    {
      "cell_type": "markdown",
      "metadata": {
        "id": "oAVm253xBLwV"
      },
      "source": [
        "Let's also look into the keywords of our disaster and non-disaster tweets on a list form instead of a bar graph - which should be easier to read."
      ]
    },
    {
      "cell_type": "code",
      "execution_count": 14,
      "metadata": {
        "colab": {
          "base_uri": "https://localhost:8080/",
          "height": 0
        },
        "id": "OK1r_L1nBLwV",
        "outputId": "a85517e6-31cd-4d5c-c8e7-6a29181cfaa2"
      },
      "outputs": [
        {
          "output_type": "execute_result",
          "data": {
            "text/plain": [
              "Counter({'ablaze': 36,\n",
              "         'accident': 35,\n",
              "         'aftershock': 34,\n",
              "         'airplane%20accident': 35,\n",
              "         'ambulance': 38,\n",
              "         'annihilated': 34,\n",
              "         'annihilation': 29,\n",
              "         'apocalypse': 32,\n",
              "         'armageddon': 42,\n",
              "         'army': 34,\n",
              "         'arson': 32,\n",
              "         'arsonist': 34,\n",
              "         'attack': 36,\n",
              "         'attacked': 35,\n",
              "         'avalanche': 30,\n",
              "         'battle': 26,\n",
              "         'bioterror': 37,\n",
              "         'bioterrorism': 30,\n",
              "         'blaze': 38,\n",
              "         'blazing': 34,\n",
              "         'bleeding': 35,\n",
              "         'blew%20up': 33,\n",
              "         'blight': 32,\n",
              "         'blizzard': 37,\n",
              "         'blood': 35,\n",
              "         'bloody': 35,\n",
              "         'blown%20up': 33,\n",
              "         'body%20bag': 33,\n",
              "         'body%20bagging': 33,\n",
              "         'body%20bags': 41,\n",
              "         'bomb': 34,\n",
              "         'bombed': 38,\n",
              "         'bombing': 29,\n",
              "         'bridge%20collapse': 35,\n",
              "         'buildings%20burning': 35,\n",
              "         'buildings%20on%20fire': 33,\n",
              "         'burned': 33,\n",
              "         'burning': 34,\n",
              "         'burning%20buildings': 37,\n",
              "         'bush%20fires': 25,\n",
              "         'casualties': 35,\n",
              "         'casualty': 34,\n",
              "         'catastrophe': 36,\n",
              "         'catastrophic': 30,\n",
              "         'chemical%20emergency': 33,\n",
              "         'cliff%20fall': 36,\n",
              "         'collapse': 34,\n",
              "         'collapsed': 35,\n",
              "         'collide': 34,\n",
              "         'collided': 40,\n",
              "         'collision': 39,\n",
              "         'crash': 33,\n",
              "         'crashed': 34,\n",
              "         'crush': 37,\n",
              "         'crushed': 31,\n",
              "         'curfew': 37,\n",
              "         'cyclone': 32,\n",
              "         'damage': 41,\n",
              "         'danger': 36,\n",
              "         'dead': 30,\n",
              "         'death': 36,\n",
              "         'deaths': 38,\n",
              "         'debris': 37,\n",
              "         'deluge': 42,\n",
              "         'deluged': 27,\n",
              "         'demolish': 34,\n",
              "         'demolished': 28,\n",
              "         'demolition': 35,\n",
              "         'derail': 35,\n",
              "         'derailed': 38,\n",
              "         'derailment': 39,\n",
              "         'desolate': 29,\n",
              "         'desolation': 36,\n",
              "         'destroy': 37,\n",
              "         'destroyed': 32,\n",
              "         'destruction': 34,\n",
              "         'detonate': 36,\n",
              "         'detonation': 32,\n",
              "         'devastated': 31,\n",
              "         'devastation': 36,\n",
              "         'disaster': 35,\n",
              "         'displaced': 36,\n",
              "         'drought': 35,\n",
              "         'drown': 32,\n",
              "         'drowned': 38,\n",
              "         'drowning': 34,\n",
              "         'dust%20storm': 36,\n",
              "         'earthquake': 39,\n",
              "         'electrocute': 32,\n",
              "         'electrocuted': 34,\n",
              "         'emergency': 37,\n",
              "         'emergency%20plan': 35,\n",
              "         'emergency%20services': 33,\n",
              "         'engulfed': 36,\n",
              "         'epicentre': 12,\n",
              "         'evacuate': 40,\n",
              "         'evacuated': 36,\n",
              "         'evacuation': 36,\n",
              "         'explode': 38,\n",
              "         'exploded': 33,\n",
              "         'explosion': 39,\n",
              "         'eyewitness': 32,\n",
              "         'famine': 39,\n",
              "         'fatal': 38,\n",
              "         'fatalities': 45,\n",
              "         'fatality': 37,\n",
              "         'fear': 40,\n",
              "         'fire': 38,\n",
              "         'fire%20truck': 33,\n",
              "         'first%20responders': 29,\n",
              "         'flames': 39,\n",
              "         'flattened': 34,\n",
              "         'flood': 35,\n",
              "         'flooding': 38,\n",
              "         'floods': 36,\n",
              "         'forest%20fire': 19,\n",
              "         'forest%20fires': 32,\n",
              "         'hail': 35,\n",
              "         'hailstorm': 32,\n",
              "         'harm': 41,\n",
              "         'hazard': 34,\n",
              "         'hazardous': 35,\n",
              "         'heat%20wave': 34,\n",
              "         'hellfire': 39,\n",
              "         'hijack': 33,\n",
              "         'hijacker': 35,\n",
              "         'hijacking': 32,\n",
              "         'hostage': 31,\n",
              "         'hostages': 37,\n",
              "         'hurricane': 38,\n",
              "         'injured': 35,\n",
              "         'injuries': 33,\n",
              "         'injury': 38,\n",
              "         'inundated': 35,\n",
              "         'inundation': 10,\n",
              "         'landslide': 33,\n",
              "         'lava': 34,\n",
              "         'lightning': 33,\n",
              "         'loud%20bang': 34,\n",
              "         'mass%20murder': 33,\n",
              "         'mass%20murderer': 32,\n",
              "         'massacre': 36,\n",
              "         'mayhem': 30,\n",
              "         'meltdown': 33,\n",
              "         'military': 34,\n",
              "         'mudslide': 37,\n",
              "         'natural%20disaster': 34,\n",
              "         'nuclear%20disaster': 34,\n",
              "         'nuclear%20reactor': 36,\n",
              "         'obliterate': 31,\n",
              "         'obliterated': 31,\n",
              "         'obliteration': 29,\n",
              "         'oil%20spill': 38,\n",
              "         'outbreak': 40,\n",
              "         'pandemonium': 37,\n",
              "         'panic': 37,\n",
              "         'panicking': 33,\n",
              "         'police': 37,\n",
              "         'quarantine': 34,\n",
              "         'quarantined': 37,\n",
              "         'radiation%20emergency': 9,\n",
              "         'rainstorm': 34,\n",
              "         'razed': 35,\n",
              "         'refugees': 36,\n",
              "         'rescue': 22,\n",
              "         'rescued': 35,\n",
              "         'rescuers': 35,\n",
              "         'riot': 34,\n",
              "         'rioting': 35,\n",
              "         'rubble': 28,\n",
              "         'ruin': 37,\n",
              "         'sandstorm': 37,\n",
              "         'screamed': 34,\n",
              "         'screaming': 36,\n",
              "         'screams': 35,\n",
              "         'seismic': 29,\n",
              "         'sinkhole': 39,\n",
              "         'sinking': 41,\n",
              "         'siren': 40,\n",
              "         'sirens': 29,\n",
              "         'smoke': 34,\n",
              "         'snowstorm': 29,\n",
              "         'storm': 35,\n",
              "         'stretcher': 33,\n",
              "         'structural%20failure': 35,\n",
              "         'suicide%20bomb': 35,\n",
              "         'suicide%20bomber': 31,\n",
              "         'suicide%20bombing': 33,\n",
              "         'sunk': 39,\n",
              "         'survive': 32,\n",
              "         'survived': 33,\n",
              "         'survivors': 30,\n",
              "         'terrorism': 34,\n",
              "         'terrorist': 31,\n",
              "         'threat': 11,\n",
              "         'thunder': 38,\n",
              "         'thunderstorm': 33,\n",
              "         'tornado': 35,\n",
              "         'tragedy': 36,\n",
              "         'trapped': 32,\n",
              "         'trauma': 31,\n",
              "         'traumatised': 35,\n",
              "         'trouble': 33,\n",
              "         'tsunami': 34,\n",
              "         'twister': 40,\n",
              "         'typhoon': 38,\n",
              "         'upheaval': 38,\n",
              "         'violent%20storm': 33,\n",
              "         'volcano': 27,\n",
              "         'war%20zone': 24,\n",
              "         'weapon': 39,\n",
              "         'weapons': 39,\n",
              "         'whirlwind': 39,\n",
              "         'wild%20fires': 31,\n",
              "         'wildfire': 33,\n",
              "         'windstorm': 40,\n",
              "         'wounded': 37,\n",
              "         'wounds': 33,\n",
              "         'wreck': 37,\n",
              "         'wreckage': 39,\n",
              "         'wrecked': 39})"
            ]
          },
          "metadata": {},
          "execution_count": 14
        }
      ],
      "source": [
        "Counter(train_data['keyword'].dropna())"
      ]
    },
    {
      "cell_type": "code",
      "execution_count": 15,
      "metadata": {
        "colab": {
          "base_uri": "https://localhost:8080/",
          "height": 0
        },
        "id": "ugBpigJjBLwV",
        "outputId": "87f43cfe-6e7c-46da-954e-f9471687c657"
      },
      "outputs": [
        {
          "output_type": "execute_result",
          "data": {
            "text/plain": [
              "Counter({'ablaze': 13,\n",
              "         'accident': 24,\n",
              "         'airplane%20accident': 30,\n",
              "         'ambulance': 20,\n",
              "         'annihilated': 11,\n",
              "         'annihilation': 10,\n",
              "         'apocalypse': 9,\n",
              "         'armageddon': 5,\n",
              "         'army': 5,\n",
              "         'arson': 22,\n",
              "         'arsonist': 8,\n",
              "         'attack': 25,\n",
              "         'attacked': 21,\n",
              "         'avalanche': 4,\n",
              "         'battle': 5,\n",
              "         'bioterror': 22,\n",
              "         'bioterrorism': 21,\n",
              "         'blaze': 5,\n",
              "         'blazing': 1,\n",
              "         'bleeding': 5,\n",
              "         'blew%20up': 2,\n",
              "         'blight': 2,\n",
              "         'blizzard': 4,\n",
              "         'blood': 5,\n",
              "         'bloody': 3,\n",
              "         'blown%20up': 5,\n",
              "         'body%20bag': 1,\n",
              "         'body%20bagging': 5,\n",
              "         'body%20bags': 1,\n",
              "         'bomb': 15,\n",
              "         'bombed': 19,\n",
              "         'bombing': 27,\n",
              "         'bridge%20collapse': 29,\n",
              "         'buildings%20burning': 24,\n",
              "         'buildings%20on%20fire': 28,\n",
              "         'burned': 7,\n",
              "         'burning': 10,\n",
              "         'burning%20buildings': 21,\n",
              "         'bush%20fires': 18,\n",
              "         'casualties': 28,\n",
              "         'casualty': 15,\n",
              "         'catastrophe': 7,\n",
              "         'catastrophic': 20,\n",
              "         'chemical%20emergency': 15,\n",
              "         'cliff%20fall': 8,\n",
              "         'collapse': 15,\n",
              "         'collapsed': 13,\n",
              "         'collide': 3,\n",
              "         'collided': 23,\n",
              "         'collision': 29,\n",
              "         'crash': 12,\n",
              "         'crashed': 21,\n",
              "         'crush': 4,\n",
              "         'crushed': 4,\n",
              "         'curfew': 5,\n",
              "         'cyclone': 19,\n",
              "         'damage': 19,\n",
              "         'danger': 8,\n",
              "         'dead': 7,\n",
              "         'death': 9,\n",
              "         'deaths': 26,\n",
              "         'debris': 37,\n",
              "         'deluge': 6,\n",
              "         'deluged': 7,\n",
              "         'demolish': 5,\n",
              "         'demolished': 7,\n",
              "         'demolition': 9,\n",
              "         'derail': 17,\n",
              "         'derailed': 26,\n",
              "         'derailment': 39,\n",
              "         'desolate': 7,\n",
              "         'desolation': 7,\n",
              "         'destroy': 9,\n",
              "         'destroyed': 8,\n",
              "         'destruction': 6,\n",
              "         'detonate': 10,\n",
              "         'detonation': 9,\n",
              "         'devastated': 18,\n",
              "         'devastation': 27,\n",
              "         'disaster': 15,\n",
              "         'displaced': 26,\n",
              "         'drought': 28,\n",
              "         'drown': 3,\n",
              "         'drowned': 15,\n",
              "         'drowning': 9,\n",
              "         'dust%20storm': 24,\n",
              "         'earthquake': 30,\n",
              "         'electrocute': 1,\n",
              "         'electrocuted': 13,\n",
              "         'emergency': 14,\n",
              "         'emergency%20plan': 21,\n",
              "         'emergency%20services': 11,\n",
              "         'engulfed': 19,\n",
              "         'epicentre': 1,\n",
              "         'evacuate': 25,\n",
              "         'evacuated': 32,\n",
              "         'evacuation': 28,\n",
              "         'explode': 3,\n",
              "         'exploded': 9,\n",
              "         'explosion': 20,\n",
              "         'eyewitness': 12,\n",
              "         'famine': 26,\n",
              "         'fatal': 26,\n",
              "         'fatalities': 26,\n",
              "         'fatality': 10,\n",
              "         'fear': 5,\n",
              "         'fire': 11,\n",
              "         'fire%20truck': 22,\n",
              "         'first%20responders': 12,\n",
              "         'flames': 13,\n",
              "         'flattened': 5,\n",
              "         'flood': 15,\n",
              "         'flooding': 25,\n",
              "         'floods': 26,\n",
              "         'forest%20fire': 15,\n",
              "         'forest%20fires': 27,\n",
              "         'hail': 18,\n",
              "         'hailstorm': 24,\n",
              "         'harm': 4,\n",
              "         'hazard': 7,\n",
              "         'hazardous': 22,\n",
              "         'heat%20wave': 25,\n",
              "         'hellfire': 7,\n",
              "         'hijack': 16,\n",
              "         'hijacker': 19,\n",
              "         'hijacking': 15,\n",
              "         'hostage': 15,\n",
              "         'hostages': 27,\n",
              "         'hurricane': 20,\n",
              "         'injured': 24,\n",
              "         'injuries': 9,\n",
              "         'injury': 11,\n",
              "         'inundated': 6,\n",
              "         'inundation': 2,\n",
              "         'landslide': 14,\n",
              "         'lava': 5,\n",
              "         'lightning': 17,\n",
              "         'loud%20bang': 7,\n",
              "         'mass%20murder': 28,\n",
              "         'mass%20murderer': 19,\n",
              "         'massacre': 25,\n",
              "         'mayhem': 3,\n",
              "         'meltdown': 5,\n",
              "         'military': 8,\n",
              "         'mudslide': 12,\n",
              "         'natural%20disaster': 18,\n",
              "         'nuclear%20disaster': 31,\n",
              "         'nuclear%20reactor': 14,\n",
              "         'obliterate': 4,\n",
              "         'obliterated': 4,\n",
              "         'obliteration': 4,\n",
              "         'oil%20spill': 37,\n",
              "         'outbreak': 39,\n",
              "         'pandemonium': 8,\n",
              "         'panic': 3,\n",
              "         'panicking': 2,\n",
              "         'police': 21,\n",
              "         'quarantine': 5,\n",
              "         'quarantined': 14,\n",
              "         'radiation%20emergency': 5,\n",
              "         'rainstorm': 18,\n",
              "         'razed': 31,\n",
              "         'refugees': 22,\n",
              "         'rescue': 5,\n",
              "         'rescued': 17,\n",
              "         'rescuers': 32,\n",
              "         'riot': 6,\n",
              "         'rioting': 23,\n",
              "         'rubble': 10,\n",
              "         'ruin': 1,\n",
              "         'sandstorm': 28,\n",
              "         'screamed': 4,\n",
              "         'screaming': 2,\n",
              "         'screams': 5,\n",
              "         'seismic': 13,\n",
              "         'sinkhole': 27,\n",
              "         'sinking': 8,\n",
              "         'siren': 5,\n",
              "         'sirens': 7,\n",
              "         'smoke': 3,\n",
              "         'snowstorm': 13,\n",
              "         'storm': 18,\n",
              "         'stretcher': 3,\n",
              "         'structural%20failure': 23,\n",
              "         'suicide%20bomb': 32,\n",
              "         'suicide%20bomber': 30,\n",
              "         'suicide%20bombing': 32,\n",
              "         'sunk': 9,\n",
              "         'survive': 5,\n",
              "         'survived': 10,\n",
              "         'survivors': 21,\n",
              "         'terrorism': 24,\n",
              "         'terrorist': 23,\n",
              "         'threat': 2,\n",
              "         'thunder': 12,\n",
              "         'thunderstorm': 26,\n",
              "         'tornado': 16,\n",
              "         'tragedy': 22,\n",
              "         'trapped': 9,\n",
              "         'trauma': 11,\n",
              "         'traumatised': 2,\n",
              "         'trouble': 5,\n",
              "         'tsunami': 11,\n",
              "         'twister': 5,\n",
              "         'typhoon': 37,\n",
              "         'upheaval': 6,\n",
              "         'violent%20storm': 26,\n",
              "         'volcano': 18,\n",
              "         'war%20zone': 7,\n",
              "         'weapon': 14,\n",
              "         'weapons': 17,\n",
              "         'whirlwind': 14,\n",
              "         'wild%20fires': 27,\n",
              "         'wildfire': 29,\n",
              "         'windstorm': 16,\n",
              "         'wounded': 26,\n",
              "         'wounds': 10,\n",
              "         'wreck': 7,\n",
              "         'wreckage': 39,\n",
              "         'wrecked': 3})"
            ]
          },
          "metadata": {},
          "execution_count": 15
        }
      ],
      "source": [
        "Counter(train_data[train_data['target'] == 1]['keyword'].dropna())"
      ]
    },
    {
      "cell_type": "code",
      "execution_count": 16,
      "metadata": {
        "colab": {
          "base_uri": "https://localhost:8080/",
          "height": 0
        },
        "id": "OcKhTzmNBLwW",
        "outputId": "afff5ffa-0304-4a81-c9f7-1d61fd832d10"
      },
      "outputs": [
        {
          "output_type": "execute_result",
          "data": {
            "text/plain": [
              "Counter({'ablaze': 23,\n",
              "         'accident': 11,\n",
              "         'aftershock': 34,\n",
              "         'airplane%20accident': 5,\n",
              "         'ambulance': 18,\n",
              "         'annihilated': 23,\n",
              "         'annihilation': 19,\n",
              "         'apocalypse': 23,\n",
              "         'armageddon': 37,\n",
              "         'army': 29,\n",
              "         'arson': 10,\n",
              "         'arsonist': 26,\n",
              "         'attack': 11,\n",
              "         'attacked': 14,\n",
              "         'avalanche': 26,\n",
              "         'battle': 21,\n",
              "         'bioterror': 15,\n",
              "         'bioterrorism': 9,\n",
              "         'blaze': 33,\n",
              "         'blazing': 33,\n",
              "         'bleeding': 30,\n",
              "         'blew%20up': 31,\n",
              "         'blight': 30,\n",
              "         'blizzard': 33,\n",
              "         'blood': 30,\n",
              "         'bloody': 32,\n",
              "         'blown%20up': 28,\n",
              "         'body%20bag': 32,\n",
              "         'body%20bagging': 28,\n",
              "         'body%20bags': 40,\n",
              "         'bomb': 19,\n",
              "         'bombed': 19,\n",
              "         'bombing': 2,\n",
              "         'bridge%20collapse': 6,\n",
              "         'buildings%20burning': 11,\n",
              "         'buildings%20on%20fire': 5,\n",
              "         'burned': 26,\n",
              "         'burning': 24,\n",
              "         'burning%20buildings': 16,\n",
              "         'bush%20fires': 7,\n",
              "         'casualties': 7,\n",
              "         'casualty': 19,\n",
              "         'catastrophe': 29,\n",
              "         'catastrophic': 10,\n",
              "         'chemical%20emergency': 18,\n",
              "         'cliff%20fall': 28,\n",
              "         'collapse': 19,\n",
              "         'collapsed': 22,\n",
              "         'collide': 31,\n",
              "         'collided': 17,\n",
              "         'collision': 10,\n",
              "         'crash': 21,\n",
              "         'crashed': 13,\n",
              "         'crush': 33,\n",
              "         'crushed': 27,\n",
              "         'curfew': 32,\n",
              "         'cyclone': 13,\n",
              "         'damage': 22,\n",
              "         'danger': 28,\n",
              "         'dead': 23,\n",
              "         'death': 27,\n",
              "         'deaths': 12,\n",
              "         'deluge': 36,\n",
              "         'deluged': 20,\n",
              "         'demolish': 29,\n",
              "         'demolished': 21,\n",
              "         'demolition': 26,\n",
              "         'derail': 18,\n",
              "         'derailed': 12,\n",
              "         'desolate': 22,\n",
              "         'desolation': 29,\n",
              "         'destroy': 28,\n",
              "         'destroyed': 24,\n",
              "         'destruction': 28,\n",
              "         'detonate': 26,\n",
              "         'detonation': 23,\n",
              "         'devastated': 13,\n",
              "         'devastation': 9,\n",
              "         'disaster': 20,\n",
              "         'displaced': 10,\n",
              "         'drought': 7,\n",
              "         'drown': 29,\n",
              "         'drowned': 23,\n",
              "         'drowning': 25,\n",
              "         'dust%20storm': 12,\n",
              "         'earthquake': 9,\n",
              "         'electrocute': 31,\n",
              "         'electrocuted': 21,\n",
              "         'emergency': 23,\n",
              "         'emergency%20plan': 14,\n",
              "         'emergency%20services': 22,\n",
              "         'engulfed': 17,\n",
              "         'epicentre': 11,\n",
              "         'evacuate': 15,\n",
              "         'evacuated': 4,\n",
              "         'evacuation': 8,\n",
              "         'explode': 35,\n",
              "         'exploded': 24,\n",
              "         'explosion': 19,\n",
              "         'eyewitness': 20,\n",
              "         'famine': 13,\n",
              "         'fatal': 12,\n",
              "         'fatalities': 19,\n",
              "         'fatality': 27,\n",
              "         'fear': 35,\n",
              "         'fire': 27,\n",
              "         'fire%20truck': 11,\n",
              "         'first%20responders': 17,\n",
              "         'flames': 26,\n",
              "         'flattened': 29,\n",
              "         'flood': 20,\n",
              "         'flooding': 13,\n",
              "         'floods': 10,\n",
              "         'forest%20fire': 4,\n",
              "         'forest%20fires': 5,\n",
              "         'hail': 17,\n",
              "         'hailstorm': 8,\n",
              "         'harm': 37,\n",
              "         'hazard': 27,\n",
              "         'hazardous': 13,\n",
              "         'heat%20wave': 9,\n",
              "         'hellfire': 32,\n",
              "         'hijack': 17,\n",
              "         'hijacker': 16,\n",
              "         'hijacking': 17,\n",
              "         'hostage': 16,\n",
              "         'hostages': 10,\n",
              "         'hurricane': 18,\n",
              "         'injured': 11,\n",
              "         'injuries': 24,\n",
              "         'injury': 27,\n",
              "         'inundated': 29,\n",
              "         'inundation': 8,\n",
              "         'landslide': 19,\n",
              "         'lava': 29,\n",
              "         'lightning': 16,\n",
              "         'loud%20bang': 27,\n",
              "         'mass%20murder': 5,\n",
              "         'mass%20murderer': 13,\n",
              "         'massacre': 11,\n",
              "         'mayhem': 27,\n",
              "         'meltdown': 28,\n",
              "         'military': 26,\n",
              "         'mudslide': 25,\n",
              "         'natural%20disaster': 16,\n",
              "         'nuclear%20disaster': 3,\n",
              "         'nuclear%20reactor': 22,\n",
              "         'obliterate': 27,\n",
              "         'obliterated': 27,\n",
              "         'obliteration': 25,\n",
              "         'oil%20spill': 1,\n",
              "         'outbreak': 1,\n",
              "         'pandemonium': 29,\n",
              "         'panic': 34,\n",
              "         'panicking': 31,\n",
              "         'police': 16,\n",
              "         'quarantine': 29,\n",
              "         'quarantined': 23,\n",
              "         'radiation%20emergency': 4,\n",
              "         'rainstorm': 16,\n",
              "         'razed': 4,\n",
              "         'refugees': 14,\n",
              "         'rescue': 17,\n",
              "         'rescued': 18,\n",
              "         'rescuers': 3,\n",
              "         'riot': 28,\n",
              "         'rioting': 12,\n",
              "         'rubble': 18,\n",
              "         'ruin': 36,\n",
              "         'sandstorm': 9,\n",
              "         'screamed': 30,\n",
              "         'screaming': 34,\n",
              "         'screams': 30,\n",
              "         'seismic': 16,\n",
              "         'sinkhole': 12,\n",
              "         'sinking': 33,\n",
              "         'siren': 35,\n",
              "         'sirens': 22,\n",
              "         'smoke': 31,\n",
              "         'snowstorm': 16,\n",
              "         'storm': 17,\n",
              "         'stretcher': 30,\n",
              "         'structural%20failure': 12,\n",
              "         'suicide%20bomb': 3,\n",
              "         'suicide%20bomber': 1,\n",
              "         'suicide%20bombing': 1,\n",
              "         'sunk': 30,\n",
              "         'survive': 27,\n",
              "         'survived': 23,\n",
              "         'survivors': 9,\n",
              "         'terrorism': 10,\n",
              "         'terrorist': 8,\n",
              "         'threat': 9,\n",
              "         'thunder': 26,\n",
              "         'thunderstorm': 7,\n",
              "         'tornado': 19,\n",
              "         'tragedy': 14,\n",
              "         'trapped': 23,\n",
              "         'trauma': 20,\n",
              "         'traumatised': 33,\n",
              "         'trouble': 28,\n",
              "         'tsunami': 23,\n",
              "         'twister': 35,\n",
              "         'typhoon': 1,\n",
              "         'upheaval': 32,\n",
              "         'violent%20storm': 7,\n",
              "         'volcano': 9,\n",
              "         'war%20zone': 17,\n",
              "         'weapon': 25,\n",
              "         'weapons': 22,\n",
              "         'whirlwind': 25,\n",
              "         'wild%20fires': 4,\n",
              "         'wildfire': 4,\n",
              "         'windstorm': 24,\n",
              "         'wounded': 11,\n",
              "         'wounds': 23,\n",
              "         'wreck': 30,\n",
              "         'wrecked': 36})"
            ]
          },
          "metadata": {},
          "execution_count": 16
        }
      ],
      "source": [
        "Counter(train_data[train_data['target'] == 0]['keyword'].dropna())"
      ]
    },
    {
      "cell_type": "markdown",
      "metadata": {
        "id": "w9bflHrUBLwW"
      },
      "source": [
        "Oddly enough - the key words in disaster and non-disaster tweets are similar. It's possible the keywords of this dataset are considered \"sensitive\" words, in which case they are relevant in both non-disaster and disaster tweets, but depending on the context can determine the classification of the example. In one instance 'lava' can be considered a keyword, but in the context of non-disaster tweets, 'lava lamp' could be a phrase and this would be no indication of a disaster tweet.\n",
        "\n",
        "If we were building a baseline, we would use the the majority classification - in this case"
      ]
    },
    {
      "cell_type": "markdown",
      "metadata": {
        "id": "GcX0y6TGBLwW"
      },
      "source": [
        "## Building The Models"
      ]
    },
    {
      "cell_type": "markdown",
      "metadata": {
        "id": "qB8K8AI0I2ln"
      },
      "source": [
        "In order for our models to work effectively, let's first modify the data to be best used by a model of our choosing."
      ]
    },
    {
      "cell_type": "code",
      "execution_count": 17,
      "metadata": {
        "id": "uklnHTRxBLwW"
      },
      "outputs": [],
      "source": [
        "def pad_data(sequences, max_length):\n",
        "  # Keras has a convenient utility for padding a sequence.\n",
        "  # Also make sure we get a numpy array rather than an array of lists.\n",
        "  return np.array(list(\n",
        "      tf.keras.preprocessing.sequence.pad_sequences(\n",
        "          sequences, maxlen=max_length, padding='post', value=0)))"
      ]
    },
    {
      "cell_type": "code",
      "execution_count": 18,
      "metadata": {
        "id": "V61RgT3lISqc"
      },
      "outputs": [],
      "source": [
        "def get_vectorize_layer(train_X, max_vocab_size = 1000, max_tweet_length = 350):\n",
        "\n",
        "  layer = tf.keras.layers.TextVectorization(\n",
        "      max_tokens=max_vocab_size, # Maximum vocabulary size (None -> no cap)\n",
        "      standardize='lower_and_strip_punctuation', # Standarization to apply to text (None -> no standarization)\n",
        "      split='whitespace', # Values can be None (no splitting), \"whitespace\", or a Callable\n",
        "      output_mode='int',  # Values can be \"int\", \"multi_hot\", \"count\" or \"tf_idf\"\n",
        "      output_sequence_length=max_tweet_length, # Only valid in INT mode. If set, the output will have its time dimension padded or truncated to exactly output_sequence_length values\n",
        "      )\n",
        "\n",
        "  layer.adapt(train_X)\n",
        "\n",
        "  return layer"
      ]
    },
    {
      "cell_type": "markdown",
      "metadata": {
        "id": "H46RRFmMI2ln"
      },
      "source": [
        "In classic NLP problems, the idea of an RNN is very appealing since it involves the idea of sequentiality. In other words, you begin processing the data through one node, which feeds into the next node. In the instance of text, it makes a lot of sense to build on the meaning of the sentence based on the previous information passed through the RNN. For a more graphical explanation see below:\n",
        "\n",
        "![image.png](data:image/png;base64,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)\n",
        "\n",
        "Let's try this implementation. In order to best represent this input text, we can also use embeddings which will create a high dimensionality representation of the words, giving the model a better understanding of what a word *actually* means."
      ]
    },
    {
      "cell_type": "code",
      "execution_count": 19,
      "metadata": {
        "colab": {
          "base_uri": "https://localhost:8080/",
          "height": 0
        },
        "id": "PpmNVoJKI2ln",
        "outputId": "e0f3b0a9-5fc4-4f2d-e1e2-0032f3dcf4d0"
      },
      "outputs": [
        {
          "output_type": "stream",
          "name": "stdout",
          "text": [
            "Epoch 1/5\n",
            "191/191 [==============================] - 53s 244ms/step - loss: 0.6730 - accuracy: 0.5823\n",
            "Epoch 2/5\n",
            "191/191 [==============================] - 40s 212ms/step - loss: 0.5958 - accuracy: 0.6991\n",
            "Epoch 3/5\n",
            "191/191 [==============================] - 38s 201ms/step - loss: 0.6391 - accuracy: 0.6124\n",
            "Epoch 4/5\n",
            "191/191 [==============================] - 39s 204ms/step - loss: 0.6507 - accuracy: 0.5787\n",
            "Epoch 5/5\n",
            "191/191 [==============================] - 38s 200ms/step - loss: 0.6196 - accuracy: 0.6651\n"
          ]
        }
      ],
      "source": [
        "def build_RNN(v_layer, embedding_dims=100):\n",
        "    model = tf.keras.Sequential()\n",
        "\n",
        "    model.add(v_layer)\n",
        "\n",
        "    model.add(tf.keras.layers.Embedding(input_dim=1000,\n",
        "                                                    output_dim=embedding_dims))\n",
        "\n",
        "    model.add(tf.keras.layers.SimpleRNN(units=128, return_sequences=True))\n",
        "    model.add(tf.keras.layers.Dense(10, activation='relu'))\n",
        "\n",
        "    model.add(tf.keras.layers.Dense(1, activation='sigmoid'))\n",
        "\n",
        "    model.compile(loss='binary_crossentropy',\n",
        "                    optimizer='adam',\n",
        "                    metrics=['accuracy'])\n",
        "    return model\n",
        "\n",
        "trainn = np.array(train_X)[:,0]\n",
        "\n",
        "v_layer = get_vectorize_layer(trainn)\n",
        "rnn_model = build_RNN(v_layer)\n",
        "\n",
        "rnn_history = rnn_model.fit(\n",
        "  x = train_X,  # our sparse padded training data\n",
        "  y = train_Y,  # corresponding binary labels\n",
        "  epochs=5,    # number of passes through the training data\n",
        "  verbose=1     # display some progress output during training\n",
        "  )"
      ]
    },
    {
      "cell_type": "markdown",
      "metadata": {
        "id": "LT_B0H2-I2ln"
      },
      "source": [
        "The results aren't bad - but definitely not good. Let's establish our baseline as the most common label in our training data. This is actually non-disaster data, which comes out to 66%. Our model is beating this baseline by 10% - but it can most definitely be improved...but how?\n",
        "\n",
        "What if we use some more powerful RNN with some interesting technology? How about LSTM?\n",
        "![image.png](data:image/png;base64,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)\n",
        "\n",
        "With LSTM, not only do we have some \"working memory\" as was described before with RNNs, but we add some amount of information that can continue to persist without being slowly lost as you continue through your neural network. Let's see how that works."
      ]
    },
    {
      "cell_type": "code",
      "execution_count": 20,
      "metadata": {
        "id": "SD71468fBnq-"
      },
      "outputs": [],
      "source": [
        "def build_RNN(v_layer, embedding_dims=100, LSTM_units=(64, 32), max_tweet_length=350):\n",
        "  model = tf.keras.Sequential()\n",
        "\n",
        "  model.add(v_layer)\n",
        "\n",
        "  model.add(tf.keras.layers.Embedding(input_dim=1000,\n",
        "                                                output_dim=embedding_dims))\n",
        "\n",
        "  model.add(\n",
        "      tf.keras.layers.Bidirectional(tf.keras.layers.LSTM(LSTM_units[0], return_sequences=True))\n",
        "  )\n",
        "  model.add(tf.keras.layers.Bidirectional(tf.keras.layers.LSTM(LSTM_units[1])))\n",
        "\n",
        "  model.add(tf.keras.layers.Dense(10, activation='relu'))\n",
        "\n",
        "  model.add(tf.keras.layers.Dense(1, activation='sigmoid'))\n",
        "\n",
        "  model.compile(loss='binary_crossentropy',\n",
        "                optimizer='adam',\n",
        "                metrics=['accuracy'])\n",
        "\n",
        "  return model"
      ]
    },
    {
      "cell_type": "code",
      "execution_count": 21,
      "metadata": {
        "colab": {
          "base_uri": "https://localhost:8080/",
          "height": 0
        },
        "id": "IT7AMrHZGVr_",
        "outputId": "f9c19f77-cf6b-4602-cf6e-26620e559863"
      },
      "outputs": [
        {
          "output_type": "stream",
          "name": "stdout",
          "text": [
            "Epoch 1/5\n",
            "191/191 [==============================] - 20s 70ms/step - loss: 0.5516 - accuracy: 0.7089\n",
            "Epoch 2/5\n",
            "191/191 [==============================] - 9s 46ms/step - loss: 0.4155 - accuracy: 0.8184\n",
            "Epoch 3/5\n",
            "191/191 [==============================] - 9s 45ms/step - loss: 0.3806 - accuracy: 0.8374\n",
            "Epoch 4/5\n",
            "191/191 [==============================] - 8s 44ms/step - loss: 0.3464 - accuracy: 0.8580\n",
            "Epoch 5/5\n",
            "191/191 [==============================] - 8s 43ms/step - loss: 0.3160 - accuracy: 0.8680\n"
          ]
        }
      ],
      "source": [
        "trainn = np.array(train_X)[:,0]\n",
        "\n",
        "v_layer = get_vectorize_layer(trainn)\n",
        "lstm_model = build_RNN(v_layer)\n",
        "\n",
        "lstm_history = lstm_model.fit(\n",
        "  x = train_X,  # our sparse padded training data\n",
        "  y = train_Y,  # corresponding binary labels\n",
        "  epochs=5,    # number of passes through the training data\n",
        "  verbose=1     # display some progress output during training\n",
        "  )"
      ]
    },
    {
      "cell_type": "markdown",
      "metadata": {
        "id": "T_DXrsh-I2ln"
      },
      "source": [
        "Woah - we're seeing a huge improvement. Definitely better than the .58% that we previously had. Previously, we've used the embeddings as part of the built-in tensorflow layer. Now, what if we used the pre-trained GloVe embeddings which should have a more accurate and rich understanding of what each word actually represents.\n",
        "\n",
        "Following the instructions on keras website we can use the pre-trained GloVe embeddings to further improve our model:"
      ]
    },
    {
      "cell_type": "code",
      "execution_count": 22,
      "metadata": {
        "id": "RkYbYkziQ7pQ",
        "colab": {
          "base_uri": "https://localhost:8080/",
          "height": 0
        },
        "outputId": "31eae874-d32e-4133-c874-632481c46454"
      },
      "outputs": [
        {
          "output_type": "stream",
          "name": "stdout",
          "text": [
            "--2024-04-20 06:18:34--  https://downloads.cs.stanford.edu/nlp/data/glove.6B.zip\n",
            "Resolving downloads.cs.stanford.edu (downloads.cs.stanford.edu)... 171.64.64.22\n",
            "Connecting to downloads.cs.stanford.edu (downloads.cs.stanford.edu)|171.64.64.22|:443... connected.\n",
            "HTTP request sent, awaiting response... 200 OK\n",
            "Length: 862182613 (822M) [application/zip]\n",
            "Saving to: ‘glove.6B.zip’\n",
            "\n",
            "glove.6B.zip        100%[===================>] 822.24M  5.14MB/s    in 2m 39s  \n",
            "\n",
            "2024-04-20 06:21:13 (5.17 MB/s) - ‘glove.6B.zip’ saved [862182613/862182613]\n",
            "\n"
          ]
        }
      ],
      "source": [
        "!wget https://downloads.cs.stanford.edu/nlp/data/glove.6B.zip\n",
        "!unzip -q ./glove.6B.zip"
      ]
    },
    {
      "cell_type": "markdown",
      "metadata": {
        "id": "2qGm9MBrRzBo"
      },
      "source": [
        "Lets load the 200-dimensional embeddings:"
      ]
    },
    {
      "cell_type": "code",
      "execution_count": 23,
      "metadata": {
        "id": "bg84I8YIyr4k",
        "colab": {
          "base_uri": "https://localhost:8080/",
          "height": 0
        },
        "outputId": "8afc66e8-7004-4fde-8ca8-c06f97cfec2a"
      },
      "outputs": [
        {
          "output_type": "stream",
          "name": "stdout",
          "text": [
            "Found 400000 word vectors.\n"
          ]
        }
      ],
      "source": [
        "path_to_glove_file = \"glove.6B.200d.txt\"\n",
        "\n",
        "embeddings_index = {}\n",
        "with open(path_to_glove_file) as f:\n",
        "    for line in f:\n",
        "        word, coefs = line.split(maxsplit=1)\n",
        "        coefs = np.fromstring(coefs, \"f\", sep=\" \")\n",
        "        embeddings_index[word] = coefs\n",
        "\n",
        "print(\"Found %s word vectors.\" % len(embeddings_index))"
      ]
    },
    {
      "cell_type": "markdown",
      "metadata": {
        "id": "eryaqczJVLhk"
      },
      "source": [
        "Creating the embedding layer and adding the exisitng weights to it."
      ]
    },
    {
      "cell_type": "code",
      "execution_count": 24,
      "metadata": {
        "id": "mY96hSSXTTos",
        "colab": {
          "base_uri": "https://localhost:8080/",
          "height": 0
        },
        "outputId": "65e529d9-7985-4f0b-dd5e-de2fd4292390"
      },
      "outputs": [
        {
          "output_type": "stream",
          "name": "stdout",
          "text": [
            "Converted 983 words (17 misses)\n"
          ]
        }
      ],
      "source": [
        "trainn = np.array(train_X)[:,0]\n",
        "v_layer = get_vectorize_layer(trainn)\n",
        "\n",
        "voc = v_layer.get_vocabulary()\n",
        "word_index = dict(zip(voc, range(len(voc))))\n",
        "\n",
        "num_tokens = len(voc) + 2\n",
        "embedding_dim = 200\n",
        "hits = 0\n",
        "misses = 0\n",
        "\n",
        "# Prepare embedding matrix\n",
        "embedding_matrix = np.zeros((num_tokens, embedding_dim))\n",
        "for word, i in word_index.items():\n",
        "    embedding_vector = embeddings_index.get(word)\n",
        "    if embedding_vector is not None:\n",
        "        # Words not found in embedding index will be all-zeros.\n",
        "        # This includes the representation for \"padding\" and \"OOV\"\n",
        "        embedding_matrix[i] = embedding_vector\n",
        "        hits += 1\n",
        "    else:\n",
        "        misses += 1\n",
        "print(\"Converted %d words (%d misses)\" % (hits, misses))"
      ]
    },
    {
      "cell_type": "code",
      "execution_count": 25,
      "metadata": {
        "id": "iFbhx51vVTRk"
      },
      "outputs": [],
      "source": [
        "embedding_layer = tf.keras.layers.Embedding(\n",
        "    num_tokens,\n",
        "    embedding_dim,\n",
        "    trainable=False,\n",
        ")\n",
        "embedding_layer.build((1,))\n",
        "embedding_layer.set_weights([embedding_matrix])"
      ]
    },
    {
      "cell_type": "code",
      "execution_count": 26,
      "metadata": {
        "id": "K9HD0seEI2lo"
      },
      "outputs": [],
      "source": [
        "def build_RNN(v_layer, embedding_dims=100, LSTM_units=[64, 32], max_tweet_length=350, custom_embeddings_layer=None):\n",
        "  model = tf.keras.Sequential()\n",
        "\n",
        "  model.add(v_layer)\n",
        "\n",
        "  if not custom_embeddings_layer:\n",
        "    model.add(tf.keras.layers.Embedding(input_dim=1000,\n",
        "                                                output_dim=embedding_dims))\n",
        "  else:\n",
        "    model.add(custom_embeddings_layer)\n",
        "\n",
        "  model.add(\n",
        "      tf.keras.layers.Bidirectional(tf.keras.layers.LSTM(LSTM_units[0], return_sequences=True))\n",
        "  )\n",
        "  model.add(tf.keras.layers.Bidirectional(tf.keras.layers.LSTM(LSTM_units[1])))\n",
        "\n",
        "  model.add(tf.keras.layers.Dense(10, activation='relu'))\n",
        "\n",
        "  model.add(tf.keras.layers.Dense(1, activation='sigmoid'))\n",
        "\n",
        "  model.compile(loss='binary_crossentropy',\n",
        "                optimizer='adam',\n",
        "                metrics=['accuracy'])\n",
        "\n",
        "  return model"
      ]
    },
    {
      "cell_type": "code",
      "execution_count": 27,
      "metadata": {
        "id": "FjV0bGSpVo2C",
        "colab": {
          "base_uri": "https://localhost:8080/",
          "height": 0
        },
        "outputId": "84c8ff0b-c5e6-43ca-8691-591c15b6df71"
      },
      "outputs": [
        {
          "output_type": "stream",
          "name": "stdout",
          "text": [
            "Epoch 1/5\n",
            "191/191 [==============================] - 14s 41ms/step - loss: 0.5100 - accuracy: 0.7544\n",
            "Epoch 2/5\n",
            "191/191 [==============================] - 8s 44ms/step - loss: 0.4456 - accuracy: 0.7966\n",
            "Epoch 3/5\n",
            "191/191 [==============================] - 8s 44ms/step - loss: 0.4255 - accuracy: 0.8074\n",
            "Epoch 4/5\n",
            "191/191 [==============================] - 9s 45ms/step - loss: 0.4056 - accuracy: 0.8209\n",
            "Epoch 5/5\n",
            "191/191 [==============================] - 9s 46ms/step - loss: 0.3904 - accuracy: 0.8284\n"
          ]
        }
      ],
      "source": [
        "custom_embedding_model = build_RNN(v_layer, custom_embeddings_layer=embedding_layer)\n",
        "\n",
        "custom_embedding_history = custom_embedding_model.fit(\n",
        "  x = train_X,  # our sparse padded training data\n",
        "  y = train_Y,  # corresponding binary labels\n",
        "  epochs=5,    # number of passes through the training data\n",
        "  verbose=1     # display some progress output during training\n",
        "  )"
      ]
    },
    {
      "cell_type": "markdown",
      "metadata": {
        "id": "TulOYN87I2lo"
      },
      "source": [
        "## Results & Error Analysis"
      ]
    },
    {
      "cell_type": "markdown",
      "metadata": {
        "id": "aihUKfXNI2lo"
      },
      "source": [
        "Let's look into how the different models did versus the validation data."
      ]
    },
    {
      "cell_type": "code",
      "execution_count": 48,
      "metadata": {
        "colab": {
          "base_uri": "https://localhost:8080/",
          "height": 922
        },
        "id": "1RgqrfEgI2lo",
        "outputId": "76f5238a-c84e-4c2d-e465-62b9d710648f"
      },
      "outputs": [
        {
          "output_type": "stream",
          "name": "stdout",
          "text": [
            "48/48 [==============================] - 1s 20ms/step\n"
          ]
        },
        {
          "output_type": "display_data",
          "data": {
            "text/plain": [
              "<Figure size 640x480 with 2 Axes>"
            ],
            "image/png": "[encoded data removed]"
          },
          "metadata": {}
        },
        {
          "output_type": "stream",
          "name": "stdout",
          "text": [
            "LSTM Model has accuracy of: 0.7839789888378201\n",
            "48/48 [==============================] - 2s 18ms/step\n"
          ]
        },
        {
          "output_type": "display_data",
          "data": {
            "text/plain": [
              "<Figure size 640x480 with 2 Axes>"
            ],
            "image/png": "[encoded data removed]"
          },
          "metadata": {}
        },
        {
          "output_type": "stream",
          "name": "stdout",
          "text": [
            "Custom Embedding LSTM Model has accuracy of: 0.7964543663821405\n"
          ]
        }
      ],
      "source": [
        "from sklearn.metrics import confusion_matrix\n",
        "\n",
        "def test_model(model_name, model, val_data, val_labels):\n",
        "    predictions = model.predict(val_data)\n",
        "    predictions = predictions.round().astype(int)\n",
        "    matrix = confusion_matrix(val_labels, predictions)\n",
        "    plt.imshow(matrix, cmap=plt.cm.Blues)\n",
        "    plt.colorbar()\n",
        "    plt.show()\n",
        "    accuracy = (predictions == val_labels).sum() / len(val_labels)\n",
        "    print(f\"{model_name} has accuracy of: {accuracy}\")\n",
        "    return predictions\n",
        "\n",
        "val_input = np.array(val_X)[:,0]\n",
        "lstm_predictions = test_model(\"LSTM Model\", lstm_model, val_X, val_Y)\n",
        "custom_embedding_predictions = test_model(\"Custom Embedding LSTM Model\", custom_embedding_model, val_input, val_Y)"
      ]
    },
    {
      "cell_type": "code",
      "execution_count": 49,
      "metadata": {
        "colab": {
          "base_uri": "https://localhost:8080/",
          "height": 121
        },
        "id": "6CBkgOH5I2lp",
        "outputId": "6b5bc3fd-3692-455c-95c9-192385f90f36"
      },
      "outputs": [
        {
          "output_type": "display_data",
          "data": {
            "text/plain": [
              "array(['Intact+MH370+Part+Lifts+Odds+Plane+Glided+Not+Crashed+Into+Sea http://t.co/MjTN3qbgOS via @YahooFinance#Hope for answers.',\n",
              "       \"@MartynWaites It's a well-known fact that the St Valentine's Day massacre could have been avoided with some 'oompah-period' Tom Waits.\",\n",
              "       'Hurricane 30STM quem lembra',\n",
              "       \"Came across this fire video not mine..enjoy..Babes way of saying hi to me while he's in the fire truck??\\n#fireman #\\x89Û_ http://t.co/V5gTUnwohy\",\n",
              "       '#USGS M 1.2 - 23km S of Twentynine Palms California: Time2015-08-05 23:54:09 UTC2015-08-05 16:54:09 -07:0... http://t.co/kF0QYBKZOL #SM'],\n",
              "      dtype=object)"
            ]
          },
          "metadata": {}
        }
      ],
      "source": [
        "display(val_X[val_Y != lstm_predictions][:5])"
      ]
    },
    {
      "cell_type": "markdown",
      "metadata": {
        "id": "WAD2uGwVI2lp"
      },
      "source": [
        "Above are examples where the model was confused and wrongly predicted. It looks like from some of these examples, certain words probably tricked the model into a wrongful prediction. Take the example of *`Came across this fire video not mine..enjoy..Babes way of saying hi to me while he's in the fire truck??\\n#fireman #\\x89Û_ http://t.co/V5gTUnwohy`*. The word fire truck is probably making the model think that there is some kind of disaster, but instead the tweet is talking about a *good* video. One possible area of improvement here would be using some kind of attention mechamism, which would be able to differentiate the meaning of fire based on the other words in the sentence"
      ]
    },
    {
      "cell_type": "code",
      "source": [
        "test = pd.read_csv('./test.csv')\n",
        "test_text = np.array(test['text'])\n",
        "test_results = custom_embedding_model.predict(test_text)\n",
        "test_results = test_results.round().astype(int)\n",
        "\n",
        "def output_kaggle_test(test_data, preds, filename='preds.csv'):\n",
        "  kaggle_df = test_data[['id']].copy()\n",
        "  kaggle_df['target'] = preds\n",
        "  kaggle_df.to_csv(filename, index=False)\n",
        "  display(kaggle_df)\n",
        "\n",
        "output_kaggle_test(test, test_results)"
      ],
      "metadata": {
        "colab": {
          "base_uri": "https://localhost:8080/",
          "height": 441
        },
        "id": "wKtIul17NyxI",
        "outputId": "bc99793f-7e06-414c-cf8b-fdbb67aedde9"
      },
      "execution_count": 58,
      "outputs": [
        {
          "output_type": "stream",
          "name": "stdout",
          "text": [
            "102/102 [==============================] - 2s 22ms/step\n"
          ]
        },
        {
          "output_type": "display_data",
          "data": {
            "text/plain": [
              "         id  target\n",
              "0         0       1\n",
              "1         2       0\n",
              "2         3       1\n",
              "3         9       0\n",
              "4        11       1\n",
              "...     ...     ...\n",
              "3258  10861       1\n",
              "3259  10865       1\n",
              "3260  10868       1\n",
              "3261  10874       1\n",
              "3262  10875       0\n",
              "\n",
              "[3263 rows x 2 columns]"
            ],
            "text/html": [
              "\n",
              "  <div id=\"df-2356b103-7d90-42d0-8bb8-f0ce4f46e9ea\" class=\"colab-df-container\">\n",
              "    <div>\n",
              "<style scoped>\n",
              "    .dataframe tbody tr th:only-of-type {\n",
              "        vertical-align: middle;\n",
              "    }\n",
              "\n",
              "    .dataframe tbody tr th {\n",
              "        vertical-align: top;\n",
              "    }\n",
              "\n",
              "    .dataframe thead th {\n",
              "        text-align: right;\n",
              "    }\n",
              "</style>\n",
              "<table border=\"1\" class=\"dataframe\">\n",
              "  <thead>\n",
              "    <tr style=\"text-align: right;\">\n",
              "      <th></th>\n",
              "      <th>id</th>\n",
              "      <th>target</th>\n",
              "    </tr>\n",
              "  </thead>\n",
              "  <tbody>\n",
              "    <tr>\n",
              "      <th>0</th>\n",
              "      <td>0</td>\n",
              "      <td>1</td>\n",
              "    </tr>\n",
              "    <tr>\n",
              "      <th>1</th>\n",
              "      <td>2</td>\n",
              "      <td>0</td>\n",
              "    </tr>\n",
              "    <tr>\n",
              "      <th>2</th>\n",
              "      <td>3</td>\n",
              "      <td>1</td>\n",
              "    </tr>\n",
              "    <tr>\n",
              "      <th>3</th>\n",
              "      <td>9</td>\n",
              "      <td>0</td>\n",
              "    </tr>\n",
              "    <tr>\n",
              "      <th>4</th>\n",
              "      <td>11</td>\n",
              "      <td>1</td>\n",
              "    </tr>\n",
              "    <tr>\n",
              "      <th>...</th>\n",
              "      <td>...</td>\n",
              "      <td>...</td>\n",
              "    </tr>\n",
              "    <tr>\n",
              "      <th>3258</th>\n",
              "      <td>10861</td>\n",
              "      <td>1</td>\n",
              "    </tr>\n",
              "    <tr>\n",
              "      <th>3259</th>\n",
              "      <td>10865</td>\n",
              "      <td>1</td>\n",
              "    </tr>\n",
              "    <tr>\n",
              "      <th>3260</th>\n",
              "      <td>10868</td>\n",
              "      <td>1</td>\n",
              "    </tr>\n",
              "    <tr>\n",
              "      <th>3261</th>\n",
              "      <td>10874</td>\n",
              "      <td>1</td>\n",
              "    </tr>\n",
              "    <tr>\n",
              "      <th>3262</th>\n",
              "      <td>10875</td>\n",
              "      <td>0</td>\n",
              "    </tr>\n",
              "  </tbody>\n",
              "</table>\n",
              "<p>3263 rows × 2 columns</p>\n",
              "</div>\n",
              "    <div class=\"colab-df-buttons\">\n",
              "\n",
              "  <div class=\"colab-df-container\">\n",
              "    <button class=\"colab-df-convert\" onclick=\"convertToInteractive('df-2356b103-7d90-42d0-8bb8-f0ce4f46e9ea')\"\n",
              "            title=\"Convert this dataframe to an interactive table.\"\n",
              "            style=\"display:none;\">\n",
              "\n",
              "  <svg xmlns=\"http://www.w3.org/2000/svg\" height=\"24px\" viewBox=\"0 -960 960 960\">\n",
              "    <path d=\"M120-120v-720h720v720H120Zm60-500h600v-160H180v160Zm220 220h160v-160H400v160Zm0 220h160v-160H400v160ZM180-400h160v-160H180v160Zm440 0h160v-160H620v160ZM180-180h160v-160H180v160Zm440 0h160v-160H620v160Z\"/>\n",
              "  </svg>\n",
              "    </button>\n",
              "\n",
              "  <style>\n",
              "    .colab-df-container {\n",
              "      display:flex;\n",
              "      gap: 12px;\n",
              "    }\n",
              "\n",
              "    .colab-df-convert {\n",
              "      background-color: #E8F0FE;\n",
              "      border: none;\n",
              "      border-radius: 50%;\n",
              "      cursor: pointer;\n",
              "      display: none;\n",
              "      fill: #1967D2;\n",
              "      height: 32px;\n",
              "      padding: 0 0 0 0;\n",
              "      width: 32px;\n",
              "    }\n",
              "\n",
              "    .colab-df-convert:hover {\n",
              "      background-color: #E2EBFA;\n",
              "      box-shadow: 0px 1px 2px rgba(60, 64, 67, 0.3), 0px 1px 3px 1px rgba(60, 64, 67, 0.15);\n",
              "      fill: #174EA6;\n",
              "    }\n",
              "\n",
              "    .colab-df-buttons div {\n",
              "      margin-bottom: 4px;\n",
              "    }\n",
              "\n",
              "    [theme=dark] .colab-df-convert {\n",
              "      background-color: #3B4455;\n",
              "      fill: #D2E3FC;\n",
              "    }\n",
              "\n",
              "    [theme=dark] .colab-df-convert:hover {\n",
              "      background-color: #434B5C;\n",
              "      box-shadow: 0px 1px 3px 1px rgba(0, 0, 0, 0.15);\n",
              "      filter: drop-shadow(0px 1px 2px rgba(0, 0, 0, 0.3));\n",
              "      fill: #FFFFFF;\n",
              "    }\n",
              "  </style>\n",
              "\n",
              "    <script>\n",
              "      const buttonEl =\n",
              "        document.querySelector('#df-2356b103-7d90-42d0-8bb8-f0ce4f46e9ea button.colab-df-convert');\n",
              "      buttonEl.style.display =\n",
              "        google.colab.kernel.accessAllowed ? 'block' : 'none';\n",
              "\n",
              "      async function convertToInteractive(key) {\n",
              "        const element = document.querySelector('#df-2356b103-7d90-42d0-8bb8-f0ce4f46e9ea');\n",
              "        const dataTable =\n",
              "          await google.colab.kernel.invokeFunction('convertToInteractive',\n",
              "                                                    [key], {});\n",
              "        if (!dataTable) return;\n",
              "\n",
              "        const docLinkHtml = 'Like what you see? Visit the ' +\n",
              "          '<a target=\"_blank\" href=https://colab.research.google.com/notebooks/data_table.ipynb>data table notebook</a>'\n",
              "          + ' to learn more about interactive tables.';\n",
              "        element.innerHTML = '';\n",
              "        dataTable['output_type'] = 'display_data';\n",
              "        await google.colab.output.renderOutput(dataTable, element);\n",
              "        const docLink = document.createElement('div');\n",
              "        docLink.innerHTML = docLinkHtml;\n",
              "        element.appendChild(docLink);\n",
              "      }\n",
              "    </script>\n",
              "  </div>\n",
              "\n",
              "\n",
              "<div id=\"df-7247f5ab-e41f-47b5-8a72-bb969c1a7036\">\n",
              "  <button class=\"colab-df-quickchart\" onclick=\"quickchart('df-7247f5ab-e41f-47b5-8a72-bb969c1a7036')\"\n",
              "            title=\"Suggest charts\"\n",
              "            style=\"display:none;\">\n",
              "\n",
              "<svg xmlns=\"http://www.w3.org/2000/svg\" height=\"24px\"viewBox=\"0 0 24 24\"\n",
              "     width=\"24px\">\n",
              "    <g>\n",
              "        <path d=\"M19 3H5c-1.1 0-2 .9-2 2v14c0 1.1.9 2 2 2h14c1.1 0 2-.9 2-2V5c0-1.1-.9-2-2-2zM9 17H7v-7h2v7zm4 0h-2V7h2v10zm4 0h-2v-4h2v4z\"/>\n",
              "    </g>\n",
              "</svg>\n",
              "  </button>\n",
              "\n",
              "<style>\n",
              "  .colab-df-quickchart {\n",
              "      --bg-color: #E8F0FE;\n",
              "      --fill-color: #1967D2;\n",
              "      --hover-bg-color: #E2EBFA;\n",
              "      --hover-fill-color: #174EA6;\n",
              "      --disabled-fill-color: #AAA;\n",
              "      --disabled-bg-color: #DDD;\n",
              "  }\n",
              "\n",
              "  [theme=dark] .colab-df-quickchart {\n",
              "      --bg-color: #3B4455;\n",
              "      --fill-color: #D2E3FC;\n",
              "      --hover-bg-color: #434B5C;\n",
              "      --hover-fill-color: #FFFFFF;\n",
              "      --disabled-bg-color: #3B4455;\n",
              "      --disabled-fill-color: #666;\n",
              "  }\n",
              "\n",
              "  .colab-df-quickchart {\n",
              "    background-color: var(--bg-color);\n",
              "    border: none;\n",
              "    border-radius: 50%;\n",
              "    cursor: pointer;\n",
              "    display: none;\n",
              "    fill: var(--fill-color);\n",
              "    height: 32px;\n",
              "    padding: 0;\n",
              "    width: 32px;\n",
              "  }\n",
              "\n",
              "  .colab-df-quickchart:hover {\n",
              "    background-color: var(--hover-bg-color);\n",
              "    box-shadow: 0 1px 2px rgba(60, 64, 67, 0.3), 0 1px 3px 1px rgba(60, 64, 67, 0.15);\n",
              "    fill: var(--button-hover-fill-color);\n",
              "  }\n",
              "\n",
              "  .colab-df-quickchart-complete:disabled,\n",
              "  .colab-df-quickchart-complete:disabled:hover {\n",
              "    background-color: var(--disabled-bg-color);\n",
              "    fill: var(--disabled-fill-color);\n",
              "    box-shadow: none;\n",
              "  }\n",
              "\n",
              "  .colab-df-spinner {\n",
              "    border: 2px solid var(--fill-color);\n",
              "    border-color: transparent;\n",
              "    border-bottom-color: var(--fill-color);\n",
              "    animation:\n",
              "      spin 1s steps(1) infinite;\n",
              "  }\n",
              "\n",
              "  @keyframes spin {\n",
              "    0% {\n",
              "      border-color: transparent;\n",
              "      border-bottom-color: var(--fill-color);\n",
              "      border-left-color: var(--fill-color);\n",
              "    }\n",
              "    20% {\n",
              "      border-color: transparent;\n",
              "      border-left-color: var(--fill-color);\n",
              "      border-top-color: var(--fill-color);\n",
              "    }\n",
              "    30% {\n",
              "      border-color: transparent;\n",
              "      border-left-color: var(--fill-color);\n",
              "      border-top-color: var(--fill-color);\n",
              "      border-right-color: var(--fill-color);\n",
              "    }\n",
              "    40% {\n",
              "      border-color: transparent;\n",
              "      border-right-color: var(--fill-color);\n",
              "      border-top-color: var(--fill-color);\n",
              "    }\n",
              "    60% {\n",
              "      border-color: transparent;\n",
              "      border-right-color: var(--fill-color);\n",
              "    }\n",
              "    80% {\n",
              "      border-color: transparent;\n",
              "      border-right-color: var(--fill-color);\n",
              "      border-bottom-color: var(--fill-color);\n",
              "    }\n",
              "    90% {\n",
              "      border-color: transparent;\n",
              "      border-bottom-color: var(--fill-color);\n",
              "    }\n",
              "  }\n",
              "</style>\n",
              "\n",
              "  <script>\n",
              "    async function quickchart(key) {\n",
              "      const quickchartButtonEl =\n",
              "        document.querySelector('#' + key + ' button');\n",
              "      quickchartButtonEl.disabled = true;  // To prevent multiple clicks.\n",
              "      quickchartButtonEl.classList.add('colab-df-spinner');\n",
              "      try {\n",
              "        const charts = await google.colab.kernel.invokeFunction(\n",
              "            'suggestCharts', [key], {});\n",
              "      } catch (error) {\n",
              "        console.error('Error during call to suggestCharts:', error);\n",
              "      }\n",
              "      quickchartButtonEl.classList.remove('colab-df-spinner');\n",
              "      quickchartButtonEl.classList.add('colab-df-quickchart-complete');\n",
              "    }\n",
              "    (() => {\n",
              "      let quickchartButtonEl =\n",
              "        document.querySelector('#df-7247f5ab-e41f-47b5-8a72-bb969c1a7036 button');\n",
              "      quickchartButtonEl.style.display =\n",
              "        google.colab.kernel.accessAllowed ? 'block' : 'none';\n",
              "    })();\n",
              "  </script>\n",
              "</div>\n",
              "\n",
              "    </div>\n",
              "  </div>\n"
            ],
            "application/vnd.google.colaboratory.intrinsic+json": {
              "type": "dataframe",
              "summary": "{\n  \"name\": \"output_kaggle_test(test, test_results)\",\n  \"rows\": 3263,\n  \"fields\": [\n    {\n      \"column\": \"id\",\n      \"properties\": {\n        \"dtype\": \"number\",\n        \"std\": 3146,\n        \"min\": 0,\n        \"max\": 10875,\n        \"num_unique_values\": 3263,\n        \"samples\": [\n          8051,\n          425,\n          1330\n        ],\n        \"semantic_type\": \"\",\n        \"description\": \"\"\n      }\n    },\n    {\n      \"column\": \"target\",\n      \"properties\": {\n        \"dtype\": \"number\",\n        \"std\": 0,\n        \"min\": 0,\n        \"max\": 1,\n        \"num_unique_values\": 2,\n        \"samples\": [\n          0,\n          1\n        ],\n        \"semantic_type\": \"\",\n        \"description\": \"\"\n      }\n    }\n  ]\n}"
            }
          },
          "metadata": {}
        }
      ]
    },
    {
      "cell_type": "markdown",
      "source": [
        "![image.png](data:image/png;base64,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)"
      ],
      "metadata": {
        "id": "Aj-_cUBzPfxF"
      }
    },
    {
      "cell_type": "markdown",
      "metadata": {
        "id": "cy2Mll9GI2lp"
      },
      "source": [
        "## Conclusion\n",
        "\n",
        "Our project focused on using different archictures for NLP and classifying whether or not a tweet belong to a disaster or not. In trying these different architctures that we didn't learn in class - like RNNs and LSTM for RNNs - we learned a lot about how just small changes can have a significant impact on the result. We started with preparing the dataset through padding and vectorization. After this, by combining an embedding layer, we were confident in the representation of the text and only had to worry about the architecture of the model. Running three experiments - a simple RNN, LSTM RNNs, and LSTM RNNs w/ custom embeddings, we got to learn in more depth how to slowly improve the model as time went on.\n",
        "\n",
        "Despite this work, we were able to beat our baseline, but not get exceptional results. Looking into our mistakes, we see the model got around a 79% validation accuracy, but a training accuracy of 85%. This suggest some kind of overfitting on the training data, which could be improved with less epochs or building smaller models. We also see through our confusion matrix that we get more false positive errors compared to false negatives. In this case, along with the other solutions suggested, we can adjust the threshold for disaster and non-disaster classification from .5 to maybe a slightly higher value. This dataset specifically is interesting since a lot of tweets are classified as disaster related when they use certain words - like lava or fire. If we also implemented a model that used an attention mechanism, we could better understand the meaning of these words based on their context, possibly getting better results."
      ]
    },
    {
      "cell_type": "code",
      "source": [],
      "metadata": {
        "id": "2MXBawXORDN2"
      },
      "execution_count": null,
      "outputs": []
    }
  ],
  "metadata": {
    "accelerator": "GPU",
    "colab": {
      "gpuType": "V100",
      "provenance": [],
      "toc_visible": true,
      "machine_shape": "hm"
    },
    "kernelspec": {
      "display_name": "Python 3",
      "name": "python3"
    },
    "language_info": {
      "codemirror_mode": {
        "name": "ipython",
        "version": 3
      },
      "file_extension": ".py",
      "mimetype": "text/x-python",
      "name": "python",
      "nbconvert_exporter": "python",
      "pygments_lexer": "ipython3",
      "version": "3.11.6"
    }
  },
  "nbformat": 4,
  "nbformat_minor": 0
}