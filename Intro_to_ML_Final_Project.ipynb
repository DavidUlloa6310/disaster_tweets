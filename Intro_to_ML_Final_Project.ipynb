{
  "cells": [
    {
      "cell_type": "markdown",
      "metadata": {
        "id": "jx0b5_tAKdzX"
      },
      "source": [
        "# Final Project - Disaster Tweets Analysis\n",
        "## Part 1 - Setup and Preprocessing"
      ]
    },
    {
      "cell_type": "code",
      "execution_count": 1,
      "metadata": {
        "colab": {
          "base_uri": "https://localhost:8080/"
        },
        "id": "63fVAQhKBLwN",
        "outputId": "3d737be4-2318-48a8-87cb-6a28935dd359"
      },
      "outputs": [
        {
          "output_type": "stream",
          "name": "stdout",
          "text": [
            "Requirement already satisfied: pandas in /usr/local/lib/python3.10/dist-packages (2.0.3)\n",
            "Requirement already satisfied: numpy in /usr/local/lib/python3.10/dist-packages (1.25.2)\n",
            "Requirement already satisfied: matplotlib in /usr/local/lib/python3.10/dist-packages (3.7.1)\n",
            "Requirement already satisfied: tensorflow in /usr/local/lib/python3.10/dist-packages (2.15.0)\n",
            "Requirement already satisfied: setuptools in /usr/local/lib/python3.10/dist-packages (67.7.2)\n",
            "Requirement already satisfied: python-dateutil>=2.8.2 in /usr/local/lib/python3.10/dist-packages (from pandas) (2.9.0.post0)\n",
            "Requirement already satisfied: pytz>=2020.1 in /usr/local/lib/python3.10/dist-packages (from pandas) (2024.1)\n",
            "Requirement already satisfied: tzdata>=2022.1 in /usr/local/lib/python3.10/dist-packages (from pandas) (2024.1)\n",
            "Requirement already satisfied: contourpy>=1.0.1 in /usr/local/lib/python3.10/dist-packages (from matplotlib) (1.2.1)\n",
            "Requirement already satisfied: cycler>=0.10 in /usr/local/lib/python3.10/dist-packages (from matplotlib) (0.12.1)\n",
            "Requirement already satisfied: fonttools>=4.22.0 in /usr/local/lib/python3.10/dist-packages (from matplotlib) (4.51.0)\n",
            "Requirement already satisfied: kiwisolver>=1.0.1 in /usr/local/lib/python3.10/dist-packages (from matplotlib) (1.4.5)\n",
            "Requirement already satisfied: packaging>=20.0 in /usr/local/lib/python3.10/dist-packages (from matplotlib) (24.0)\n",
            "Requirement already satisfied: pillow>=6.2.0 in /usr/local/lib/python3.10/dist-packages (from matplotlib) (10.3.0)\n",
            "Requirement already satisfied: pyparsing>=2.3.1 in /usr/local/lib/python3.10/dist-packages (from matplotlib) (3.1.2)\n",
            "Requirement already satisfied: absl-py>=1.0.0 in /usr/local/lib/python3.10/dist-packages (from tensorflow) (1.4.0)\n",
            "Requirement already satisfied: astunparse>=1.6.0 in /usr/local/lib/python3.10/dist-packages (from tensorflow) (1.6.3)\n",
            "Requirement already satisfied: flatbuffers>=23.5.26 in /usr/local/lib/python3.10/dist-packages (from tensorflow) (24.3.25)\n",
            "Requirement already satisfied: gast!=0.5.0,!=0.5.1,!=0.5.2,>=0.2.1 in /usr/local/lib/python3.10/dist-packages (from tensorflow) (0.5.4)\n",
            "Requirement already satisfied: google-pasta>=0.1.1 in /usr/local/lib/python3.10/dist-packages (from tensorflow) (0.2.0)\n",
            "Requirement already satisfied: h5py>=2.9.0 in /usr/local/lib/python3.10/dist-packages (from tensorflow) (3.11.0)\n",
            "Requirement already satisfied: libclang>=13.0.0 in /usr/local/lib/python3.10/dist-packages (from tensorflow) (18.1.1)\n",
            "Requirement already satisfied: ml-dtypes~=0.2.0 in /usr/local/lib/python3.10/dist-packages (from tensorflow) (0.2.0)\n",
            "Requirement already satisfied: opt-einsum>=2.3.2 in /usr/local/lib/python3.10/dist-packages (from tensorflow) (3.3.0)\n",
            "Requirement already satisfied: protobuf!=4.21.0,!=4.21.1,!=4.21.2,!=4.21.3,!=4.21.4,!=4.21.5,<5.0.0dev,>=3.20.3 in /usr/local/lib/python3.10/dist-packages (from tensorflow) (3.20.3)\n",
            "Requirement already satisfied: six>=1.12.0 in /usr/local/lib/python3.10/dist-packages (from tensorflow) (1.16.0)\n",
            "Requirement already satisfied: termcolor>=1.1.0 in /usr/local/lib/python3.10/dist-packages (from tensorflow) (2.4.0)\n",
            "Requirement already satisfied: typing-extensions>=3.6.6 in /usr/local/lib/python3.10/dist-packages (from tensorflow) (4.11.0)\n",
            "Requirement already satisfied: wrapt<1.15,>=1.11.0 in /usr/local/lib/python3.10/dist-packages (from tensorflow) (1.14.1)\n",
            "Requirement already satisfied: tensorflow-io-gcs-filesystem>=0.23.1 in /usr/local/lib/python3.10/dist-packages (from tensorflow) (0.36.0)\n",
            "Requirement already satisfied: grpcio<2.0,>=1.24.3 in /usr/local/lib/python3.10/dist-packages (from tensorflow) (1.62.1)\n",
            "Requirement already satisfied: tensorboard<2.16,>=2.15 in /usr/local/lib/python3.10/dist-packages (from tensorflow) (2.15.2)\n",
            "Requirement already satisfied: tensorflow-estimator<2.16,>=2.15.0 in /usr/local/lib/python3.10/dist-packages (from tensorflow) (2.15.0)\n",
            "Requirement already satisfied: keras<2.16,>=2.15.0 in /usr/local/lib/python3.10/dist-packages (from tensorflow) (2.15.0)\n",
            "Requirement already satisfied: wheel<1.0,>=0.23.0 in /usr/local/lib/python3.10/dist-packages (from astunparse>=1.6.0->tensorflow) (0.43.0)\n",
            "Requirement already satisfied: google-auth<3,>=1.6.3 in /usr/local/lib/python3.10/dist-packages (from tensorboard<2.16,>=2.15->tensorflow) (2.27.0)\n",
            "Requirement already satisfied: google-auth-oauthlib<2,>=0.5 in /usr/local/lib/python3.10/dist-packages (from tensorboard<2.16,>=2.15->tensorflow) (1.2.0)\n",
            "Requirement already satisfied: markdown>=2.6.8 in /usr/local/lib/python3.10/dist-packages (from tensorboard<2.16,>=2.15->tensorflow) (3.6)\n",
            "Requirement already satisfied: requests<3,>=2.21.0 in /usr/local/lib/python3.10/dist-packages (from tensorboard<2.16,>=2.15->tensorflow) (2.31.0)\n",
            "Requirement already satisfied: tensorboard-data-server<0.8.0,>=0.7.0 in /usr/local/lib/python3.10/dist-packages (from tensorboard<2.16,>=2.15->tensorflow) (0.7.2)\n",
            "Requirement already satisfied: werkzeug>=1.0.1 in /usr/local/lib/python3.10/dist-packages (from tensorboard<2.16,>=2.15->tensorflow) (3.0.2)\n",
            "Requirement already satisfied: cachetools<6.0,>=2.0.0 in /usr/local/lib/python3.10/dist-packages (from google-auth<3,>=1.6.3->tensorboard<2.16,>=2.15->tensorflow) (5.3.3)\n",
            "Requirement already satisfied: pyasn1-modules>=0.2.1 in /usr/local/lib/python3.10/dist-packages (from google-auth<3,>=1.6.3->tensorboard<2.16,>=2.15->tensorflow) (0.4.0)\n",
            "Requirement already satisfied: rsa<5,>=3.1.4 in /usr/local/lib/python3.10/dist-packages (from google-auth<3,>=1.6.3->tensorboard<2.16,>=2.15->tensorflow) (4.9)\n",
            "Requirement already satisfied: requests-oauthlib>=0.7.0 in /usr/local/lib/python3.10/dist-packages (from google-auth-oauthlib<2,>=0.5->tensorboard<2.16,>=2.15->tensorflow) (2.0.0)\n",
            "Requirement already satisfied: charset-normalizer<4,>=2 in /usr/local/lib/python3.10/dist-packages (from requests<3,>=2.21.0->tensorboard<2.16,>=2.15->tensorflow) (3.3.2)\n",
            "Requirement already satisfied: idna<4,>=2.5 in /usr/local/lib/python3.10/dist-packages (from requests<3,>=2.21.0->tensorboard<2.16,>=2.15->tensorflow) (3.7)\n",
            "Requirement already satisfied: urllib3<3,>=1.21.1 in /usr/local/lib/python3.10/dist-packages (from requests<3,>=2.21.0->tensorboard<2.16,>=2.15->tensorflow) (2.0.7)\n",
            "Requirement already satisfied: certifi>=2017.4.17 in /usr/local/lib/python3.10/dist-packages (from requests<3,>=2.21.0->tensorboard<2.16,>=2.15->tensorflow) (2024.2.2)\n",
            "Requirement already satisfied: MarkupSafe>=2.1.1 in /usr/local/lib/python3.10/dist-packages (from werkzeug>=1.0.1->tensorboard<2.16,>=2.15->tensorflow) (2.1.5)\n",
            "Requirement already satisfied: pyasn1<0.7.0,>=0.4.6 in /usr/local/lib/python3.10/dist-packages (from pyasn1-modules>=0.2.1->google-auth<3,>=1.6.3->tensorboard<2.16,>=2.15->tensorflow) (0.6.0)\n",
            "Requirement already satisfied: oauthlib>=3.0.0 in /usr/local/lib/python3.10/dist-packages (from requests-oauthlib>=0.7.0->google-auth-oauthlib<2,>=0.5->tensorboard<2.16,>=2.15->tensorflow) (3.2.2)\n"
          ]
        }
      ],
      "source": [
        "!pip install pandas numpy matplotlib tensorflow setuptools"
      ]
    },
    {
      "cell_type": "code",
      "execution_count": 2,
      "metadata": {
        "id": "YiJq2iXmMd07"
      },
      "outputs": [],
      "source": [
        "import tensorflow as tf\n",
        "import pandas as pd\n",
        "import numpy as np\n",
        "import matplotlib.pyplot as plt"
      ]
    },
    {
      "cell_type": "code",
      "execution_count": 3,
      "metadata": {
        "colab": {
          "base_uri": "https://localhost:8080/"
        },
        "id": "voSFUYgSBLwQ",
        "outputId": "40f2abfd-4462-44f2-d873-568d0f337ab7"
      },
      "outputs": [
        {
          "output_type": "stream",
          "name": "stdout",
          "text": [
            "--2024-04-19 02:40:21--  https://raw.githubusercontent.com/DavidUlloa6310/disaster_tweets/main/test.csv\n",
            "Resolving raw.githubusercontent.com (raw.githubusercontent.com)... 185.199.108.133, 185.199.109.133, 185.199.110.133, ...\n",
            "Connecting to raw.githubusercontent.com (raw.githubusercontent.com)|185.199.108.133|:443... connected.\n",
            "HTTP request sent, awaiting response... 200 OK\n",
            "Length: 420783 (411K) [text/plain]\n",
            "Saving to: ‘test.csv’\n",
            "\n",
            "\rtest.csv              0%[                    ]       0  --.-KB/s               \rtest.csv            100%[===================>] 410.92K  --.-KB/s    in 0.03s   \n",
            "\n",
            "2024-04-19 02:40:21 (11.9 MB/s) - ‘test.csv’ saved [420783/420783]\n",
            "\n",
            "--2024-04-19 02:40:22--  https://raw.githubusercontent.com/DavidUlloa6310/disaster_tweets/main/train.csv\n",
            "Resolving raw.githubusercontent.com (raw.githubusercontent.com)... 185.199.108.133, 185.199.111.133, 185.199.110.133, ...\n",
            "Connecting to raw.githubusercontent.com (raw.githubusercontent.com)|185.199.108.133|:443... connected.\n",
            "HTTP request sent, awaiting response... 200 OK\n",
            "Length: 987712 (965K) [text/plain]\n",
            "Saving to: ‘train.csv’\n",
            "\n",
            "train.csv           100%[===================>] 964.56K  --.-KB/s    in 0.05s   \n",
            "\n",
            "2024-04-19 02:40:22 (19.1 MB/s) - ‘train.csv’ saved [987712/987712]\n",
            "\n"
          ]
        }
      ],
      "source": [
        "# Collect data\n",
        "!wget https://raw.githubusercontent.com/DavidUlloa6310/disaster_tweets/main/test.csv\n",
        "!wget https://raw.githubusercontent.com/DavidUlloa6310/disaster_tweets/main/train.csv"
      ]
    },
    {
      "cell_type": "code",
      "execution_count": 4,
      "metadata": {
        "colab": {
          "base_uri": "https://localhost:8080/",
          "height": 224
        },
        "id": "D1Cfh4L6KpzL",
        "outputId": "8001d030-75f8-412f-e229-f9c5333f4b40"
      },
      "outputs": [
        {
          "output_type": "display_data",
          "data": {
            "text/plain": [
              "   id keyword location                                               text  \\\n",
              "0   1     NaN      NaN  Our Deeds are the Reason of this #earthquake M...   \n",
              "1   4     NaN      NaN             Forest fire near La Ronge Sask. Canada   \n",
              "2   5     NaN      NaN  All residents asked to 'shelter in place' are ...   \n",
              "3   6     NaN      NaN  13,000 people receive #wildfires evacuation or...   \n",
              "4   7     NaN      NaN  Just got sent this photo from Ruby #Alaska as ...   \n",
              "\n",
              "   target  \n",
              "0       1  \n",
              "1       1  \n",
              "2       1  \n",
              "3       1  \n",
              "4       1  "
            ],
            "text/html": [
              "\n",
              "  <div id=\"df-f2d26dbf-7920-4a95-bf7f-2673b459a08d\" class=\"colab-df-container\">\n",
              "    <div>\n",
              "<style scoped>\n",
              "    .dataframe tbody tr th:only-of-type {\n",
              "        vertical-align: middle;\n",
              "    }\n",
              "\n",
              "    .dataframe tbody tr th {\n",
              "        vertical-align: top;\n",
              "    }\n",
              "\n",
              "    .dataframe thead th {\n",
              "        text-align: right;\n",
              "    }\n",
              "</style>\n",
              "<table border=\"1\" class=\"dataframe\">\n",
              "  <thead>\n",
              "    <tr style=\"text-align: right;\">\n",
              "      <th></th>\n",
              "      <th>id</th>\n",
              "      <th>keyword</th>\n",
              "      <th>location</th>\n",
              "      <th>text</th>\n",
              "      <th>target</th>\n",
              "    </tr>\n",
              "  </thead>\n",
              "  <tbody>\n",
              "    <tr>\n",
              "      <th>0</th>\n",
              "      <td>1</td>\n",
              "      <td>NaN</td>\n",
              "      <td>NaN</td>\n",
              "      <td>Our Deeds are the Reason of this #earthquake M...</td>\n",
              "      <td>1</td>\n",
              "    </tr>\n",
              "    <tr>\n",
              "      <th>1</th>\n",
              "      <td>4</td>\n",
              "      <td>NaN</td>\n",
              "      <td>NaN</td>\n",
              "      <td>Forest fire near La Ronge Sask. Canada</td>\n",
              "      <td>1</td>\n",
              "    </tr>\n",
              "    <tr>\n",
              "      <th>2</th>\n",
              "      <td>5</td>\n",
              "      <td>NaN</td>\n",
              "      <td>NaN</td>\n",
              "      <td>All residents asked to 'shelter in place' are ...</td>\n",
              "      <td>1</td>\n",
              "    </tr>\n",
              "    <tr>\n",
              "      <th>3</th>\n",
              "      <td>6</td>\n",
              "      <td>NaN</td>\n",
              "      <td>NaN</td>\n",
              "      <td>13,000 people receive #wildfires evacuation or...</td>\n",
              "      <td>1</td>\n",
              "    </tr>\n",
              "    <tr>\n",
              "      <th>4</th>\n",
              "      <td>7</td>\n",
              "      <td>NaN</td>\n",
              "      <td>NaN</td>\n",
              "      <td>Just got sent this photo from Ruby #Alaska as ...</td>\n",
              "      <td>1</td>\n",
              "    </tr>\n",
              "  </tbody>\n",
              "</table>\n",
              "</div>\n",
              "    <div class=\"colab-df-buttons\">\n",
              "\n",
              "  <div class=\"colab-df-container\">\n",
              "    <button class=\"colab-df-convert\" onclick=\"convertToInteractive('df-f2d26dbf-7920-4a95-bf7f-2673b459a08d')\"\n",
              "            title=\"Convert this dataframe to an interactive table.\"\n",
              "            style=\"display:none;\">\n",
              "\n",
              "  <svg xmlns=\"http://www.w3.org/2000/svg\" height=\"24px\" viewBox=\"0 -960 960 960\">\n",
              "    <path d=\"M120-120v-720h720v720H120Zm60-500h600v-160H180v160Zm220 220h160v-160H400v160Zm0 220h160v-160H400v160ZM180-400h160v-160H180v160Zm440 0h160v-160H620v160ZM180-180h160v-160H180v160Zm440 0h160v-160H620v160Z\"/>\n",
              "  </svg>\n",
              "    </button>\n",
              "\n",
              "  <style>\n",
              "    .colab-df-container {\n",
              "      display:flex;\n",
              "      gap: 12px;\n",
              "    }\n",
              "\n",
              "    .colab-df-convert {\n",
              "      background-color: #E8F0FE;\n",
              "      border: none;\n",
              "      border-radius: 50%;\n",
              "      cursor: pointer;\n",
              "      display: none;\n",
              "      fill: #1967D2;\n",
              "      height: 32px;\n",
              "      padding: 0 0 0 0;\n",
              "      width: 32px;\n",
              "    }\n",
              "\n",
              "    .colab-df-convert:hover {\n",
              "      background-color: #E2EBFA;\n",
              "      box-shadow: 0px 1px 2px rgba(60, 64, 67, 0.3), 0px 1px 3px 1px rgba(60, 64, 67, 0.15);\n",
              "      fill: #174EA6;\n",
              "    }\n",
              "\n",
              "    .colab-df-buttons div {\n",
              "      margin-bottom: 4px;\n",
              "    }\n",
              "\n",
              "    [theme=dark] .colab-df-convert {\n",
              "      background-color: #3B4455;\n",
              "      fill: #D2E3FC;\n",
              "    }\n",
              "\n",
              "    [theme=dark] .colab-df-convert:hover {\n",
              "      background-color: #434B5C;\n",
              "      box-shadow: 0px 1px 3px 1px rgba(0, 0, 0, 0.15);\n",
              "      filter: drop-shadow(0px 1px 2px rgba(0, 0, 0, 0.3));\n",
              "      fill: #FFFFFF;\n",
              "    }\n",
              "  </style>\n",
              "\n",
              "    <script>\n",
              "      const buttonEl =\n",
              "        document.querySelector('#df-f2d26dbf-7920-4a95-bf7f-2673b459a08d button.colab-df-convert');\n",
              "      buttonEl.style.display =\n",
              "        google.colab.kernel.accessAllowed ? 'block' : 'none';\n",
              "\n",
              "      async function convertToInteractive(key) {\n",
              "        const element = document.querySelector('#df-f2d26dbf-7920-4a95-bf7f-2673b459a08d');\n",
              "        const dataTable =\n",
              "          await google.colab.kernel.invokeFunction('convertToInteractive',\n",
              "                                                    [key], {});\n",
              "        if (!dataTable) return;\n",
              "\n",
              "        const docLinkHtml = 'Like what you see? Visit the ' +\n",
              "          '<a target=\"_blank\" href=https://colab.research.google.com/notebooks/data_table.ipynb>data table notebook</a>'\n",
              "          + ' to learn more about interactive tables.';\n",
              "        element.innerHTML = '';\n",
              "        dataTable['output_type'] = 'display_data';\n",
              "        await google.colab.output.renderOutput(dataTable, element);\n",
              "        const docLink = document.createElement('div');\n",
              "        docLink.innerHTML = docLinkHtml;\n",
              "        element.appendChild(docLink);\n",
              "      }\n",
              "    </script>\n",
              "  </div>\n",
              "\n",
              "\n",
              "<div id=\"df-5d0c1118-8745-4447-aa5d-95b6fcd70f4f\">\n",
              "  <button class=\"colab-df-quickchart\" onclick=\"quickchart('df-5d0c1118-8745-4447-aa5d-95b6fcd70f4f')\"\n",
              "            title=\"Suggest charts\"\n",
              "            style=\"display:none;\">\n",
              "\n",
              "<svg xmlns=\"http://www.w3.org/2000/svg\" height=\"24px\"viewBox=\"0 0 24 24\"\n",
              "     width=\"24px\">\n",
              "    <g>\n",
              "        <path d=\"M19 3H5c-1.1 0-2 .9-2 2v14c0 1.1.9 2 2 2h14c1.1 0 2-.9 2-2V5c0-1.1-.9-2-2-2zM9 17H7v-7h2v7zm4 0h-2V7h2v10zm4 0h-2v-4h2v4z\"/>\n",
              "    </g>\n",
              "</svg>\n",
              "  </button>\n",
              "\n",
              "<style>\n",
              "  .colab-df-quickchart {\n",
              "      --bg-color: #E8F0FE;\n",
              "      --fill-color: #1967D2;\n",
              "      --hover-bg-color: #E2EBFA;\n",
              "      --hover-fill-color: #174EA6;\n",
              "      --disabled-fill-color: #AAA;\n",
              "      --disabled-bg-color: #DDD;\n",
              "  }\n",
              "\n",
              "  [theme=dark] .colab-df-quickchart {\n",
              "      --bg-color: #3B4455;\n",
              "      --fill-color: #D2E3FC;\n",
              "      --hover-bg-color: #434B5C;\n",
              "      --hover-fill-color: #FFFFFF;\n",
              "      --disabled-bg-color: #3B4455;\n",
              "      --disabled-fill-color: #666;\n",
              "  }\n",
              "\n",
              "  .colab-df-quickchart {\n",
              "    background-color: var(--bg-color);\n",
              "    border: none;\n",
              "    border-radius: 50%;\n",
              "    cursor: pointer;\n",
              "    display: none;\n",
              "    fill: var(--fill-color);\n",
              "    height: 32px;\n",
              "    padding: 0;\n",
              "    width: 32px;\n",
              "  }\n",
              "\n",
              "  .colab-df-quickchart:hover {\n",
              "    background-color: var(--hover-bg-color);\n",
              "    box-shadow: 0 1px 2px rgba(60, 64, 67, 0.3), 0 1px 3px 1px rgba(60, 64, 67, 0.15);\n",
              "    fill: var(--button-hover-fill-color);\n",
              "  }\n",
              "\n",
              "  .colab-df-quickchart-complete:disabled,\n",
              "  .colab-df-quickchart-complete:disabled:hover {\n",
              "    background-color: var(--disabled-bg-color);\n",
              "    fill: var(--disabled-fill-color);\n",
              "    box-shadow: none;\n",
              "  }\n",
              "\n",
              "  .colab-df-spinner {\n",
              "    border: 2px solid var(--fill-color);\n",
              "    border-color: transparent;\n",
              "    border-bottom-color: var(--fill-color);\n",
              "    animation:\n",
              "      spin 1s steps(1) infinite;\n",
              "  }\n",
              "\n",
              "  @keyframes spin {\n",
              "    0% {\n",
              "      border-color: transparent;\n",
              "      border-bottom-color: var(--fill-color);\n",
              "      border-left-color: var(--fill-color);\n",
              "    }\n",
              "    20% {\n",
              "      border-color: transparent;\n",
              "      border-left-color: var(--fill-color);\n",
              "      border-top-color: var(--fill-color);\n",
              "    }\n",
              "    30% {\n",
              "      border-color: transparent;\n",
              "      border-left-color: var(--fill-color);\n",
              "      border-top-color: var(--fill-color);\n",
              "      border-right-color: var(--fill-color);\n",
              "    }\n",
              "    40% {\n",
              "      border-color: transparent;\n",
              "      border-right-color: var(--fill-color);\n",
              "      border-top-color: var(--fill-color);\n",
              "    }\n",
              "    60% {\n",
              "      border-color: transparent;\n",
              "      border-right-color: var(--fill-color);\n",
              "    }\n",
              "    80% {\n",
              "      border-color: transparent;\n",
              "      border-right-color: var(--fill-color);\n",
              "      border-bottom-color: var(--fill-color);\n",
              "    }\n",
              "    90% {\n",
              "      border-color: transparent;\n",
              "      border-bottom-color: var(--fill-color);\n",
              "    }\n",
              "  }\n",
              "</style>\n",
              "\n",
              "  <script>\n",
              "    async function quickchart(key) {\n",
              "      const quickchartButtonEl =\n",
              "        document.querySelector('#' + key + ' button');\n",
              "      quickchartButtonEl.disabled = true;  // To prevent multiple clicks.\n",
              "      quickchartButtonEl.classList.add('colab-df-spinner');\n",
              "      try {\n",
              "        const charts = await google.colab.kernel.invokeFunction(\n",
              "            'suggestCharts', [key], {});\n",
              "      } catch (error) {\n",
              "        console.error('Error during call to suggestCharts:', error);\n",
              "      }\n",
              "      quickchartButtonEl.classList.remove('colab-df-spinner');\n",
              "      quickchartButtonEl.classList.add('colab-df-quickchart-complete');\n",
              "    }\n",
              "    (() => {\n",
              "      let quickchartButtonEl =\n",
              "        document.querySelector('#df-5d0c1118-8745-4447-aa5d-95b6fcd70f4f button');\n",
              "      quickchartButtonEl.style.display =\n",
              "        google.colab.kernel.accessAllowed ? 'block' : 'none';\n",
              "    })();\n",
              "  </script>\n",
              "</div>\n",
              "    </div>\n",
              "  </div>\n"
            ],
            "application/vnd.google.colaboratory.intrinsic+json": {
              "type": "dataframe",
              "repr_error": "Out of range float values are not JSON compliant: nan"
            }
          },
          "metadata": {}
        },
        {
          "output_type": "stream",
          "name": "stdout",
          "text": [
            "(7613, 1)\n"
          ]
        }
      ],
      "source": [
        "# Load data with pandas\n",
        "train_data = pd.read_csv(\"./train.csv\")\n",
        "test_data = pd.read_csv(\"./test.csv\")\n",
        "\n",
        "display(train_data.head())\n",
        "\n",
        "complete_x = np.array(train_data[[\"text\"]])\n",
        "complete_y = np.array(train_data[[\"target\"]])\n",
        "\n",
        "# Get Shape\n",
        "shape = complete_x.shape\n",
        "print(shape)\n",
        "\n",
        "# Create a vector of indices and shuffle them\n",
        "indices = np.arange(shape[0])\n",
        "np.random.shuffle(indices)\n",
        "\n",
        "cutoff_index = int(shape[0] * 0.80)\n",
        "\n",
        "train_indices = indices[:cutoff_index]\n",
        "val_indices = indices[cutoff_index:]\n",
        "\n",
        "# Get training and validation data from the shuffled indices\n",
        "train_X = complete_x[train_indices]\n",
        "train_Y = complete_y[train_indices]\n",
        "val_X = complete_x[val_indices]\n",
        "val_Y = complete_y[val_indices]\n",
        "\n",
        "\n"
      ]
    },
    {
      "cell_type": "markdown",
      "metadata": {
        "id": "cTGlICq3BLwR"
      },
      "source": [
        "## Part 2 - Data Analysis"
      ]
    },
    {
      "cell_type": "code",
      "execution_count": 5,
      "metadata": {
        "colab": {
          "base_uri": "https://localhost:8080/",
          "height": 1000
        },
        "id": "6meqi8BYW6bY",
        "outputId": "46b020fa-e209-4019-a3d5-db387fce8b6b"
      },
      "outputs": [
        {
          "output_type": "display_data",
          "data": {
            "text/plain": [
              "'--Vocabulary--'"
            ],
            "application/vnd.google.colaboratory.intrinsic+json": {
              "type": "string"
            }
          },
          "metadata": {}
        },
        {
          "output_type": "display_data",
          "data": {
            "text/plain": [
              "'0:   '"
            ],
            "application/vnd.google.colaboratory.intrinsic+json": {
              "type": "string"
            }
          },
          "metadata": {}
        },
        {
          "output_type": "display_data",
          "data": {
            "text/plain": [
              "'1: [UNK]  '"
            ],
            "application/vnd.google.colaboratory.intrinsic+json": {
              "type": "string"
            }
          },
          "metadata": {}
        },
        {
          "output_type": "display_data",
          "data": {
            "text/plain": [
              "'2: the  '"
            ],
            "application/vnd.google.colaboratory.intrinsic+json": {
              "type": "string"
            }
          },
          "metadata": {}
        },
        {
          "output_type": "display_data",
          "data": {
            "text/plain": [
              "'3: a  '"
            ],
            "application/vnd.google.colaboratory.intrinsic+json": {
              "type": "string"
            }
          },
          "metadata": {}
        },
        {
          "output_type": "display_data",
          "data": {
            "text/plain": [
              "'4: in  '"
            ],
            "application/vnd.google.colaboratory.intrinsic+json": {
              "type": "string"
            }
          },
          "metadata": {}
        },
        {
          "output_type": "display_data",
          "data": {
            "text/plain": [
              "'5: to  '"
            ],
            "application/vnd.google.colaboratory.intrinsic+json": {
              "type": "string"
            }
          },
          "metadata": {}
        },
        {
          "output_type": "display_data",
          "data": {
            "text/plain": [
              "'6: of  '"
            ],
            "application/vnd.google.colaboratory.intrinsic+json": {
              "type": "string"
            }
          },
          "metadata": {}
        },
        {
          "output_type": "display_data",
          "data": {
            "text/plain": [
              "'7: and  '"
            ],
            "application/vnd.google.colaboratory.intrinsic+json": {
              "type": "string"
            }
          },
          "metadata": {}
        },
        {
          "output_type": "display_data",
          "data": {
            "text/plain": [
              "'8: i  '"
            ],
            "application/vnd.google.colaboratory.intrinsic+json": {
              "type": "string"
            }
          },
          "metadata": {}
        },
        {
          "output_type": "display_data",
          "data": {
            "text/plain": [
              "'9: is  '"
            ],
            "application/vnd.google.colaboratory.intrinsic+json": {
              "type": "string"
            }
          },
          "metadata": {}
        },
        {
          "output_type": "display_data",
          "data": {
            "text/plain": [
              "'10: for  '"
            ],
            "application/vnd.google.colaboratory.intrinsic+json": {
              "type": "string"
            }
          },
          "metadata": {}
        },
        {
          "output_type": "display_data",
          "data": {
            "text/plain": [
              "'11: on  '"
            ],
            "application/vnd.google.colaboratory.intrinsic+json": {
              "type": "string"
            }
          },
          "metadata": {}
        },
        {
          "output_type": "display_data",
          "data": {
            "text/plain": [
              "'12: you  '"
            ],
            "application/vnd.google.colaboratory.intrinsic+json": {
              "type": "string"
            }
          },
          "metadata": {}
        },
        {
          "output_type": "display_data",
          "data": {
            "text/plain": [
              "'13: my  '"
            ],
            "application/vnd.google.colaboratory.intrinsic+json": {
              "type": "string"
            }
          },
          "metadata": {}
        },
        {
          "output_type": "display_data",
          "data": {
            "text/plain": [
              "'14: with  '"
            ],
            "application/vnd.google.colaboratory.intrinsic+json": {
              "type": "string"
            }
          },
          "metadata": {}
        },
        {
          "output_type": "display_data",
          "data": {
            "text/plain": [
              "'15: it  '"
            ],
            "application/vnd.google.colaboratory.intrinsic+json": {
              "type": "string"
            }
          },
          "metadata": {}
        },
        {
          "output_type": "display_data",
          "data": {
            "text/plain": [
              "'16: that  '"
            ],
            "application/vnd.google.colaboratory.intrinsic+json": {
              "type": "string"
            }
          },
          "metadata": {}
        },
        {
          "output_type": "display_data",
          "data": {
            "text/plain": [
              "'17: at  '"
            ],
            "application/vnd.google.colaboratory.intrinsic+json": {
              "type": "string"
            }
          },
          "metadata": {}
        },
        {
          "output_type": "display_data",
          "data": {
            "text/plain": [
              "'18: by  '"
            ],
            "application/vnd.google.colaboratory.intrinsic+json": {
              "type": "string"
            }
          },
          "metadata": {}
        },
        {
          "output_type": "display_data",
          "data": {
            "text/plain": [
              "'19: this  '"
            ],
            "application/vnd.google.colaboratory.intrinsic+json": {
              "type": "string"
            }
          },
          "metadata": {}
        },
        {
          "output_type": "display_data",
          "data": {
            "text/plain": [
              "'20: from  '"
            ],
            "application/vnd.google.colaboratory.intrinsic+json": {
              "type": "string"
            }
          },
          "metadata": {}
        },
        {
          "output_type": "display_data",
          "data": {
            "text/plain": [
              "'21: be  '"
            ],
            "application/vnd.google.colaboratory.intrinsic+json": {
              "type": "string"
            }
          },
          "metadata": {}
        },
        {
          "output_type": "display_data",
          "data": {
            "text/plain": [
              "'22: are  '"
            ],
            "application/vnd.google.colaboratory.intrinsic+json": {
              "type": "string"
            }
          },
          "metadata": {}
        },
        {
          "output_type": "display_data",
          "data": {
            "text/plain": [
              "'23: was  '"
            ],
            "application/vnd.google.colaboratory.intrinsic+json": {
              "type": "string"
            }
          },
          "metadata": {}
        },
        {
          "output_type": "display_data",
          "data": {
            "text/plain": [
              "'24: have  '"
            ],
            "application/vnd.google.colaboratory.intrinsic+json": {
              "type": "string"
            }
          },
          "metadata": {}
        },
        {
          "output_type": "display_data",
          "data": {
            "text/plain": [
              "'25: like  '"
            ],
            "application/vnd.google.colaboratory.intrinsic+json": {
              "type": "string"
            }
          },
          "metadata": {}
        },
        {
          "output_type": "display_data",
          "data": {
            "text/plain": [
              "'26: as  '"
            ],
            "application/vnd.google.colaboratory.intrinsic+json": {
              "type": "string"
            }
          },
          "metadata": {}
        },
        {
          "output_type": "display_data",
          "data": {
            "text/plain": [
              "'27: me  '"
            ],
            "application/vnd.google.colaboratory.intrinsic+json": {
              "type": "string"
            }
          },
          "metadata": {}
        },
        {
          "output_type": "display_data",
          "data": {
            "text/plain": [
              "'28: up  '"
            ],
            "application/vnd.google.colaboratory.intrinsic+json": {
              "type": "string"
            }
          },
          "metadata": {}
        },
        {
          "output_type": "display_data",
          "data": {
            "text/plain": [
              "'29: just  '"
            ],
            "application/vnd.google.colaboratory.intrinsic+json": {
              "type": "string"
            }
          },
          "metadata": {}
        },
        {
          "output_type": "display_data",
          "data": {
            "text/plain": [
              "'30: but  '"
            ],
            "application/vnd.google.colaboratory.intrinsic+json": {
              "type": "string"
            }
          },
          "metadata": {}
        },
        {
          "output_type": "display_data",
          "data": {
            "text/plain": [
              "'31: so  '"
            ],
            "application/vnd.google.colaboratory.intrinsic+json": {
              "type": "string"
            }
          },
          "metadata": {}
        },
        {
          "output_type": "display_data",
          "data": {
            "text/plain": [
              "'32: im  '"
            ],
            "application/vnd.google.colaboratory.intrinsic+json": {
              "type": "string"
            }
          },
          "metadata": {}
        },
        {
          "output_type": "display_data",
          "data": {
            "text/plain": [
              "'33: amp  '"
            ],
            "application/vnd.google.colaboratory.intrinsic+json": {
              "type": "string"
            }
          },
          "metadata": {}
        },
        {
          "output_type": "display_data",
          "data": {
            "text/plain": [
              "'34: not  '"
            ],
            "application/vnd.google.colaboratory.intrinsic+json": {
              "type": "string"
            }
          },
          "metadata": {}
        },
        {
          "output_type": "display_data",
          "data": {
            "text/plain": [
              "'35: your  '"
            ],
            "application/vnd.google.colaboratory.intrinsic+json": {
              "type": "string"
            }
          },
          "metadata": {}
        },
        {
          "output_type": "display_data",
          "data": {
            "text/plain": [
              "'36: out  '"
            ],
            "application/vnd.google.colaboratory.intrinsic+json": {
              "type": "string"
            }
          },
          "metadata": {}
        },
        {
          "output_type": "display_data",
          "data": {
            "text/plain": [
              "'37: its  '"
            ],
            "application/vnd.google.colaboratory.intrinsic+json": {
              "type": "string"
            }
          },
          "metadata": {}
        },
        {
          "output_type": "display_data",
          "data": {
            "text/plain": [
              "'38: after  '"
            ],
            "application/vnd.google.colaboratory.intrinsic+json": {
              "type": "string"
            }
          },
          "metadata": {}
        },
        {
          "output_type": "display_data",
          "data": {
            "text/plain": [
              "'39: will  '"
            ],
            "application/vnd.google.colaboratory.intrinsic+json": {
              "type": "string"
            }
          },
          "metadata": {}
        },
        {
          "output_type": "display_data",
          "data": {
            "text/plain": [
              "'40: all  '"
            ],
            "application/vnd.google.colaboratory.intrinsic+json": {
              "type": "string"
            }
          },
          "metadata": {}
        },
        {
          "output_type": "display_data",
          "data": {
            "text/plain": [
              "'41: no  '"
            ],
            "application/vnd.google.colaboratory.intrinsic+json": {
              "type": "string"
            }
          },
          "metadata": {}
        },
        {
          "output_type": "display_data",
          "data": {
            "text/plain": [
              "'42: fire  '"
            ],
            "application/vnd.google.colaboratory.intrinsic+json": {
              "type": "string"
            }
          },
          "metadata": {}
        },
        {
          "output_type": "display_data",
          "data": {
            "text/plain": [
              "'43: an  '"
            ],
            "application/vnd.google.colaboratory.intrinsic+json": {
              "type": "string"
            }
          },
          "metadata": {}
        },
        {
          "output_type": "display_data",
          "data": {
            "text/plain": [
              "'44: has  '"
            ],
            "application/vnd.google.colaboratory.intrinsic+json": {
              "type": "string"
            }
          },
          "metadata": {}
        },
        {
          "output_type": "display_data",
          "data": {
            "text/plain": [
              "'45: when  '"
            ],
            "application/vnd.google.colaboratory.intrinsic+json": {
              "type": "string"
            }
          },
          "metadata": {}
        },
        {
          "output_type": "display_data",
          "data": {
            "text/plain": [
              "'46: if  '"
            ],
            "application/vnd.google.colaboratory.intrinsic+json": {
              "type": "string"
            }
          },
          "metadata": {}
        },
        {
          "output_type": "display_data",
          "data": {
            "text/plain": [
              "'47: we  '"
            ],
            "application/vnd.google.colaboratory.intrinsic+json": {
              "type": "string"
            }
          },
          "metadata": {}
        },
        {
          "output_type": "display_data",
          "data": {
            "text/plain": [
              "'48: get  '"
            ],
            "application/vnd.google.colaboratory.intrinsic+json": {
              "type": "string"
            }
          },
          "metadata": {}
        },
        {
          "output_type": "display_data",
          "data": {
            "text/plain": [
              "'49: new  '"
            ],
            "application/vnd.google.colaboratory.intrinsic+json": {
              "type": "string"
            }
          },
          "metadata": {}
        },
        {
          "output_type": "display_data",
          "data": {
            "text/plain": [
              "'50: now  '"
            ],
            "application/vnd.google.colaboratory.intrinsic+json": {
              "type": "string"
            }
          },
          "metadata": {}
        },
        {
          "output_type": "display_data",
          "data": {
            "text/plain": [
              "'51: via  '"
            ],
            "application/vnd.google.colaboratory.intrinsic+json": {
              "type": "string"
            }
          },
          "metadata": {}
        },
        {
          "output_type": "display_data",
          "data": {
            "text/plain": [
              "'52: more  '"
            ],
            "application/vnd.google.colaboratory.intrinsic+json": {
              "type": "string"
            }
          },
          "metadata": {}
        },
        {
          "output_type": "display_data",
          "data": {
            "text/plain": [
              "'53: about  '"
            ],
            "application/vnd.google.colaboratory.intrinsic+json": {
              "type": "string"
            }
          },
          "metadata": {}
        },
        {
          "output_type": "display_data",
          "data": {
            "text/plain": [
              "'54: or  '"
            ],
            "application/vnd.google.colaboratory.intrinsic+json": {
              "type": "string"
            }
          },
          "metadata": {}
        },
        {
          "output_type": "display_data",
          "data": {
            "text/plain": [
              "'55: what  '"
            ],
            "application/vnd.google.colaboratory.intrinsic+json": {
              "type": "string"
            }
          },
          "metadata": {}
        },
        {
          "output_type": "display_data",
          "data": {
            "text/plain": [
              "'56: people  '"
            ],
            "application/vnd.google.colaboratory.intrinsic+json": {
              "type": "string"
            }
          },
          "metadata": {}
        },
        {
          "output_type": "display_data",
          "data": {
            "text/plain": [
              "'57: one  '"
            ],
            "application/vnd.google.colaboratory.intrinsic+json": {
              "type": "string"
            }
          },
          "metadata": {}
        },
        {
          "output_type": "display_data",
          "data": {
            "text/plain": [
              "'58: news  '"
            ],
            "application/vnd.google.colaboratory.intrinsic+json": {
              "type": "string"
            }
          },
          "metadata": {}
        },
        {
          "output_type": "display_data",
          "data": {
            "text/plain": [
              "'59: he  '"
            ],
            "application/vnd.google.colaboratory.intrinsic+json": {
              "type": "string"
            }
          },
          "metadata": {}
        },
        {
          "output_type": "display_data",
          "data": {
            "text/plain": [
              "'60: they  '"
            ],
            "application/vnd.google.colaboratory.intrinsic+json": {
              "type": "string"
            }
          },
          "metadata": {}
        },
        {
          "output_type": "display_data",
          "data": {
            "text/plain": [
              "'61: how  '"
            ],
            "application/vnd.google.colaboratory.intrinsic+json": {
              "type": "string"
            }
          },
          "metadata": {}
        },
        {
          "output_type": "display_data",
          "data": {
            "text/plain": [
              "'62: dont  '"
            ],
            "application/vnd.google.colaboratory.intrinsic+json": {
              "type": "string"
            }
          },
          "metadata": {}
        },
        {
          "output_type": "display_data",
          "data": {
            "text/plain": [
              "'63: been  '"
            ],
            "application/vnd.google.colaboratory.intrinsic+json": {
              "type": "string"
            }
          },
          "metadata": {}
        },
        {
          "output_type": "display_data",
          "data": {
            "text/plain": [
              "'64: over  '"
            ],
            "application/vnd.google.colaboratory.intrinsic+json": {
              "type": "string"
            }
          },
          "metadata": {}
        },
        {
          "output_type": "display_data",
          "data": {
            "text/plain": [
              "'65: who  '"
            ],
            "application/vnd.google.colaboratory.intrinsic+json": {
              "type": "string"
            }
          },
          "metadata": {}
        },
        {
          "output_type": "display_data",
          "data": {
            "text/plain": [
              "'66: into  '"
            ],
            "application/vnd.google.colaboratory.intrinsic+json": {
              "type": "string"
            }
          },
          "metadata": {}
        },
        {
          "output_type": "display_data",
          "data": {
            "text/plain": [
              "'67: do  '"
            ],
            "application/vnd.google.colaboratory.intrinsic+json": {
              "type": "string"
            }
          },
          "metadata": {}
        },
        {
          "output_type": "display_data",
          "data": {
            "text/plain": [
              "'68: were  '"
            ],
            "application/vnd.google.colaboratory.intrinsic+json": {
              "type": "string"
            }
          },
          "metadata": {}
        },
        {
          "output_type": "display_data",
          "data": {
            "text/plain": [
              "'69: video  '"
            ],
            "application/vnd.google.colaboratory.intrinsic+json": {
              "type": "string"
            }
          },
          "metadata": {}
        },
        {
          "output_type": "display_data",
          "data": {
            "text/plain": [
              "'70: us  '"
            ],
            "application/vnd.google.colaboratory.intrinsic+json": {
              "type": "string"
            }
          },
          "metadata": {}
        },
        {
          "output_type": "display_data",
          "data": {
            "text/plain": [
              "'71: can  '"
            ],
            "application/vnd.google.colaboratory.intrinsic+json": {
              "type": "string"
            }
          },
          "metadata": {}
        },
        {
          "output_type": "display_data",
          "data": {
            "text/plain": [
              "'72: 2  '"
            ],
            "application/vnd.google.colaboratory.intrinsic+json": {
              "type": "string"
            }
          },
          "metadata": {}
        },
        {
          "output_type": "display_data",
          "data": {
            "text/plain": [
              "'73: emergency  '"
            ],
            "application/vnd.google.colaboratory.intrinsic+json": {
              "type": "string"
            }
          },
          "metadata": {}
        },
        {
          "output_type": "display_data",
          "data": {
            "text/plain": [
              "'74: disaster  '"
            ],
            "application/vnd.google.colaboratory.intrinsic+json": {
              "type": "string"
            }
          },
          "metadata": {}
        },
        {
          "output_type": "display_data",
          "data": {
            "text/plain": [
              "'75: there  '"
            ],
            "application/vnd.google.colaboratory.intrinsic+json": {
              "type": "string"
            }
          },
          "metadata": {}
        },
        {
          "output_type": "display_data",
          "data": {
            "text/plain": [
              "'76: police  '"
            ],
            "application/vnd.google.colaboratory.intrinsic+json": {
              "type": "string"
            }
          },
          "metadata": {}
        },
        {
          "output_type": "display_data",
          "data": {
            "text/plain": [
              "'77: than  '"
            ],
            "application/vnd.google.colaboratory.intrinsic+json": {
              "type": "string"
            }
          },
          "metadata": {}
        },
        {
          "output_type": "display_data",
          "data": {
            "text/plain": [
              "'78: her  '"
            ],
            "application/vnd.google.colaboratory.intrinsic+json": {
              "type": "string"
            }
          },
          "metadata": {}
        },
        {
          "output_type": "display_data",
          "data": {
            "text/plain": [
              "'79: would  '"
            ],
            "application/vnd.google.colaboratory.intrinsic+json": {
              "type": "string"
            }
          },
          "metadata": {}
        },
        {
          "output_type": "display_data",
          "data": {
            "text/plain": [
              "'80: still  '"
            ],
            "application/vnd.google.colaboratory.intrinsic+json": {
              "type": "string"
            }
          },
          "metadata": {}
        },
        {
          "output_type": "display_data",
          "data": {
            "text/plain": [
              "'81: some  '"
            ],
            "application/vnd.google.colaboratory.intrinsic+json": {
              "type": "string"
            }
          },
          "metadata": {}
        },
        {
          "output_type": "display_data",
          "data": {
            "text/plain": [
              "'82: his  '"
            ],
            "application/vnd.google.colaboratory.intrinsic+json": {
              "type": "string"
            }
          },
          "metadata": {}
        },
        {
          "output_type": "display_data",
          "data": {
            "text/plain": [
              "'83: body  '"
            ],
            "application/vnd.google.colaboratory.intrinsic+json": {
              "type": "string"
            }
          },
          "metadata": {}
        },
        {
          "output_type": "display_data",
          "data": {
            "text/plain": [
              "'84: burning  '"
            ],
            "application/vnd.google.colaboratory.intrinsic+json": {
              "type": "string"
            }
          },
          "metadata": {}
        },
        {
          "output_type": "display_data",
          "data": {
            "text/plain": [
              "'85: crash  '"
            ],
            "application/vnd.google.colaboratory.intrinsic+json": {
              "type": "string"
            }
          },
          "metadata": {}
        },
        {
          "output_type": "display_data",
          "data": {
            "text/plain": [
              "'86: back  '"
            ],
            "application/vnd.google.colaboratory.intrinsic+json": {
              "type": "string"
            }
          },
          "metadata": {}
        },
        {
          "output_type": "display_data",
          "data": {
            "text/plain": [
              "'87: storm  '"
            ],
            "application/vnd.google.colaboratory.intrinsic+json": {
              "type": "string"
            }
          },
          "metadata": {}
        },
        {
          "output_type": "display_data",
          "data": {
            "text/plain": [
              "'88: california  '"
            ],
            "application/vnd.google.colaboratory.intrinsic+json": {
              "type": "string"
            }
          },
          "metadata": {}
        },
        {
          "output_type": "display_data",
          "data": {
            "text/plain": [
              "'89: suicide  '"
            ],
            "application/vnd.google.colaboratory.intrinsic+json": {
              "type": "string"
            }
          },
          "metadata": {}
        },
        {
          "output_type": "display_data",
          "data": {
            "text/plain": [
              "'90: why  '"
            ],
            "application/vnd.google.colaboratory.intrinsic+json": {
              "type": "string"
            }
          },
          "metadata": {}
        },
        {
          "output_type": "display_data",
          "data": {
            "text/plain": [
              "'91: them  '"
            ],
            "application/vnd.google.colaboratory.intrinsic+json": {
              "type": "string"
            }
          },
          "metadata": {}
        },
        {
          "output_type": "display_data",
          "data": {
            "text/plain": [
              "'92: off  '"
            ],
            "application/vnd.google.colaboratory.intrinsic+json": {
              "type": "string"
            }
          },
          "metadata": {}
        },
        {
          "output_type": "display_data",
          "data": {
            "text/plain": [
              "'93: time  '"
            ],
            "application/vnd.google.colaboratory.intrinsic+json": {
              "type": "string"
            }
          },
          "metadata": {}
        },
        {
          "output_type": "display_data",
          "data": {
            "text/plain": [
              "'94: know  '"
            ],
            "application/vnd.google.colaboratory.intrinsic+json": {
              "type": "string"
            }
          },
          "metadata": {}
        },
        {
          "output_type": "display_data",
          "data": {
            "text/plain": [
              "'95: got  '"
            ],
            "application/vnd.google.colaboratory.intrinsic+json": {
              "type": "string"
            }
          },
          "metadata": {}
        },
        {
          "output_type": "display_data",
          "data": {
            "text/plain": [
              "'96: had  '"
            ],
            "application/vnd.google.colaboratory.intrinsic+json": {
              "type": "string"
            }
          },
          "metadata": {}
        },
        {
          "output_type": "display_data",
          "data": {
            "text/plain": [
              "'97: man  '"
            ],
            "application/vnd.google.colaboratory.intrinsic+json": {
              "type": "string"
            }
          },
          "metadata": {}
        },
        {
          "output_type": "display_data",
          "data": {
            "text/plain": [
              "'98: buildings  '"
            ],
            "application/vnd.google.colaboratory.intrinsic+json": {
              "type": "string"
            }
          },
          "metadata": {}
        },
        {
          "output_type": "display_data",
          "data": {
            "text/plain": [
              "'99: day  '"
            ],
            "application/vnd.google.colaboratory.intrinsic+json": {
              "type": "string"
            }
          },
          "metadata": {}
        },
        {
          "output_type": "display_data",
          "data": {
            "text/plain": [
              "'100: rt  '"
            ],
            "application/vnd.google.colaboratory.intrinsic+json": {
              "type": "string"
            }
          },
          "metadata": {}
        },
        {
          "output_type": "display_data",
          "data": {
            "text/plain": [
              "'101: first  '"
            ],
            "application/vnd.google.colaboratory.intrinsic+json": {
              "type": "string"
            }
          },
          "metadata": {}
        },
        {
          "output_type": "display_data",
          "data": {
            "text/plain": [
              "'102: see  '"
            ],
            "application/vnd.google.colaboratory.intrinsic+json": {
              "type": "string"
            }
          },
          "metadata": {}
        },
        {
          "output_type": "display_data",
          "data": {
            "text/plain": [
              "'103: world  '"
            ],
            "application/vnd.google.colaboratory.intrinsic+json": {
              "type": "string"
            }
          },
          "metadata": {}
        },
        {
          "output_type": "display_data",
          "data": {
            "text/plain": [
              "'104: going  '"
            ],
            "application/vnd.google.colaboratory.intrinsic+json": {
              "type": "string"
            }
          },
          "metadata": {}
        },
        {
          "output_type": "display_data",
          "data": {
            "text/plain": [
              "'105: bomb  '"
            ],
            "application/vnd.google.colaboratory.intrinsic+json": {
              "type": "string"
            }
          },
          "metadata": {}
        },
        {
          "output_type": "display_data",
          "data": {
            "text/plain": [
              "'106: cant  '"
            ],
            "application/vnd.google.colaboratory.intrinsic+json": {
              "type": "string"
            }
          },
          "metadata": {}
        },
        {
          "output_type": "display_data",
          "data": {
            "text/plain": [
              "'107: nuclear  '"
            ],
            "application/vnd.google.colaboratory.intrinsic+json": {
              "type": "string"
            }
          },
          "metadata": {}
        },
        {
          "output_type": "display_data",
          "data": {
            "text/plain": [
              "'108: love  '"
            ],
            "application/vnd.google.colaboratory.intrinsic+json": {
              "type": "string"
            }
          },
          "metadata": {}
        },
        {
          "output_type": "display_data",
          "data": {
            "text/plain": [
              "'109: fires  '"
            ],
            "application/vnd.google.colaboratory.intrinsic+json": {
              "type": "string"
            }
          },
          "metadata": {}
        },
        {
          "output_type": "display_data",
          "data": {
            "text/plain": [
              "'110: our  '"
            ],
            "application/vnd.google.colaboratory.intrinsic+json": {
              "type": "string"
            }
          },
          "metadata": {}
        },
        {
          "output_type": "display_data",
          "data": {
            "text/plain": [
              "'111: attack  '"
            ],
            "application/vnd.google.colaboratory.intrinsic+json": {
              "type": "string"
            }
          },
          "metadata": {}
        },
        {
          "output_type": "display_data",
          "data": {
            "text/plain": [
              "'112: youtube  '"
            ],
            "application/vnd.google.colaboratory.intrinsic+json": {
              "type": "string"
            }
          },
          "metadata": {}
        },
        {
          "output_type": "display_data",
          "data": {
            "text/plain": [
              "'113: two  '"
            ],
            "application/vnd.google.colaboratory.intrinsic+json": {
              "type": "string"
            }
          },
          "metadata": {}
        },
        {
          "output_type": "display_data",
          "data": {
            "text/plain": [
              "'114: 3  '"
            ],
            "application/vnd.google.colaboratory.intrinsic+json": {
              "type": "string"
            }
          },
          "metadata": {}
        },
        {
          "output_type": "display_data",
          "data": {
            "text/plain": [
              "'115: killed  '"
            ],
            "application/vnd.google.colaboratory.intrinsic+json": {
              "type": "string"
            }
          },
          "metadata": {}
        },
        {
          "output_type": "display_data",
          "data": {
            "text/plain": [
              "'116: dead  '"
            ],
            "application/vnd.google.colaboratory.intrinsic+json": {
              "type": "string"
            }
          },
          "metadata": {}
        },
        {
          "output_type": "display_data",
          "data": {
            "text/plain": [
              "'117: go  '"
            ],
            "application/vnd.google.colaboratory.intrinsic+json": {
              "type": "string"
            }
          },
          "metadata": {}
        },
        {
          "output_type": "display_data",
          "data": {
            "text/plain": [
              "'118: their  '"
            ],
            "application/vnd.google.colaboratory.intrinsic+json": {
              "type": "string"
            }
          },
          "metadata": {}
        },
        {
          "output_type": "display_data",
          "data": {
            "text/plain": [
              "'119: train  '"
            ],
            "application/vnd.google.colaboratory.intrinsic+json": {
              "type": "string"
            }
          },
          "metadata": {}
        },
        {
          "output_type": "display_data",
          "data": {
            "text/plain": [
              "'120: full  '"
            ],
            "application/vnd.google.colaboratory.intrinsic+json": {
              "type": "string"
            }
          },
          "metadata": {}
        },
        {
          "output_type": "display_data",
          "data": {
            "text/plain": [
              "'121: war  '"
            ],
            "application/vnd.google.colaboratory.intrinsic+json": {
              "type": "string"
            }
          },
          "metadata": {}
        },
        {
          "output_type": "display_data",
          "data": {
            "text/plain": [
              "'122: car  '"
            ],
            "application/vnd.google.colaboratory.intrinsic+json": {
              "type": "string"
            }
          },
          "metadata": {}
        },
        {
          "output_type": "display_data",
          "data": {
            "text/plain": [
              "'123: being  '"
            ],
            "application/vnd.google.colaboratory.intrinsic+json": {
              "type": "string"
            }
          },
          "metadata": {}
        },
        {
          "output_type": "display_data",
          "data": {
            "text/plain": [
              "'124: only  '"
            ],
            "application/vnd.google.colaboratory.intrinsic+json": {
              "type": "string"
            }
          },
          "metadata": {}
        },
        {
          "output_type": "display_data",
          "data": {
            "text/plain": [
              "'125: may  '"
            ],
            "application/vnd.google.colaboratory.intrinsic+json": {
              "type": "string"
            }
          },
          "metadata": {}
        },
        {
          "output_type": "display_data",
          "data": {
            "text/plain": [
              "'126: families  '"
            ],
            "application/vnd.google.colaboratory.intrinsic+json": {
              "type": "string"
            }
          },
          "metadata": {}
        },
        {
          "output_type": "display_data",
          "data": {
            "text/plain": [
              "'127: today  '"
            ],
            "application/vnd.google.colaboratory.intrinsic+json": {
              "type": "string"
            }
          },
          "metadata": {}
        },
        {
          "output_type": "display_data",
          "data": {
            "text/plain": [
              "'128: life  '"
            ],
            "application/vnd.google.colaboratory.intrinsic+json": {
              "type": "string"
            }
          },
          "metadata": {}
        },
        {
          "output_type": "display_data",
          "data": {
            "text/plain": [
              "'129: hiroshima  '"
            ],
            "application/vnd.google.colaboratory.intrinsic+json": {
              "type": "string"
            }
          },
          "metadata": {}
        },
        {
          "output_type": "display_data",
          "data": {
            "text/plain": [
              "'130: good  '"
            ],
            "application/vnd.google.colaboratory.intrinsic+json": {
              "type": "string"
            }
          },
          "metadata": {}
        },
        {
          "output_type": "display_data",
          "data": {
            "text/plain": [
              "'131: accident  '"
            ],
            "application/vnd.google.colaboratory.intrinsic+json": {
              "type": "string"
            }
          },
          "metadata": {}
        },
        {
          "output_type": "display_data",
          "data": {
            "text/plain": [
              "'132: think  '"
            ],
            "application/vnd.google.colaboratory.intrinsic+json": {
              "type": "string"
            }
          },
          "metadata": {}
        },
        {
          "output_type": "display_data",
          "data": {
            "text/plain": [
              "'133: down  '"
            ],
            "application/vnd.google.colaboratory.intrinsic+json": {
              "type": "string"
            }
          },
          "metadata": {}
        },
        {
          "output_type": "display_data",
          "data": {
            "text/plain": [
              "'134: watch  '"
            ],
            "application/vnd.google.colaboratory.intrinsic+json": {
              "type": "string"
            }
          },
          "metadata": {}
        },
        {
          "output_type": "display_data",
          "data": {
            "text/plain": [
              "'135: say  '"
            ],
            "application/vnd.google.colaboratory.intrinsic+json": {
              "type": "string"
            }
          },
          "metadata": {}
        },
        {
          "output_type": "display_data",
          "data": {
            "text/plain": [
              "'136: many  '"
            ],
            "application/vnd.google.colaboratory.intrinsic+json": {
              "type": "string"
            }
          },
          "metadata": {}
        },
        {
          "output_type": "display_data",
          "data": {
            "text/plain": [
              "'137: last  '"
            ],
            "application/vnd.google.colaboratory.intrinsic+json": {
              "type": "string"
            }
          },
          "metadata": {}
        },
        {
          "output_type": "display_data",
          "data": {
            "text/plain": [
              "'138: here  '"
            ],
            "application/vnd.google.colaboratory.intrinsic+json": {
              "type": "string"
            }
          },
          "metadata": {}
        },
        {
          "output_type": "display_data",
          "data": {
            "text/plain": [
              "'139: u  '"
            ],
            "application/vnd.google.colaboratory.intrinsic+json": {
              "type": "string"
            }
          },
          "metadata": {}
        },
        {
          "output_type": "display_data",
          "data": {
            "text/plain": [
              "'140: could  '"
            ],
            "application/vnd.google.colaboratory.intrinsic+json": {
              "type": "string"
            }
          },
          "metadata": {}
        },
        {
          "output_type": "display_data",
          "data": {
            "text/plain": [
              "'141: want  '"
            ],
            "application/vnd.google.colaboratory.intrinsic+json": {
              "type": "string"
            }
          },
          "metadata": {}
        },
        {
          "output_type": "display_data",
          "data": {
            "text/plain": [
              "'142: years  '"
            ],
            "application/vnd.google.colaboratory.intrinsic+json": {
              "type": "string"
            }
          },
          "metadata": {}
        },
        {
          "output_type": "display_data",
          "data": {
            "text/plain": [
              "'143: too  '"
            ],
            "application/vnd.google.colaboratory.intrinsic+json": {
              "type": "string"
            }
          },
          "metadata": {}
        },
        {
          "output_type": "display_data",
          "data": {
            "text/plain": [
              "'144: did  '"
            ],
            "application/vnd.google.colaboratory.intrinsic+json": {
              "type": "string"
            }
          },
          "metadata": {}
        },
        {
          "output_type": "display_data",
          "data": {
            "text/plain": [
              "'145: way  '"
            ],
            "application/vnd.google.colaboratory.intrinsic+json": {
              "type": "string"
            }
          },
          "metadata": {}
        },
        {
          "output_type": "display_data",
          "data": {
            "text/plain": [
              "'146: then  '"
            ],
            "application/vnd.google.colaboratory.intrinsic+json": {
              "type": "string"
            }
          },
          "metadata": {}
        },
        {
          "output_type": "display_data",
          "data": {
            "text/plain": [
              "'147: make  '"
            ],
            "application/vnd.google.colaboratory.intrinsic+json": {
              "type": "string"
            }
          },
          "metadata": {}
        },
        {
          "output_type": "display_data",
          "data": {
            "text/plain": [
              "'148: home  '"
            ],
            "application/vnd.google.colaboratory.intrinsic+json": {
              "type": "string"
            }
          },
          "metadata": {}
        },
        {
          "output_type": "display_data",
          "data": {
            "text/plain": [
              "'149: collapse  '"
            ],
            "application/vnd.google.colaboratory.intrinsic+json": {
              "type": "string"
            }
          },
          "metadata": {}
        },
        {
          "output_type": "display_data",
          "data": {
            "text/plain": [
              "'150: work  '"
            ],
            "application/vnd.google.colaboratory.intrinsic+json": {
              "type": "string"
            }
          },
          "metadata": {}
        },
        {
          "output_type": "display_data",
          "data": {
            "text/plain": [
              "'151: because  '"
            ],
            "application/vnd.google.colaboratory.intrinsic+json": {
              "type": "string"
            }
          },
          "metadata": {}
        },
        {
          "output_type": "display_data",
          "data": {
            "text/plain": [
              "'152: look  '"
            ],
            "application/vnd.google.colaboratory.intrinsic+json": {
              "type": "string"
            }
          },
          "metadata": {}
        },
        {
          "output_type": "display_data",
          "data": {
            "text/plain": [
              "'153: best  '"
            ],
            "application/vnd.google.colaboratory.intrinsic+json": {
              "type": "string"
            }
          },
          "metadata": {}
        },
        {
          "output_type": "display_data",
          "data": {
            "text/plain": [
              "'154: wildfire  '"
            ],
            "application/vnd.google.colaboratory.intrinsic+json": {
              "type": "string"
            }
          },
          "metadata": {}
        },
        {
          "output_type": "display_data",
          "data": {
            "text/plain": [
              "'155: need  '"
            ],
            "application/vnd.google.colaboratory.intrinsic+json": {
              "type": "string"
            }
          },
          "metadata": {}
        },
        {
          "output_type": "display_data",
          "data": {
            "text/plain": [
              "'156: even  '"
            ],
            "application/vnd.google.colaboratory.intrinsic+json": {
              "type": "string"
            }
          },
          "metadata": {}
        },
        {
          "output_type": "display_data",
          "data": {
            "text/plain": [
              "'157: really  '"
            ],
            "application/vnd.google.colaboratory.intrinsic+json": {
              "type": "string"
            }
          },
          "metadata": {}
        },
        {
          "output_type": "display_data",
          "data": {
            "text/plain": [
              "'158: mh370  '"
            ],
            "application/vnd.google.colaboratory.intrinsic+json": {
              "type": "string"
            }
          },
          "metadata": {}
        },
        {
          "output_type": "display_data",
          "data": {
            "text/plain": [
              "'159: mass  '"
            ],
            "application/vnd.google.colaboratory.intrinsic+json": {
              "type": "string"
            }
          },
          "metadata": {}
        },
        {
          "output_type": "display_data",
          "data": {
            "text/plain": [
              "'160: help  '"
            ],
            "application/vnd.google.colaboratory.intrinsic+json": {
              "type": "string"
            }
          },
          "metadata": {}
        },
        {
          "output_type": "display_data",
          "data": {
            "text/plain": [
              "'161: death  '"
            ],
            "application/vnd.google.colaboratory.intrinsic+json": {
              "type": "string"
            }
          },
          "metadata": {}
        },
        {
          "output_type": "display_data",
          "data": {
            "text/plain": [
              "'162: army  '"
            ],
            "application/vnd.google.colaboratory.intrinsic+json": {
              "type": "string"
            }
          },
          "metadata": {}
        },
        {
          "output_type": "display_data",
          "data": {
            "text/plain": [
              "'163: am  '"
            ],
            "application/vnd.google.colaboratory.intrinsic+json": {
              "type": "string"
            }
          },
          "metadata": {}
        },
        {
          "output_type": "display_data",
          "data": {
            "text/plain": [
              "'164: please  '"
            ],
            "application/vnd.google.colaboratory.intrinsic+json": {
              "type": "string"
            }
          },
          "metadata": {}
        },
        {
          "output_type": "display_data",
          "data": {
            "text/plain": [
              "'165: lol  '"
            ],
            "application/vnd.google.colaboratory.intrinsic+json": {
              "type": "string"
            }
          },
          "metadata": {}
        },
        {
          "output_type": "display_data",
          "data": {
            "text/plain": [
              "'166: year  '"
            ],
            "application/vnd.google.colaboratory.intrinsic+json": {
              "type": "string"
            }
          },
          "metadata": {}
        },
        {
          "output_type": "display_data",
          "data": {
            "text/plain": [
              "'167: take  '"
            ],
            "application/vnd.google.colaboratory.intrinsic+json": {
              "type": "string"
            }
          },
          "metadata": {}
        },
        {
          "output_type": "display_data",
          "data": {
            "text/plain": [
              "'168: him  '"
            ],
            "application/vnd.google.colaboratory.intrinsic+json": {
              "type": "string"
            }
          },
          "metadata": {}
        },
        {
          "output_type": "display_data",
          "data": {
            "text/plain": [
              "'169: another  '"
            ],
            "application/vnd.google.colaboratory.intrinsic+json": {
              "type": "string"
            }
          },
          "metadata": {}
        },
        {
          "output_type": "display_data",
          "data": {
            "text/plain": [
              "'170: those  '"
            ],
            "application/vnd.google.colaboratory.intrinsic+json": {
              "type": "string"
            }
          },
          "metadata": {}
        },
        {
          "output_type": "display_data",
          "data": {
            "text/plain": [
              "'171: should  '"
            ],
            "application/vnd.google.colaboratory.intrinsic+json": {
              "type": "string"
            }
          },
          "metadata": {}
        },
        {
          "output_type": "display_data",
          "data": {
            "text/plain": [
              "'172: right  '"
            ],
            "application/vnd.google.colaboratory.intrinsic+json": {
              "type": "string"
            }
          },
          "metadata": {}
        },
        {
          "output_type": "display_data",
          "data": {
            "text/plain": [
              "'173: pm  '"
            ],
            "application/vnd.google.colaboratory.intrinsic+json": {
              "type": "string"
            }
          },
          "metadata": {}
        },
        {
          "output_type": "display_data",
          "data": {
            "text/plain": [
              "'174: bombing  '"
            ],
            "application/vnd.google.colaboratory.intrinsic+json": {
              "type": "string"
            }
          },
          "metadata": {}
        },
        {
          "output_type": "display_data",
          "data": {
            "text/plain": [
              "'175: youre  '"
            ],
            "application/vnd.google.colaboratory.intrinsic+json": {
              "type": "string"
            }
          },
          "metadata": {}
        },
        {
          "output_type": "display_data",
          "data": {
            "text/plain": [
              "'176: school  '"
            ],
            "application/vnd.google.colaboratory.intrinsic+json": {
              "type": "string"
            }
          },
          "metadata": {}
        },
        {
          "output_type": "display_data",
          "data": {
            "text/plain": [
              "'177: hot  '"
            ],
            "application/vnd.google.colaboratory.intrinsic+json": {
              "type": "string"
            }
          },
          "metadata": {}
        },
        {
          "output_type": "display_data",
          "data": {
            "text/plain": [
              "'178: black  '"
            ],
            "application/vnd.google.colaboratory.intrinsic+json": {
              "type": "string"
            }
          },
          "metadata": {}
        },
        {
          "output_type": "display_data",
          "data": {
            "text/plain": [
              "'179: 4  '"
            ],
            "application/vnd.google.colaboratory.intrinsic+json": {
              "type": "string"
            }
          },
          "metadata": {}
        },
        {
          "output_type": "display_data",
          "data": {
            "text/plain": [
              "'180: forest  '"
            ],
            "application/vnd.google.colaboratory.intrinsic+json": {
              "type": "string"
            }
          },
          "metadata": {}
        },
        {
          "output_type": "display_data",
          "data": {
            "text/plain": [
              "'181: fatal  '"
            ],
            "application/vnd.google.colaboratory.intrinsic+json": {
              "type": "string"
            }
          },
          "metadata": {}
        },
        {
          "output_type": "display_data",
          "data": {
            "text/plain": [
              "'182: northern  '"
            ],
            "application/vnd.google.colaboratory.intrinsic+json": {
              "type": "string"
            }
          },
          "metadata": {}
        },
        {
          "output_type": "display_data",
          "data": {
            "text/plain": [
              "'183: much  '"
            ],
            "application/vnd.google.colaboratory.intrinsic+json": {
              "type": "string"
            }
          },
          "metadata": {}
        },
        {
          "output_type": "display_data",
          "data": {
            "text/plain": [
              "'184: 5  '"
            ],
            "application/vnd.google.colaboratory.intrinsic+json": {
              "type": "string"
            }
          },
          "metadata": {}
        },
        {
          "output_type": "display_data",
          "data": {
            "text/plain": [
              "'185: 1  '"
            ],
            "application/vnd.google.colaboratory.intrinsic+json": {
              "type": "string"
            }
          },
          "metadata": {}
        },
        {
          "output_type": "display_data",
          "data": {
            "text/plain": [
              "'186: water  '"
            ],
            "application/vnd.google.colaboratory.intrinsic+json": {
              "type": "string"
            }
          },
          "metadata": {}
        },
        {
          "output_type": "display_data",
          "data": {
            "text/plain": [
              "'187: she  '"
            ],
            "application/vnd.google.colaboratory.intrinsic+json": {
              "type": "string"
            }
          },
          "metadata": {}
        },
        {
          "output_type": "display_data",
          "data": {
            "text/plain": [
              "'188: obama  '"
            ],
            "application/vnd.google.colaboratory.intrinsic+json": {
              "type": "string"
            }
          },
          "metadata": {}
        },
        {
          "output_type": "display_data",
          "data": {
            "text/plain": [
              "'189: let  '"
            ],
            "application/vnd.google.colaboratory.intrinsic+json": {
              "type": "string"
            }
          },
          "metadata": {}
        },
        {
          "output_type": "display_data",
          "data": {
            "text/plain": [
              "'190: legionnaires  '"
            ],
            "application/vnd.google.colaboratory.intrinsic+json": {
              "type": "string"
            }
          },
          "metadata": {}
        },
        {
          "output_type": "display_data",
          "data": {
            "text/plain": [
              "'191: great  '"
            ],
            "application/vnd.google.colaboratory.intrinsic+json": {
              "type": "string"
            }
          },
          "metadata": {}
        },
        {
          "output_type": "display_data",
          "data": {
            "text/plain": [
              "'192: wreck  '"
            ],
            "application/vnd.google.colaboratory.intrinsic+json": {
              "type": "string"
            }
          },
          "metadata": {}
        },
        {
          "output_type": "display_data",
          "data": {
            "text/plain": [
              "'193: never  '"
            ],
            "application/vnd.google.colaboratory.intrinsic+json": {
              "type": "string"
            }
          },
          "metadata": {}
        },
        {
          "output_type": "display_data",
          "data": {
            "text/plain": [
              "'194: homes  '"
            ],
            "application/vnd.google.colaboratory.intrinsic+json": {
              "type": "string"
            }
          },
          "metadata": {}
        },
        {
          "output_type": "display_data",
          "data": {
            "text/plain": [
              "'195: bomber  '"
            ],
            "application/vnd.google.colaboratory.intrinsic+json": {
              "type": "string"
            }
          },
          "metadata": {}
        },
        {
          "output_type": "display_data",
          "data": {
            "text/plain": [
              "'196: 2015  '"
            ],
            "application/vnd.google.colaboratory.intrinsic+json": {
              "type": "string"
            }
          },
          "metadata": {}
        },
        {
          "output_type": "display_data",
          "data": {
            "text/plain": [
              "'197: \\x89Û  '"
            ],
            "application/vnd.google.colaboratory.intrinsic+json": {
              "type": "string"
            }
          },
          "metadata": {}
        },
        {
          "output_type": "display_data",
          "data": {
            "text/plain": [
              "'198: live  '"
            ],
            "application/vnd.google.colaboratory.intrinsic+json": {
              "type": "string"
            }
          },
          "metadata": {}
        },
        {
          "output_type": "display_data",
          "data": {
            "text/plain": [
              "'199: latest  '"
            ],
            "application/vnd.google.colaboratory.intrinsic+json": {
              "type": "string"
            }
          },
          "metadata": {}
        }
      ],
      "source": [
        "vectorize_layer = tf.keras.layers.TextVectorization(\n",
        "    standardize=\"lower_and_strip_punctuation\",\n",
        "    split=\"whitespace\",\n",
        "    output_mode=\"int\",\n",
        "    max_tokens=200\n",
        ")\n",
        "\n",
        "vectorize_layer.adapt(complete_x)\n",
        "\n",
        "display(\"--Vocabulary--\")\n",
        "for i, token in enumerate(vectorize_layer.get_vocabulary()):\n",
        "  endline = '\\n' if i % 10 == 0 else ''\n",
        "  display(f\"{i}: {token}  \")\n"
      ]
    },
    {
      "cell_type": "code",
      "execution_count": 6,
      "metadata": {
        "id": "HgNwNNMfBLwR"
      },
      "outputs": [],
      "source": [
        "disaster_data = train_X[train_Y == 1]\n",
        "non_disaster_data = train_X[train_Y == 0]"
      ]
    },
    {
      "cell_type": "code",
      "execution_count": 7,
      "metadata": {
        "id": "WHvrQSaLBLwS"
      },
      "outputs": [],
      "source": [
        "from collections import Counter\n",
        "\n",
        "disaster_counter = Counter()\n",
        "for example in disaster_data:\n",
        "    disaster_counter.update(example.split(' '))\n",
        "\n",
        "non_disaster_counter = Counter()\n",
        "for example in non_disaster_data:\n",
        "    non_disaster_counter.update(example.split(' '))"
      ]
    },
    {
      "cell_type": "code",
      "execution_count": 8,
      "metadata": {
        "id": "D5oQKieJBLwS"
      },
      "outputs": [],
      "source": [
        "def plot_relevant_words(plot_title: str, counter_1: Counter, counter_2: Counter, color: str = \"skyblue\"):\n",
        "    common = counter_1 - counter_2\n",
        "    most_common = common.most_common(10)\n",
        "    common_words = np.array(most_common)[:,0]\n",
        "    count = np.array(most_common)[:,1].astype(int)\n",
        "    plt.bar(common_words, count, color=color)\n",
        "    plt.ylabel(\"frequency\")\n",
        "    plt.xlabel(\"word\")\n",
        "    plt.title(plot_title)\n",
        "    plt.show()"
      ]
    },
    {
      "cell_type": "markdown",
      "metadata": {
        "id": "E9y4dd74BLwT"
      },
      "source": [
        "### Relevant Words in Non-Disaster vs. Disaster Examples"
      ]
    },
    {
      "cell_type": "code",
      "execution_count": 9,
      "metadata": {
        "colab": {
          "base_uri": "https://localhost:8080/",
          "height": 472
        },
        "id": "WdmjsDNDBLwT",
        "outputId": "9cfd195d-c794-4fca-e812-dcc23e23b991"
      },
      "outputs": [
        {
          "output_type": "display_data",
          "data": {
            "text/plain": [
              "<Figure size 640x480 with 1 Axes>"
            ],
            "image/png": "[encoded data removed]"
          },
          "metadata": {}
        }
      ],
      "source": [
        "plot_relevant_words(\"Relevant words in disaster tweets\", disaster_counter, non_disaster_counter, color=\"firebrick\")"
      ]
    },
    {
      "cell_type": "code",
      "execution_count": 10,
      "metadata": {
        "colab": {
          "base_uri": "https://localhost:8080/",
          "height": 472
        },
        "id": "ewxM3w3nBLwU",
        "outputId": "89a84c50-6215-4810-f293-14bf2dc7e220"
      },
      "outputs": [
        {
          "output_type": "display_data",
          "data": {
            "text/plain": [
              "<Figure size 640x480 with 1 Axes>"
            ],
            "image/png": "[encoded data removed]"
          },
          "metadata": {}
        }
      ],
      "source": [
        "plot_relevant_words(\"Relevant words in non-disaster tweets\", non_disaster_counter, disaster_counter)"
      ]
    },
    {
      "cell_type": "markdown",
      "metadata": {
        "id": "vowkoCZnBLwU"
      },
      "source": [
        "The most relevant words for the disaster tweets make a lot of sense in relation to their classification, but non-disaster tweets are non-specific. This is possibly because non-disaster tweets can encompass any topic, which means they don't have certain words which are especially relevant to being \"non-disaster tweets\"."
      ]
    },
    {
      "cell_type": "markdown",
      "metadata": {
        "id": "uWKZaMTyBLwU"
      },
      "source": [
        "### Breakdown of Length of Disaster vs. Non-Disaster Tweets"
      ]
    },
    {
      "cell_type": "code",
      "execution_count": 11,
      "metadata": {
        "colab": {
          "base_uri": "https://localhost:8080/",
          "height": 428
        },
        "id": "PJAKU8hzBLwU",
        "outputId": "23dc7f0c-cda4-498f-82bd-7f4af1c3e11a"
      },
      "outputs": [
        {
          "output_type": "display_data",
          "data": {
            "text/plain": [
              "<Figure size 640x480 with 1 Axes>"
            ],
            "image/png": "[encoded data removed]"
          },
          "metadata": {}
        }
      ],
      "source": [
        "plt.pie([len(non_disaster_data), len(disaster_data)], labels = ['Non-Disasters', 'Disasters'], autopct='%1.1f%%', colors=[\"skyblue\", \"firebrick\"])\n",
        "plt.title('Length of Disaster Data vs Non-Disaster Data')\n",
        "plt.show()"
      ]
    },
    {
      "cell_type": "markdown",
      "metadata": {
        "id": "UqZE1qW0BLwV"
      },
      "source": [
        "It looks like we have slightly more non-disaster tweets compared to disaster tweets, which could skew our model somehow if we're not careful."
      ]
    },
    {
      "cell_type": "markdown",
      "metadata": {
        "id": "oAVm253xBLwV"
      },
      "source": [
        "### Breakdown of `keywords` in Disaster and Non-Disaster Tweets"
      ]
    },
    {
      "cell_type": "code",
      "execution_count": 12,
      "metadata": {
        "colab": {
          "base_uri": "https://localhost:8080/"
        },
        "id": "OK1r_L1nBLwV",
        "outputId": "b0122407-d523-428c-9b99-dd8f43fa1597"
      },
      "outputs": [
        {
          "output_type": "execute_result",
          "data": {
            "text/plain": [
              "Counter({'ablaze': 36,\n",
              "         'accident': 35,\n",
              "         'aftershock': 34,\n",
              "         'airplane%20accident': 35,\n",
              "         'ambulance': 38,\n",
              "         'annihilated': 34,\n",
              "         'annihilation': 29,\n",
              "         'apocalypse': 32,\n",
              "         'armageddon': 42,\n",
              "         'army': 34,\n",
              "         'arson': 32,\n",
              "         'arsonist': 34,\n",
              "         'attack': 36,\n",
              "         'attacked': 35,\n",
              "         'avalanche': 30,\n",
              "         'battle': 26,\n",
              "         'bioterror': 37,\n",
              "         'bioterrorism': 30,\n",
              "         'blaze': 38,\n",
              "         'blazing': 34,\n",
              "         'bleeding': 35,\n",
              "         'blew%20up': 33,\n",
              "         'blight': 32,\n",
              "         'blizzard': 37,\n",
              "         'blood': 35,\n",
              "         'bloody': 35,\n",
              "         'blown%20up': 33,\n",
              "         'body%20bag': 33,\n",
              "         'body%20bagging': 33,\n",
              "         'body%20bags': 41,\n",
              "         'bomb': 34,\n",
              "         'bombed': 38,\n",
              "         'bombing': 29,\n",
              "         'bridge%20collapse': 35,\n",
              "         'buildings%20burning': 35,\n",
              "         'buildings%20on%20fire': 33,\n",
              "         'burned': 33,\n",
              "         'burning': 34,\n",
              "         'burning%20buildings': 37,\n",
              "         'bush%20fires': 25,\n",
              "         'casualties': 35,\n",
              "         'casualty': 34,\n",
              "         'catastrophe': 36,\n",
              "         'catastrophic': 30,\n",
              "         'chemical%20emergency': 33,\n",
              "         'cliff%20fall': 36,\n",
              "         'collapse': 34,\n",
              "         'collapsed': 35,\n",
              "         'collide': 34,\n",
              "         'collided': 40,\n",
              "         'collision': 39,\n",
              "         'crash': 33,\n",
              "         'crashed': 34,\n",
              "         'crush': 37,\n",
              "         'crushed': 31,\n",
              "         'curfew': 37,\n",
              "         'cyclone': 32,\n",
              "         'damage': 41,\n",
              "         'danger': 36,\n",
              "         'dead': 30,\n",
              "         'death': 36,\n",
              "         'deaths': 38,\n",
              "         'debris': 37,\n",
              "         'deluge': 42,\n",
              "         'deluged': 27,\n",
              "         'demolish': 34,\n",
              "         'demolished': 28,\n",
              "         'demolition': 35,\n",
              "         'derail': 35,\n",
              "         'derailed': 38,\n",
              "         'derailment': 39,\n",
              "         'desolate': 29,\n",
              "         'desolation': 36,\n",
              "         'destroy': 37,\n",
              "         'destroyed': 32,\n",
              "         'destruction': 34,\n",
              "         'detonate': 36,\n",
              "         'detonation': 32,\n",
              "         'devastated': 31,\n",
              "         'devastation': 36,\n",
              "         'disaster': 35,\n",
              "         'displaced': 36,\n",
              "         'drought': 35,\n",
              "         'drown': 32,\n",
              "         'drowned': 38,\n",
              "         'drowning': 34,\n",
              "         'dust%20storm': 36,\n",
              "         'earthquake': 39,\n",
              "         'electrocute': 32,\n",
              "         'electrocuted': 34,\n",
              "         'emergency': 37,\n",
              "         'emergency%20plan': 35,\n",
              "         'emergency%20services': 33,\n",
              "         'engulfed': 36,\n",
              "         'epicentre': 12,\n",
              "         'evacuate': 40,\n",
              "         'evacuated': 36,\n",
              "         'evacuation': 36,\n",
              "         'explode': 38,\n",
              "         'exploded': 33,\n",
              "         'explosion': 39,\n",
              "         'eyewitness': 32,\n",
              "         'famine': 39,\n",
              "         'fatal': 38,\n",
              "         'fatalities': 45,\n",
              "         'fatality': 37,\n",
              "         'fear': 40,\n",
              "         'fire': 38,\n",
              "         'fire%20truck': 33,\n",
              "         'first%20responders': 29,\n",
              "         'flames': 39,\n",
              "         'flattened': 34,\n",
              "         'flood': 35,\n",
              "         'flooding': 38,\n",
              "         'floods': 36,\n",
              "         'forest%20fire': 19,\n",
              "         'forest%20fires': 32,\n",
              "         'hail': 35,\n",
              "         'hailstorm': 32,\n",
              "         'harm': 41,\n",
              "         'hazard': 34,\n",
              "         'hazardous': 35,\n",
              "         'heat%20wave': 34,\n",
              "         'hellfire': 39,\n",
              "         'hijack': 33,\n",
              "         'hijacker': 35,\n",
              "         'hijacking': 32,\n",
              "         'hostage': 31,\n",
              "         'hostages': 37,\n",
              "         'hurricane': 38,\n",
              "         'injured': 35,\n",
              "         'injuries': 33,\n",
              "         'injury': 38,\n",
              "         'inundated': 35,\n",
              "         'inundation': 10,\n",
              "         'landslide': 33,\n",
              "         'lava': 34,\n",
              "         'lightning': 33,\n",
              "         'loud%20bang': 34,\n",
              "         'mass%20murder': 33,\n",
              "         'mass%20murderer': 32,\n",
              "         'massacre': 36,\n",
              "         'mayhem': 30,\n",
              "         'meltdown': 33,\n",
              "         'military': 34,\n",
              "         'mudslide': 37,\n",
              "         'natural%20disaster': 34,\n",
              "         'nuclear%20disaster': 34,\n",
              "         'nuclear%20reactor': 36,\n",
              "         'obliterate': 31,\n",
              "         'obliterated': 31,\n",
              "         'obliteration': 29,\n",
              "         'oil%20spill': 38,\n",
              "         'outbreak': 40,\n",
              "         'pandemonium': 37,\n",
              "         'panic': 37,\n",
              "         'panicking': 33,\n",
              "         'police': 37,\n",
              "         'quarantine': 34,\n",
              "         'quarantined': 37,\n",
              "         'radiation%20emergency': 9,\n",
              "         'rainstorm': 34,\n",
              "         'razed': 35,\n",
              "         'refugees': 36,\n",
              "         'rescue': 22,\n",
              "         'rescued': 35,\n",
              "         'rescuers': 35,\n",
              "         'riot': 34,\n",
              "         'rioting': 35,\n",
              "         'rubble': 28,\n",
              "         'ruin': 37,\n",
              "         'sandstorm': 37,\n",
              "         'screamed': 34,\n",
              "         'screaming': 36,\n",
              "         'screams': 35,\n",
              "         'seismic': 29,\n",
              "         'sinkhole': 39,\n",
              "         'sinking': 41,\n",
              "         'siren': 40,\n",
              "         'sirens': 29,\n",
              "         'smoke': 34,\n",
              "         'snowstorm': 29,\n",
              "         'storm': 35,\n",
              "         'stretcher': 33,\n",
              "         'structural%20failure': 35,\n",
              "         'suicide%20bomb': 35,\n",
              "         'suicide%20bomber': 31,\n",
              "         'suicide%20bombing': 33,\n",
              "         'sunk': 39,\n",
              "         'survive': 32,\n",
              "         'survived': 33,\n",
              "         'survivors': 30,\n",
              "         'terrorism': 34,\n",
              "         'terrorist': 31,\n",
              "         'threat': 11,\n",
              "         'thunder': 38,\n",
              "         'thunderstorm': 33,\n",
              "         'tornado': 35,\n",
              "         'tragedy': 36,\n",
              "         'trapped': 32,\n",
              "         'trauma': 31,\n",
              "         'traumatised': 35,\n",
              "         'trouble': 33,\n",
              "         'tsunami': 34,\n",
              "         'twister': 40,\n",
              "         'typhoon': 38,\n",
              "         'upheaval': 38,\n",
              "         'violent%20storm': 33,\n",
              "         'volcano': 27,\n",
              "         'war%20zone': 24,\n",
              "         'weapon': 39,\n",
              "         'weapons': 39,\n",
              "         'whirlwind': 39,\n",
              "         'wild%20fires': 31,\n",
              "         'wildfire': 33,\n",
              "         'windstorm': 40,\n",
              "         'wounded': 37,\n",
              "         'wounds': 33,\n",
              "         'wreck': 37,\n",
              "         'wreckage': 39,\n",
              "         'wrecked': 39})"
            ]
          },
          "metadata": {},
          "execution_count": 12
        }
      ],
      "source": [
        "Counter(train_data['keyword'].dropna())"
      ]
    },
    {
      "cell_type": "code",
      "execution_count": 13,
      "metadata": {
        "colab": {
          "base_uri": "https://localhost:8080/"
        },
        "id": "ugBpigJjBLwV",
        "outputId": "38999323-95b9-4b60-99ef-0bc023acd5a9"
      },
      "outputs": [
        {
          "output_type": "execute_result",
          "data": {
            "text/plain": [
              "Counter({'ablaze': 13,\n",
              "         'accident': 24,\n",
              "         'airplane%20accident': 30,\n",
              "         'ambulance': 20,\n",
              "         'annihilated': 11,\n",
              "         'annihilation': 10,\n",
              "         'apocalypse': 9,\n",
              "         'armageddon': 5,\n",
              "         'army': 5,\n",
              "         'arson': 22,\n",
              "         'arsonist': 8,\n",
              "         'attack': 25,\n",
              "         'attacked': 21,\n",
              "         'avalanche': 4,\n",
              "         'battle': 5,\n",
              "         'bioterror': 22,\n",
              "         'bioterrorism': 21,\n",
              "         'blaze': 5,\n",
              "         'blazing': 1,\n",
              "         'bleeding': 5,\n",
              "         'blew%20up': 2,\n",
              "         'blight': 2,\n",
              "         'blizzard': 4,\n",
              "         'blood': 5,\n",
              "         'bloody': 3,\n",
              "         'blown%20up': 5,\n",
              "         'body%20bag': 1,\n",
              "         'body%20bagging': 5,\n",
              "         'body%20bags': 1,\n",
              "         'bomb': 15,\n",
              "         'bombed': 19,\n",
              "         'bombing': 27,\n",
              "         'bridge%20collapse': 29,\n",
              "         'buildings%20burning': 24,\n",
              "         'buildings%20on%20fire': 28,\n",
              "         'burned': 7,\n",
              "         'burning': 10,\n",
              "         'burning%20buildings': 21,\n",
              "         'bush%20fires': 18,\n",
              "         'casualties': 28,\n",
              "         'casualty': 15,\n",
              "         'catastrophe': 7,\n",
              "         'catastrophic': 20,\n",
              "         'chemical%20emergency': 15,\n",
              "         'cliff%20fall': 8,\n",
              "         'collapse': 15,\n",
              "         'collapsed': 13,\n",
              "         'collide': 3,\n",
              "         'collided': 23,\n",
              "         'collision': 29,\n",
              "         'crash': 12,\n",
              "         'crashed': 21,\n",
              "         'crush': 4,\n",
              "         'crushed': 4,\n",
              "         'curfew': 5,\n",
              "         'cyclone': 19,\n",
              "         'damage': 19,\n",
              "         'danger': 8,\n",
              "         'dead': 7,\n",
              "         'death': 9,\n",
              "         'deaths': 26,\n",
              "         'debris': 37,\n",
              "         'deluge': 6,\n",
              "         'deluged': 7,\n",
              "         'demolish': 5,\n",
              "         'demolished': 7,\n",
              "         'demolition': 9,\n",
              "         'derail': 17,\n",
              "         'derailed': 26,\n",
              "         'derailment': 39,\n",
              "         'desolate': 7,\n",
              "         'desolation': 7,\n",
              "         'destroy': 9,\n",
              "         'destroyed': 8,\n",
              "         'destruction': 6,\n",
              "         'detonate': 10,\n",
              "         'detonation': 9,\n",
              "         'devastated': 18,\n",
              "         'devastation': 27,\n",
              "         'disaster': 15,\n",
              "         'displaced': 26,\n",
              "         'drought': 28,\n",
              "         'drown': 3,\n",
              "         'drowned': 15,\n",
              "         'drowning': 9,\n",
              "         'dust%20storm': 24,\n",
              "         'earthquake': 30,\n",
              "         'electrocute': 1,\n",
              "         'electrocuted': 13,\n",
              "         'emergency': 14,\n",
              "         'emergency%20plan': 21,\n",
              "         'emergency%20services': 11,\n",
              "         'engulfed': 19,\n",
              "         'epicentre': 1,\n",
              "         'evacuate': 25,\n",
              "         'evacuated': 32,\n",
              "         'evacuation': 28,\n",
              "         'explode': 3,\n",
              "         'exploded': 9,\n",
              "         'explosion': 20,\n",
              "         'eyewitness': 12,\n",
              "         'famine': 26,\n",
              "         'fatal': 26,\n",
              "         'fatalities': 26,\n",
              "         'fatality': 10,\n",
              "         'fear': 5,\n",
              "         'fire': 11,\n",
              "         'fire%20truck': 22,\n",
              "         'first%20responders': 12,\n",
              "         'flames': 13,\n",
              "         'flattened': 5,\n",
              "         'flood': 15,\n",
              "         'flooding': 25,\n",
              "         'floods': 26,\n",
              "         'forest%20fire': 15,\n",
              "         'forest%20fires': 27,\n",
              "         'hail': 18,\n",
              "         'hailstorm': 24,\n",
              "         'harm': 4,\n",
              "         'hazard': 7,\n",
              "         'hazardous': 22,\n",
              "         'heat%20wave': 25,\n",
              "         'hellfire': 7,\n",
              "         'hijack': 16,\n",
              "         'hijacker': 19,\n",
              "         'hijacking': 15,\n",
              "         'hostage': 15,\n",
              "         'hostages': 27,\n",
              "         'hurricane': 20,\n",
              "         'injured': 24,\n",
              "         'injuries': 9,\n",
              "         'injury': 11,\n",
              "         'inundated': 6,\n",
              "         'inundation': 2,\n",
              "         'landslide': 14,\n",
              "         'lava': 5,\n",
              "         'lightning': 17,\n",
              "         'loud%20bang': 7,\n",
              "         'mass%20murder': 28,\n",
              "         'mass%20murderer': 19,\n",
              "         'massacre': 25,\n",
              "         'mayhem': 3,\n",
              "         'meltdown': 5,\n",
              "         'military': 8,\n",
              "         'mudslide': 12,\n",
              "         'natural%20disaster': 18,\n",
              "         'nuclear%20disaster': 31,\n",
              "         'nuclear%20reactor': 14,\n",
              "         'obliterate': 4,\n",
              "         'obliterated': 4,\n",
              "         'obliteration': 4,\n",
              "         'oil%20spill': 37,\n",
              "         'outbreak': 39,\n",
              "         'pandemonium': 8,\n",
              "         'panic': 3,\n",
              "         'panicking': 2,\n",
              "         'police': 21,\n",
              "         'quarantine': 5,\n",
              "         'quarantined': 14,\n",
              "         'radiation%20emergency': 5,\n",
              "         'rainstorm': 18,\n",
              "         'razed': 31,\n",
              "         'refugees': 22,\n",
              "         'rescue': 5,\n",
              "         'rescued': 17,\n",
              "         'rescuers': 32,\n",
              "         'riot': 6,\n",
              "         'rioting': 23,\n",
              "         'rubble': 10,\n",
              "         'ruin': 1,\n",
              "         'sandstorm': 28,\n",
              "         'screamed': 4,\n",
              "         'screaming': 2,\n",
              "         'screams': 5,\n",
              "         'seismic': 13,\n",
              "         'sinkhole': 27,\n",
              "         'sinking': 8,\n",
              "         'siren': 5,\n",
              "         'sirens': 7,\n",
              "         'smoke': 3,\n",
              "         'snowstorm': 13,\n",
              "         'storm': 18,\n",
              "         'stretcher': 3,\n",
              "         'structural%20failure': 23,\n",
              "         'suicide%20bomb': 32,\n",
              "         'suicide%20bomber': 30,\n",
              "         'suicide%20bombing': 32,\n",
              "         'sunk': 9,\n",
              "         'survive': 5,\n",
              "         'survived': 10,\n",
              "         'survivors': 21,\n",
              "         'terrorism': 24,\n",
              "         'terrorist': 23,\n",
              "         'threat': 2,\n",
              "         'thunder': 12,\n",
              "         'thunderstorm': 26,\n",
              "         'tornado': 16,\n",
              "         'tragedy': 22,\n",
              "         'trapped': 9,\n",
              "         'trauma': 11,\n",
              "         'traumatised': 2,\n",
              "         'trouble': 5,\n",
              "         'tsunami': 11,\n",
              "         'twister': 5,\n",
              "         'typhoon': 37,\n",
              "         'upheaval': 6,\n",
              "         'violent%20storm': 26,\n",
              "         'volcano': 18,\n",
              "         'war%20zone': 7,\n",
              "         'weapon': 14,\n",
              "         'weapons': 17,\n",
              "         'whirlwind': 14,\n",
              "         'wild%20fires': 27,\n",
              "         'wildfire': 29,\n",
              "         'windstorm': 16,\n",
              "         'wounded': 26,\n",
              "         'wounds': 10,\n",
              "         'wreck': 7,\n",
              "         'wreckage': 39,\n",
              "         'wrecked': 3})"
            ]
          },
          "metadata": {},
          "execution_count": 13
        }
      ],
      "source": [
        "Counter(train_data[train_data['target'] == 1]['keyword'].dropna())"
      ]
    },
    {
      "cell_type": "code",
      "execution_count": 14,
      "metadata": {
        "colab": {
          "base_uri": "https://localhost:8080/"
        },
        "id": "OcKhTzmNBLwW",
        "outputId": "8423d117-34b1-460e-954a-fb14cc70fe0e"
      },
      "outputs": [
        {
          "output_type": "execute_result",
          "data": {
            "text/plain": [
              "Counter({'ablaze': 23,\n",
              "         'accident': 11,\n",
              "         'aftershock': 34,\n",
              "         'airplane%20accident': 5,\n",
              "         'ambulance': 18,\n",
              "         'annihilated': 23,\n",
              "         'annihilation': 19,\n",
              "         'apocalypse': 23,\n",
              "         'armageddon': 37,\n",
              "         'army': 29,\n",
              "         'arson': 10,\n",
              "         'arsonist': 26,\n",
              "         'attack': 11,\n",
              "         'attacked': 14,\n",
              "         'avalanche': 26,\n",
              "         'battle': 21,\n",
              "         'bioterror': 15,\n",
              "         'bioterrorism': 9,\n",
              "         'blaze': 33,\n",
              "         'blazing': 33,\n",
              "         'bleeding': 30,\n",
              "         'blew%20up': 31,\n",
              "         'blight': 30,\n",
              "         'blizzard': 33,\n",
              "         'blood': 30,\n",
              "         'bloody': 32,\n",
              "         'blown%20up': 28,\n",
              "         'body%20bag': 32,\n",
              "         'body%20bagging': 28,\n",
              "         'body%20bags': 40,\n",
              "         'bomb': 19,\n",
              "         'bombed': 19,\n",
              "         'bombing': 2,\n",
              "         'bridge%20collapse': 6,\n",
              "         'buildings%20burning': 11,\n",
              "         'buildings%20on%20fire': 5,\n",
              "         'burned': 26,\n",
              "         'burning': 24,\n",
              "         'burning%20buildings': 16,\n",
              "         'bush%20fires': 7,\n",
              "         'casualties': 7,\n",
              "         'casualty': 19,\n",
              "         'catastrophe': 29,\n",
              "         'catastrophic': 10,\n",
              "         'chemical%20emergency': 18,\n",
              "         'cliff%20fall': 28,\n",
              "         'collapse': 19,\n",
              "         'collapsed': 22,\n",
              "         'collide': 31,\n",
              "         'collided': 17,\n",
              "         'collision': 10,\n",
              "         'crash': 21,\n",
              "         'crashed': 13,\n",
              "         'crush': 33,\n",
              "         'crushed': 27,\n",
              "         'curfew': 32,\n",
              "         'cyclone': 13,\n",
              "         'damage': 22,\n",
              "         'danger': 28,\n",
              "         'dead': 23,\n",
              "         'death': 27,\n",
              "         'deaths': 12,\n",
              "         'deluge': 36,\n",
              "         'deluged': 20,\n",
              "         'demolish': 29,\n",
              "         'demolished': 21,\n",
              "         'demolition': 26,\n",
              "         'derail': 18,\n",
              "         'derailed': 12,\n",
              "         'desolate': 22,\n",
              "         'desolation': 29,\n",
              "         'destroy': 28,\n",
              "         'destroyed': 24,\n",
              "         'destruction': 28,\n",
              "         'detonate': 26,\n",
              "         'detonation': 23,\n",
              "         'devastated': 13,\n",
              "         'devastation': 9,\n",
              "         'disaster': 20,\n",
              "         'displaced': 10,\n",
              "         'drought': 7,\n",
              "         'drown': 29,\n",
              "         'drowned': 23,\n",
              "         'drowning': 25,\n",
              "         'dust%20storm': 12,\n",
              "         'earthquake': 9,\n",
              "         'electrocute': 31,\n",
              "         'electrocuted': 21,\n",
              "         'emergency': 23,\n",
              "         'emergency%20plan': 14,\n",
              "         'emergency%20services': 22,\n",
              "         'engulfed': 17,\n",
              "         'epicentre': 11,\n",
              "         'evacuate': 15,\n",
              "         'evacuated': 4,\n",
              "         'evacuation': 8,\n",
              "         'explode': 35,\n",
              "         'exploded': 24,\n",
              "         'explosion': 19,\n",
              "         'eyewitness': 20,\n",
              "         'famine': 13,\n",
              "         'fatal': 12,\n",
              "         'fatalities': 19,\n",
              "         'fatality': 27,\n",
              "         'fear': 35,\n",
              "         'fire': 27,\n",
              "         'fire%20truck': 11,\n",
              "         'first%20responders': 17,\n",
              "         'flames': 26,\n",
              "         'flattened': 29,\n",
              "         'flood': 20,\n",
              "         'flooding': 13,\n",
              "         'floods': 10,\n",
              "         'forest%20fire': 4,\n",
              "         'forest%20fires': 5,\n",
              "         'hail': 17,\n",
              "         'hailstorm': 8,\n",
              "         'harm': 37,\n",
              "         'hazard': 27,\n",
              "         'hazardous': 13,\n",
              "         'heat%20wave': 9,\n",
              "         'hellfire': 32,\n",
              "         'hijack': 17,\n",
              "         'hijacker': 16,\n",
              "         'hijacking': 17,\n",
              "         'hostage': 16,\n",
              "         'hostages': 10,\n",
              "         'hurricane': 18,\n",
              "         'injured': 11,\n",
              "         'injuries': 24,\n",
              "         'injury': 27,\n",
              "         'inundated': 29,\n",
              "         'inundation': 8,\n",
              "         'landslide': 19,\n",
              "         'lava': 29,\n",
              "         'lightning': 16,\n",
              "         'loud%20bang': 27,\n",
              "         'mass%20murder': 5,\n",
              "         'mass%20murderer': 13,\n",
              "         'massacre': 11,\n",
              "         'mayhem': 27,\n",
              "         'meltdown': 28,\n",
              "         'military': 26,\n",
              "         'mudslide': 25,\n",
              "         'natural%20disaster': 16,\n",
              "         'nuclear%20disaster': 3,\n",
              "         'nuclear%20reactor': 22,\n",
              "         'obliterate': 27,\n",
              "         'obliterated': 27,\n",
              "         'obliteration': 25,\n",
              "         'oil%20spill': 1,\n",
              "         'outbreak': 1,\n",
              "         'pandemonium': 29,\n",
              "         'panic': 34,\n",
              "         'panicking': 31,\n",
              "         'police': 16,\n",
              "         'quarantine': 29,\n",
              "         'quarantined': 23,\n",
              "         'radiation%20emergency': 4,\n",
              "         'rainstorm': 16,\n",
              "         'razed': 4,\n",
              "         'refugees': 14,\n",
              "         'rescue': 17,\n",
              "         'rescued': 18,\n",
              "         'rescuers': 3,\n",
              "         'riot': 28,\n",
              "         'rioting': 12,\n",
              "         'rubble': 18,\n",
              "         'ruin': 36,\n",
              "         'sandstorm': 9,\n",
              "         'screamed': 30,\n",
              "         'screaming': 34,\n",
              "         'screams': 30,\n",
              "         'seismic': 16,\n",
              "         'sinkhole': 12,\n",
              "         'sinking': 33,\n",
              "         'siren': 35,\n",
              "         'sirens': 22,\n",
              "         'smoke': 31,\n",
              "         'snowstorm': 16,\n",
              "         'storm': 17,\n",
              "         'stretcher': 30,\n",
              "         'structural%20failure': 12,\n",
              "         'suicide%20bomb': 3,\n",
              "         'suicide%20bomber': 1,\n",
              "         'suicide%20bombing': 1,\n",
              "         'sunk': 30,\n",
              "         'survive': 27,\n",
              "         'survived': 23,\n",
              "         'survivors': 9,\n",
              "         'terrorism': 10,\n",
              "         'terrorist': 8,\n",
              "         'threat': 9,\n",
              "         'thunder': 26,\n",
              "         'thunderstorm': 7,\n",
              "         'tornado': 19,\n",
              "         'tragedy': 14,\n",
              "         'trapped': 23,\n",
              "         'trauma': 20,\n",
              "         'traumatised': 33,\n",
              "         'trouble': 28,\n",
              "         'tsunami': 23,\n",
              "         'twister': 35,\n",
              "         'typhoon': 1,\n",
              "         'upheaval': 32,\n",
              "         'violent%20storm': 7,\n",
              "         'volcano': 9,\n",
              "         'war%20zone': 17,\n",
              "         'weapon': 25,\n",
              "         'weapons': 22,\n",
              "         'whirlwind': 25,\n",
              "         'wild%20fires': 4,\n",
              "         'wildfire': 4,\n",
              "         'windstorm': 24,\n",
              "         'wounded': 11,\n",
              "         'wounds': 23,\n",
              "         'wreck': 30,\n",
              "         'wrecked': 36})"
            ]
          },
          "metadata": {},
          "execution_count": 14
        }
      ],
      "source": [
        "Counter(train_data[train_data['target'] == 0]['keyword'].dropna())"
      ]
    },
    {
      "cell_type": "markdown",
      "metadata": {
        "id": "w9bflHrUBLwW"
      },
      "source": [
        "Oddly enough - the key words in disaster and non-disaster tweets are similar. It's possible the keywords of this dataset are considered \"sensitive\" words, in which case they are relevant in both non-disaster and disaster tweets, but depending on the context can determine the classification of the example. In one instance 'lava' can be considered a keyword, but in the context of non-disaster tweets, 'lava lamp' could be a phrase and this would be no indication of a disaster tweet."
      ]
    },
    {
      "cell_type": "markdown",
      "metadata": {
        "id": "7WJNW2lABLwW"
      },
      "source": []
    },
    {
      "cell_type": "markdown",
      "metadata": {
        "id": "GcX0y6TGBLwW"
      },
      "source": [
        "# Final Project - Models"
      ]
    },
    {
      "cell_type": "code",
      "execution_count": 15,
      "metadata": {
        "id": "uklnHTRxBLwW"
      },
      "outputs": [],
      "source": [
        "def pad_data(sequences, max_length):\n",
        "  # Keras has a convenient utility for padding a sequence.\n",
        "  # Also make sure we get a numpy array rather than an array of lists.\n",
        "  return np.array(list(\n",
        "      tf.keras.preprocessing.sequence.pad_sequences(\n",
        "          sequences, maxlen=max_length, padding='post', value=0)))"
      ]
    },
    {
      "cell_type": "code",
      "execution_count": 20,
      "metadata": {
        "id": "V61RgT3lISqc"
      },
      "outputs": [],
      "source": [
        "def get_vectorize_layer(train_X, max_vocab_size = 1000, max_tweet_length = 350):\n",
        "\n",
        "  layer = tf.keras.layers.TextVectorization(\n",
        "      max_tokens=max_vocab_size, # Maximum vocabulary size (None -> no cap)\n",
        "      standardize='lower_and_strip_punctuation', # Standarization to apply to text (None -> no standarization)\n",
        "      split='whitespace', # Values can be None (no splitting), \"whitespace\", or a Callable\n",
        "      output_mode='int',  # Values can be \"int\", \"multi_hot\", \"count\" or \"tf_idf\"\n",
        "      output_sequence_length=max_tweet_length, # Only valid in INT mode. If set, the output will have its time dimension padded or truncated to exactly output_sequence_length values\n",
        "      )\n",
        "\n",
        "  layer.adapt(train_X)\n",
        "\n",
        "  return layer"
      ]
    },
    {
      "cell_type": "code",
      "execution_count": 24,
      "metadata": {
        "id": "SD71468fBnq-"
      },
      "outputs": [],
      "source": [
        "def build_RNN(v_layer, embedding_dims=100, LSTM_units=[64, 32], max_tweet_length=350):\n",
        "  model = tf.keras.Sequential()\n",
        "\n",
        "  model.add(v_layer)\n",
        "\n",
        "  model.add(tf.keras.layers.Embedding(input_dim=1000,\n",
        "                                                output_dim=embedding_dims))\n",
        "\n",
        "  model.add(\n",
        "      tf.keras.layers.Bidirectional(tf.keras.layers.LSTM(LSTM_units[0], return_sequences=True))\n",
        "  )\n",
        "  model.add(tf.keras.layers.Bidirectional(tf.keras.layers.LSTM(LSTM_units[1])))\n",
        "\n",
        "  model.add(tf.keras.layers.Dense(10, activation='relu'))\n",
        "\n",
        "  model.add(tf.keras.layers.Dense(1, activation='sigmoid'))\n",
        "\n",
        "  model.compile(loss='binary_crossentropy',\n",
        "                optimizer='adam',\n",
        "                metrics=['accuracy'])\n",
        "\n",
        "  return model"
      ]
    },
    {
      "cell_type": "code",
      "execution_count": 25,
      "metadata": {
        "colab": {
          "base_uri": "https://localhost:8080/"
        },
        "id": "IT7AMrHZGVr_",
        "outputId": "7ad0743f-c01c-4a44-d12b-76bd6c3c915c"
      },
      "outputs": [
        {
          "output_type": "stream",
          "name": "stdout",
          "text": [
            "Epoch 1/15\n",
            "191/191 [==============================] - 55s 256ms/step - loss: 0.5531 - accuracy: 0.7126\n",
            "Epoch 2/15\n",
            "191/191 [==============================] - 49s 257ms/step - loss: 0.4212 - accuracy: 0.8182\n",
            "Epoch 3/15\n",
            "191/191 [==============================] - 49s 255ms/step - loss: 0.3852 - accuracy: 0.8419\n",
            "Epoch 4/15\n",
            "191/191 [==============================] - 49s 257ms/step - loss: 0.3616 - accuracy: 0.8489\n",
            "Epoch 5/15\n",
            "191/191 [==============================] - 49s 256ms/step - loss: 0.3323 - accuracy: 0.8691\n",
            "Epoch 6/15\n",
            "191/191 [==============================] - 49s 256ms/step - loss: 0.3063 - accuracy: 0.8778\n",
            "Epoch 7/15\n",
            "191/191 [==============================] - 49s 257ms/step - loss: 0.2818 - accuracy: 0.8915\n",
            "Epoch 8/15\n",
            "191/191 [==============================] - 49s 256ms/step - loss: 0.2558 - accuracy: 0.8975\n",
            "Epoch 9/15\n",
            "191/191 [==============================] - 48s 252ms/step - loss: 0.2457 - accuracy: 0.9008\n",
            "Epoch 10/15\n",
            "191/191 [==============================] - 49s 256ms/step - loss: 0.2260 - accuracy: 0.9092\n",
            "Epoch 11/15\n",
            "191/191 [==============================] - 49s 256ms/step - loss: 0.2078 - accuracy: 0.9148\n",
            "Epoch 12/15\n",
            "191/191 [==============================] - 49s 256ms/step - loss: 0.1901 - accuracy: 0.9205\n",
            "Epoch 13/15\n",
            "191/191 [==============================] - 49s 257ms/step - loss: 0.1748 - accuracy: 0.9286\n",
            "Epoch 14/15\n",
            "191/191 [==============================] - 48s 253ms/step - loss: 0.1577 - accuracy: 0.9322\n",
            "Epoch 15/15\n",
            "191/191 [==============================] - 49s 255ms/step - loss: 0.1593 - accuracy: 0.9315\n"
          ]
        }
      ],
      "source": [
        "trainn = np.array(train_X)[:,0]\n",
        "\n",
        "v_layer = get_vectorize_layer(trainn)\n",
        "model = build_RNN(v_layer)\n",
        "\n",
        "history = model.fit(\n",
        "  x = train_X,  # our sparse padded training data\n",
        "  y = train_Y,  # corresponding binary labels\n",
        "  epochs=15,    # number of passes through the training data\n",
        "  verbose=1     # display some progress output during training\n",
        "  )\n",
        "\n"
      ]
    },
    {
      "cell_type": "code",
      "execution_count": null,
      "metadata": {
        "id": "bg84I8YIyr4k"
      },
      "outputs": [],
      "source": []
    },
    {
      "cell_type": "markdown",
      "metadata": {
        "id": "SXQIYPtcBLwW"
      },
      "source": []
    }
  ],
  "metadata": {
    "colab": {
      "provenance": [],
      "gpuType": "V28"
    },
    "kernelspec": {
      "display_name": "Python 3",
      "name": "python3"
    },
    "language_info": {
      "codemirror_mode": {
        "name": "ipython",
        "version": 3
      },
      "file_extension": ".py",
      "mimetype": "text/x-python",
      "name": "python",
      "nbconvert_exporter": "python",
      "pygments_lexer": "ipython3",
      "version": "3.11.6"
    },
    "accelerator": "TPU"
  },
  "nbformat": 4,
  "nbformat_minor": 0
}